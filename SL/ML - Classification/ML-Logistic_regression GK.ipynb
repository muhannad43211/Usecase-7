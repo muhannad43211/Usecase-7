{
 "cells": [
  {
   "cell_type": "code",
   "execution_count": 742,
   "id": "e69c4ba1-85f3-4a02-ae37-c64347a01803",
   "metadata": {},
   "outputs": [],
   "source": [
    "# To ignore warnings\n",
    "import warnings\n",
    "warnings.filterwarnings(\"ignore\")\n",
    "import pandas as pd\n",
    "import numpy as np\n",
    "import nbformat\n",
    "import matplotlib.pyplot as plt\n",
    "import seaborn as sns\n",
    "import plotly.graph_objects as go\n",
    "import plotly.express as px\n",
    "from sklearn.model_selection import train_test_split\n",
    "from sklearn.preprocessing import StandardScaler\n",
    "from sklearn.linear_model import LogisticRegression\n",
    "from sklearn.metrics import accuracy_score, confusion_matrix, precision_score, recall_score, f1_score\n",
    "from sklearn.model_selection import GridSearchCV\n",
    "from sklearn.preprocessing import LabelEncoder\n",
    "from sklearn import metrics\n",
    "\n",
    "%matplotlib inline"
   ]
  },
  {
   "cell_type": "markdown",
   "id": "e395e8bf-b530-4720-8d0f-26811e927d6e",
   "metadata": {},
   "source": [
    "## Loading the data\n",
    "We can now load the dataset into pandas using the read_csv() function. This converts the CSV file into a Pandas dataframe."
   ]
  },
  {
   "cell_type": "code",
   "execution_count": 743,
   "id": "cf4030b0-aa7f-4bd7-8e9c-c1b7f4d202d0",
   "metadata": {},
   "outputs": [],
   "source": [
    "#Read in the csv file and convert to a Pandas dataframe\n",
    "df = pd.read_csv(\"final_data.csv\")"
   ]
  },
  {
   "cell_type": "code",
   "execution_count": 744,
   "id": "a886fded",
   "metadata": {},
   "outputs": [],
   "source": [
    "# Create a new DataFrame with the filter applied\n",
    "goalkeepers_df = df[(df['position'] == 'Goalkeeper') & (df['position_encoded'] == 1)]"
   ]
  },
  {
   "cell_type": "markdown",
   "id": "ca5ed983-0f72-43eb-8168-6fafd48c562e",
   "metadata": {},
   "source": [
    "### Viewing the dataframe\n",
    "We can get a quick sense of the size of our dataset by using the shape method. This returns a tuple with the number of rows and columns in the dataset."
   ]
  },
  {
   "cell_type": "code",
   "execution_count": 745,
   "id": "bfde0b69-613c-4dd1-8ebf-e4d2e570e653",
   "metadata": {},
   "outputs": [
    {
     "data": {
      "text/html": [
       "<div>\n",
       "<style scoped>\n",
       "    .dataframe tbody tr th:only-of-type {\n",
       "        vertical-align: middle;\n",
       "    }\n",
       "\n",
       "    .dataframe tbody tr th {\n",
       "        vertical-align: top;\n",
       "    }\n",
       "\n",
       "    .dataframe thead th {\n",
       "        text-align: right;\n",
       "    }\n",
       "</style>\n",
       "<table border=\"1\" class=\"dataframe\">\n",
       "  <thead>\n",
       "    <tr style=\"text-align: right;\">\n",
       "      <th></th>\n",
       "      <th>player</th>\n",
       "      <th>team</th>\n",
       "      <th>name</th>\n",
       "      <th>position</th>\n",
       "      <th>height</th>\n",
       "      <th>age</th>\n",
       "      <th>appearance</th>\n",
       "      <th>goals</th>\n",
       "      <th>assists</th>\n",
       "      <th>yellow cards</th>\n",
       "      <th>...</th>\n",
       "      <th>goals conceded</th>\n",
       "      <th>clean sheets</th>\n",
       "      <th>minutes played</th>\n",
       "      <th>days_injured</th>\n",
       "      <th>games_injured</th>\n",
       "      <th>award</th>\n",
       "      <th>current_value</th>\n",
       "      <th>highest_value</th>\n",
       "      <th>position_encoded</th>\n",
       "      <th>winger</th>\n",
       "    </tr>\n",
       "  </thead>\n",
       "  <tbody>\n",
       "    <tr>\n",
       "      <th>0</th>\n",
       "      <td>/david-de-gea/profil/spieler/59377</td>\n",
       "      <td>Manchester United</td>\n",
       "      <td>David de Gea</td>\n",
       "      <td>Goalkeeper</td>\n",
       "      <td>189.0</td>\n",
       "      <td>32.0</td>\n",
       "      <td>104</td>\n",
       "      <td>0.0</td>\n",
       "      <td>0.0</td>\n",
       "      <td>0.009585</td>\n",
       "      <td>...</td>\n",
       "      <td>1.217252</td>\n",
       "      <td>0.335463</td>\n",
       "      <td>9390</td>\n",
       "      <td>42</td>\n",
       "      <td>5</td>\n",
       "      <td>13</td>\n",
       "      <td>15000000</td>\n",
       "      <td>70000000</td>\n",
       "      <td>1</td>\n",
       "      <td>0</td>\n",
       "    </tr>\n",
       "    <tr>\n",
       "      <th>1</th>\n",
       "      <td>/jack-butland/profil/spieler/128899</td>\n",
       "      <td>Manchester United</td>\n",
       "      <td>Jack Butland</td>\n",
       "      <td>Goalkeeper</td>\n",
       "      <td>196.0</td>\n",
       "      <td>30.0</td>\n",
       "      <td>15</td>\n",
       "      <td>0.0</td>\n",
       "      <td>0.0</td>\n",
       "      <td>0.069018</td>\n",
       "      <td>...</td>\n",
       "      <td>1.242331</td>\n",
       "      <td>0.207055</td>\n",
       "      <td>1304</td>\n",
       "      <td>510</td>\n",
       "      <td>58</td>\n",
       "      <td>1</td>\n",
       "      <td>1500000</td>\n",
       "      <td>22000000</td>\n",
       "      <td>1</td>\n",
       "      <td>0</td>\n",
       "    </tr>\n",
       "    <tr>\n",
       "      <th>2</th>\n",
       "      <td>/tom-heaton/profil/spieler/34130</td>\n",
       "      <td>Manchester United</td>\n",
       "      <td>Tom Heaton</td>\n",
       "      <td>Goalkeeper</td>\n",
       "      <td>188.0</td>\n",
       "      <td>37.0</td>\n",
       "      <td>4</td>\n",
       "      <td>0.0</td>\n",
       "      <td>0.0</td>\n",
       "      <td>0.000000</td>\n",
       "      <td>...</td>\n",
       "      <td>0.616438</td>\n",
       "      <td>0.924658</td>\n",
       "      <td>292</td>\n",
       "      <td>697</td>\n",
       "      <td>84</td>\n",
       "      <td>4</td>\n",
       "      <td>600000</td>\n",
       "      <td>6000000</td>\n",
       "      <td>1</td>\n",
       "      <td>0</td>\n",
       "    </tr>\n",
       "    <tr>\n",
       "      <th>32</th>\n",
       "      <td>/alphonse-areola/profil/spieler/120629</td>\n",
       "      <td>West Ham United</td>\n",
       "      <td>Alphonse Areola</td>\n",
       "      <td>Goalkeeper</td>\n",
       "      <td>195.0</td>\n",
       "      <td>30.0</td>\n",
       "      <td>41</td>\n",
       "      <td>0.0</td>\n",
       "      <td>0.0</td>\n",
       "      <td>0.000000</td>\n",
       "      <td>...</td>\n",
       "      <td>0.898502</td>\n",
       "      <td>0.449251</td>\n",
       "      <td>3606</td>\n",
       "      <td>34</td>\n",
       "      <td>4</td>\n",
       "      <td>16</td>\n",
       "      <td>8000000</td>\n",
       "      <td>17500000</td>\n",
       "      <td>1</td>\n",
       "      <td>0</td>\n",
       "    </tr>\n",
       "    <tr>\n",
       "      <th>33</th>\n",
       "      <td>/lukasz-fabianski/profil/spieler/29692</td>\n",
       "      <td>West Ham United</td>\n",
       "      <td>Lukasz Fabianski</td>\n",
       "      <td>Goalkeeper</td>\n",
       "      <td>190.0</td>\n",
       "      <td>38.0</td>\n",
       "      <td>75</td>\n",
       "      <td>0.0</td>\n",
       "      <td>0.0</td>\n",
       "      <td>0.040767</td>\n",
       "      <td>...</td>\n",
       "      <td>1.331723</td>\n",
       "      <td>0.271780</td>\n",
       "      <td>6623</td>\n",
       "      <td>554</td>\n",
       "      <td>99</td>\n",
       "      <td>4</td>\n",
       "      <td>1000000</td>\n",
       "      <td>9000000</td>\n",
       "      <td>1</td>\n",
       "      <td>0</td>\n",
       "    </tr>\n",
       "  </tbody>\n",
       "</table>\n",
       "<p>5 rows × 22 columns</p>\n",
       "</div>"
      ],
      "text/plain": [
       "                                    player               team  \\\n",
       "0       /david-de-gea/profil/spieler/59377  Manchester United   \n",
       "1      /jack-butland/profil/spieler/128899  Manchester United   \n",
       "2         /tom-heaton/profil/spieler/34130  Manchester United   \n",
       "32  /alphonse-areola/profil/spieler/120629    West Ham United   \n",
       "33  /lukasz-fabianski/profil/spieler/29692    West Ham United   \n",
       "\n",
       "                name    position  height   age  appearance  goals  assists  \\\n",
       "0       David de Gea  Goalkeeper   189.0  32.0         104    0.0      0.0   \n",
       "1       Jack Butland  Goalkeeper   196.0  30.0          15    0.0      0.0   \n",
       "2         Tom Heaton  Goalkeeper   188.0  37.0           4    0.0      0.0   \n",
       "32   Alphonse Areola  Goalkeeper   195.0  30.0          41    0.0      0.0   \n",
       "33  Lukasz Fabianski  Goalkeeper   190.0  38.0          75    0.0      0.0   \n",
       "\n",
       "    yellow cards  ...  goals conceded  clean sheets  minutes played  \\\n",
       "0       0.009585  ...        1.217252      0.335463            9390   \n",
       "1       0.069018  ...        1.242331      0.207055            1304   \n",
       "2       0.000000  ...        0.616438      0.924658             292   \n",
       "32      0.000000  ...        0.898502      0.449251            3606   \n",
       "33      0.040767  ...        1.331723      0.271780            6623   \n",
       "\n",
       "    days_injured  games_injured  award  current_value  highest_value  \\\n",
       "0             42              5     13       15000000       70000000   \n",
       "1            510             58      1        1500000       22000000   \n",
       "2            697             84      4         600000        6000000   \n",
       "32            34              4     16        8000000       17500000   \n",
       "33           554             99      4        1000000        9000000   \n",
       "\n",
       "    position_encoded  winger  \n",
       "0                  1       0  \n",
       "1                  1       0  \n",
       "2                  1       0  \n",
       "32                 1       0  \n",
       "33                 1       0  \n",
       "\n",
       "[5 rows x 22 columns]"
      ]
     },
     "execution_count": 745,
     "metadata": {},
     "output_type": "execute_result"
    }
   ],
   "source": [
    "goalkeepers_df.head()"
   ]
  },
  {
   "cell_type": "code",
   "execution_count": 746,
   "id": "78a651f6",
   "metadata": {},
   "outputs": [
    {
     "data": {
      "text/plain": [
       "(1229, 22)"
      ]
     },
     "execution_count": 746,
     "metadata": {},
     "output_type": "execute_result"
    }
   ],
   "source": [
    "goalkeepers_df.shape"
   ]
  },
  {
   "cell_type": "markdown",
   "id": "bd2b5bc4-db37-4432-b666-0714afd0c4ca",
   "metadata": {},
   "source": [
    "## 1. Data Profiling:\n",
    "Data profiling is a comprehensive process of examining the data available in an existing dataset and collecting statistics and information about that data. "
   ]
  },
  {
   "cell_type": "code",
   "execution_count": 747,
   "id": "a3d566ec",
   "metadata": {},
   "outputs": [
    {
     "name": "stdout",
     "output_type": "stream",
     "text": [
      "<class 'pandas.core.frame.DataFrame'>\n",
      "Index: 1229 entries, 0 to 10728\n",
      "Data columns (total 22 columns):\n",
      " #   Column               Non-Null Count  Dtype  \n",
      "---  ------               --------------  -----  \n",
      " 0   player               1229 non-null   object \n",
      " 1   team                 1229 non-null   object \n",
      " 2   name                 1229 non-null   object \n",
      " 3   position             1229 non-null   object \n",
      " 4   height               1229 non-null   float64\n",
      " 5   age                  1229 non-null   float64\n",
      " 6   appearance           1229 non-null   int64  \n",
      " 7   goals                1229 non-null   float64\n",
      " 8   assists              1229 non-null   float64\n",
      " 9   yellow cards         1229 non-null   float64\n",
      " 10  second yellow cards  1229 non-null   float64\n",
      " 11  red cards            1229 non-null   float64\n",
      " 12  goals conceded       1229 non-null   float64\n",
      " 13  clean sheets         1229 non-null   float64\n",
      " 14  minutes played       1229 non-null   int64  \n",
      " 15  days_injured         1229 non-null   int64  \n",
      " 16  games_injured        1229 non-null   int64  \n",
      " 17  award                1229 non-null   int64  \n",
      " 18  current_value        1229 non-null   int64  \n",
      " 19  highest_value        1229 non-null   int64  \n",
      " 20  position_encoded     1229 non-null   int64  \n",
      " 21  winger               1229 non-null   int64  \n",
      "dtypes: float64(9), int64(9), object(4)\n",
      "memory usage: 220.8+ KB\n"
     ]
    }
   ],
   "source": [
    "goalkeepers_df.info()"
   ]
  },
  {
   "cell_type": "markdown",
   "id": "bec3d183-bba0-4b12-b963-487daab1e876",
   "metadata": {},
   "source": [
    "#### 4. Relevance: \n",
    "Assess whether the data is appropriate and applicable for the intended analysis. Data that is not relevant can skew results and lead to incorrect conclusions.\n",
    "\n",
    "**Key considerations for relevance include:**\n",
    "\n",
    "> 1. Sample Appropriateness: Confirm that your data sample aligns with your analysis objectives. For instance, utilizing data from the Northern region will not yield accurate insights for the Western region of the Kingdom.\n",
    ">\n",
    "> 2. Variable Selection: Any column will not be relevant for our analysis, we can get rid of these using the drop() method. We will set the “axis” argument to 1 since we’re dealing with columns, and set the “inplace” argument to True to make the change permanent.\n"
   ]
  },
  {
   "cell_type": "code",
   "execution_count": 748,
   "id": "82b86390",
   "metadata": {},
   "outputs": [],
   "source": [
    "goalkeepers_df.drop([\"player\"],axis=1,inplace=True)"
   ]
  },
  {
   "cell_type": "code",
   "execution_count": 749,
   "id": "295a2f6e",
   "metadata": {},
   "outputs": [],
   "source": [
    "goalkeepers_df.drop([\"winger\"],axis=1,inplace=True)"
   ]
  },
  {
   "cell_type": "code",
   "execution_count": 750,
   "id": "47685f30",
   "metadata": {},
   "outputs": [
    {
     "data": {
      "text/html": [
       "<div>\n",
       "<style scoped>\n",
       "    .dataframe tbody tr th:only-of-type {\n",
       "        vertical-align: middle;\n",
       "    }\n",
       "\n",
       "    .dataframe tbody tr th {\n",
       "        vertical-align: top;\n",
       "    }\n",
       "\n",
       "    .dataframe thead th {\n",
       "        text-align: right;\n",
       "    }\n",
       "</style>\n",
       "<table border=\"1\" class=\"dataframe\">\n",
       "  <thead>\n",
       "    <tr style=\"text-align: right;\">\n",
       "      <th></th>\n",
       "      <th>team</th>\n",
       "      <th>name</th>\n",
       "      <th>position</th>\n",
       "      <th>height</th>\n",
       "      <th>age</th>\n",
       "      <th>appearance</th>\n",
       "      <th>goals</th>\n",
       "      <th>assists</th>\n",
       "      <th>yellow cards</th>\n",
       "      <th>second yellow cards</th>\n",
       "      <th>red cards</th>\n",
       "      <th>goals conceded</th>\n",
       "      <th>clean sheets</th>\n",
       "      <th>minutes played</th>\n",
       "      <th>days_injured</th>\n",
       "      <th>games_injured</th>\n",
       "      <th>award</th>\n",
       "      <th>current_value</th>\n",
       "      <th>highest_value</th>\n",
       "      <th>position_encoded</th>\n",
       "    </tr>\n",
       "  </thead>\n",
       "  <tbody>\n",
       "    <tr>\n",
       "      <th>0</th>\n",
       "      <td>Manchester United</td>\n",
       "      <td>David de Gea</td>\n",
       "      <td>Goalkeeper</td>\n",
       "      <td>189.0</td>\n",
       "      <td>32.0</td>\n",
       "      <td>104</td>\n",
       "      <td>0.0</td>\n",
       "      <td>0.0</td>\n",
       "      <td>0.009585</td>\n",
       "      <td>0.0</td>\n",
       "      <td>0.0</td>\n",
       "      <td>1.217252</td>\n",
       "      <td>0.335463</td>\n",
       "      <td>9390</td>\n",
       "      <td>42</td>\n",
       "      <td>5</td>\n",
       "      <td>13</td>\n",
       "      <td>15000000</td>\n",
       "      <td>70000000</td>\n",
       "      <td>1</td>\n",
       "    </tr>\n",
       "    <tr>\n",
       "      <th>1</th>\n",
       "      <td>Manchester United</td>\n",
       "      <td>Jack Butland</td>\n",
       "      <td>Goalkeeper</td>\n",
       "      <td>196.0</td>\n",
       "      <td>30.0</td>\n",
       "      <td>15</td>\n",
       "      <td>0.0</td>\n",
       "      <td>0.0</td>\n",
       "      <td>0.069018</td>\n",
       "      <td>0.0</td>\n",
       "      <td>0.0</td>\n",
       "      <td>1.242331</td>\n",
       "      <td>0.207055</td>\n",
       "      <td>1304</td>\n",
       "      <td>510</td>\n",
       "      <td>58</td>\n",
       "      <td>1</td>\n",
       "      <td>1500000</td>\n",
       "      <td>22000000</td>\n",
       "      <td>1</td>\n",
       "    </tr>\n",
       "    <tr>\n",
       "      <th>2</th>\n",
       "      <td>Manchester United</td>\n",
       "      <td>Tom Heaton</td>\n",
       "      <td>Goalkeeper</td>\n",
       "      <td>188.0</td>\n",
       "      <td>37.0</td>\n",
       "      <td>4</td>\n",
       "      <td>0.0</td>\n",
       "      <td>0.0</td>\n",
       "      <td>0.000000</td>\n",
       "      <td>0.0</td>\n",
       "      <td>0.0</td>\n",
       "      <td>0.616438</td>\n",
       "      <td>0.924658</td>\n",
       "      <td>292</td>\n",
       "      <td>697</td>\n",
       "      <td>84</td>\n",
       "      <td>4</td>\n",
       "      <td>600000</td>\n",
       "      <td>6000000</td>\n",
       "      <td>1</td>\n",
       "    </tr>\n",
       "    <tr>\n",
       "      <th>32</th>\n",
       "      <td>West Ham United</td>\n",
       "      <td>Alphonse Areola</td>\n",
       "      <td>Goalkeeper</td>\n",
       "      <td>195.0</td>\n",
       "      <td>30.0</td>\n",
       "      <td>41</td>\n",
       "      <td>0.0</td>\n",
       "      <td>0.0</td>\n",
       "      <td>0.000000</td>\n",
       "      <td>0.0</td>\n",
       "      <td>0.0</td>\n",
       "      <td>0.898502</td>\n",
       "      <td>0.449251</td>\n",
       "      <td>3606</td>\n",
       "      <td>34</td>\n",
       "      <td>4</td>\n",
       "      <td>16</td>\n",
       "      <td>8000000</td>\n",
       "      <td>17500000</td>\n",
       "      <td>1</td>\n",
       "    </tr>\n",
       "    <tr>\n",
       "      <th>33</th>\n",
       "      <td>West Ham United</td>\n",
       "      <td>Lukasz Fabianski</td>\n",
       "      <td>Goalkeeper</td>\n",
       "      <td>190.0</td>\n",
       "      <td>38.0</td>\n",
       "      <td>75</td>\n",
       "      <td>0.0</td>\n",
       "      <td>0.0</td>\n",
       "      <td>0.040767</td>\n",
       "      <td>0.0</td>\n",
       "      <td>0.0</td>\n",
       "      <td>1.331723</td>\n",
       "      <td>0.271780</td>\n",
       "      <td>6623</td>\n",
       "      <td>554</td>\n",
       "      <td>99</td>\n",
       "      <td>4</td>\n",
       "      <td>1000000</td>\n",
       "      <td>9000000</td>\n",
       "      <td>1</td>\n",
       "    </tr>\n",
       "  </tbody>\n",
       "</table>\n",
       "</div>"
      ],
      "text/plain": [
       "                 team              name    position  height   age  appearance  \\\n",
       "0   Manchester United      David de Gea  Goalkeeper   189.0  32.0         104   \n",
       "1   Manchester United      Jack Butland  Goalkeeper   196.0  30.0          15   \n",
       "2   Manchester United        Tom Heaton  Goalkeeper   188.0  37.0           4   \n",
       "32    West Ham United   Alphonse Areola  Goalkeeper   195.0  30.0          41   \n",
       "33    West Ham United  Lukasz Fabianski  Goalkeeper   190.0  38.0          75   \n",
       "\n",
       "    goals  assists  yellow cards  second yellow cards  red cards  \\\n",
       "0     0.0      0.0      0.009585                  0.0        0.0   \n",
       "1     0.0      0.0      0.069018                  0.0        0.0   \n",
       "2     0.0      0.0      0.000000                  0.0        0.0   \n",
       "32    0.0      0.0      0.000000                  0.0        0.0   \n",
       "33    0.0      0.0      0.040767                  0.0        0.0   \n",
       "\n",
       "    goals conceded  clean sheets  minutes played  days_injured  games_injured  \\\n",
       "0         1.217252      0.335463            9390            42              5   \n",
       "1         1.242331      0.207055            1304           510             58   \n",
       "2         0.616438      0.924658             292           697             84   \n",
       "32        0.898502      0.449251            3606            34              4   \n",
       "33        1.331723      0.271780            6623           554             99   \n",
       "\n",
       "    award  current_value  highest_value  position_encoded  \n",
       "0      13       15000000       70000000                 1  \n",
       "1       1        1500000       22000000                 1  \n",
       "2       4         600000        6000000                 1  \n",
       "32     16        8000000       17500000                 1  \n",
       "33      4        1000000        9000000                 1  "
      ]
     },
     "execution_count": 750,
     "metadata": {},
     "output_type": "execute_result"
    }
   ],
   "source": [
    "goalkeepers_df.head()"
   ]
  },
  {
   "cell_type": "markdown",
   "id": "0f5e3a2a-bbb7-4d06-8220-c93277b70146",
   "metadata": {},
   "source": [
    "#### 5. Uniqueness: \n",
    "Check for and remove duplicate records to prevent skewed analysis results.\n"
   ]
  },
  {
   "cell_type": "code",
   "execution_count": 751,
   "id": "dfd361e7",
   "metadata": {},
   "outputs": [
    {
     "data": {
      "text/plain": [
       "np.int64(0)"
      ]
     },
     "execution_count": 751,
     "metadata": {},
     "output_type": "execute_result"
    }
   ],
   "source": [
    "goalkeepers_df.duplicated().sum()"
   ]
  },
  {
   "cell_type": "code",
   "execution_count": 752,
   "id": "04c62559-3b48-48cf-a4e9-857e2e0ff416",
   "metadata": {},
   "outputs": [],
   "source": [
    "# go to delete duplicates columns"
   ]
  },
  {
   "cell_type": "markdown",
   "id": "c7724ac2-4ea2-4cf4-a9e0-e64368f87b92",
   "metadata": {},
   "source": [
    "#### 6. Completeness: \n",
    "Ensure that no critical data is missing. This might mean checking for null values or required fields that are empty.\n",
    "\n",
    "We will start by checking the dataset for missing or null values. For this, we can use the isna() method which returns a dataframe of boolean values indicating if a field is null or not. To group all missing values by column, we can include the sum() method."
   ]
  },
  {
   "cell_type": "code",
   "execution_count": 753,
   "id": "baea1df4",
   "metadata": {},
   "outputs": [
    {
     "data": {
      "text/plain": [
       "team                   0\n",
       "name                   0\n",
       "position               0\n",
       "height                 0\n",
       "age                    0\n",
       "appearance             0\n",
       "goals                  0\n",
       "assists                0\n",
       "yellow cards           0\n",
       "second yellow cards    0\n",
       "red cards              0\n",
       "goals conceded         0\n",
       "clean sheets           0\n",
       "minutes played         0\n",
       "days_injured           0\n",
       "games_injured          0\n",
       "award                  0\n",
       "current_value          0\n",
       "highest_value          0\n",
       "position_encoded       0\n",
       "dtype: int64"
      ]
     },
     "execution_count": 753,
     "metadata": {},
     "output_type": "execute_result"
    }
   ],
   "source": [
    "#Display number missing values per column\n",
    "goalkeepers_df.isna().sum()"
   ]
  },
  {
   "cell_type": "code",
   "execution_count": 754,
   "id": "abec31c4-0904-4b73-8cee-b7bc14ab1e67",
   "metadata": {},
   "outputs": [],
   "source": [
    "# go to clean them "
   ]
  },
  {
   "cell_type": "markdown",
   "id": "b40de63c-5a1d-49ed-a87e-c5229ee08bbe",
   "metadata": {},
   "source": [
    "#### 7. Check Accuracy:\n",
    "\n",
    "Verify that the data is correct and precise. This could involve comparing data samples with known sources or using validation rules.\n",
    "\n",
    "**The process includes:**\n",
    "1. Validating the appropriateness of data types for the dataset.\n",
    "2. Identifying outliers  using established validation  rule"
   ]
  },
  {
   "cell_type": "code",
   "execution_count": 755,
   "id": "264930cb",
   "metadata": {},
   "outputs": [
    {
     "data": {
      "text/plain": [
       "team                    object\n",
       "name                    object\n",
       "position                object\n",
       "height                 float64\n",
       "age                    float64\n",
       "appearance               int64\n",
       "goals                  float64\n",
       "assists                float64\n",
       "yellow cards           float64\n",
       "second yellow cards    float64\n",
       "red cards              float64\n",
       "goals conceded         float64\n",
       "clean sheets           float64\n",
       "minutes played           int64\n",
       "days_injured             int64\n",
       "games_injured            int64\n",
       "award                    int64\n",
       "current_value            int64\n",
       "highest_value            int64\n",
       "position_encoded         int64\n",
       "dtype: object"
      ]
     },
     "execution_count": 755,
     "metadata": {},
     "output_type": "execute_result"
    }
   ],
   "source": [
    "goalkeepers_df.dtypes"
   ]
  },
  {
   "cell_type": "code",
   "execution_count": 756,
   "id": "87017cd1",
   "metadata": {},
   "outputs": [],
   "source": [
    "goalkeepers_df['age'] = goalkeepers_df['age'].astype('int64')"
   ]
  },
  {
   "cell_type": "code",
   "execution_count": 757,
   "id": "1660032b",
   "metadata": {},
   "outputs": [
    {
     "data": {
      "text/html": [
       "<div>\n",
       "<style scoped>\n",
       "    .dataframe tbody tr th:only-of-type {\n",
       "        vertical-align: middle;\n",
       "    }\n",
       "\n",
       "    .dataframe tbody tr th {\n",
       "        vertical-align: top;\n",
       "    }\n",
       "\n",
       "    .dataframe thead th {\n",
       "        text-align: right;\n",
       "    }\n",
       "</style>\n",
       "<table border=\"1\" class=\"dataframe\">\n",
       "  <thead>\n",
       "    <tr style=\"text-align: right;\">\n",
       "      <th></th>\n",
       "      <th>team</th>\n",
       "      <th>name</th>\n",
       "      <th>position</th>\n",
       "      <th>height</th>\n",
       "      <th>age</th>\n",
       "      <th>appearance</th>\n",
       "      <th>goals</th>\n",
       "      <th>assists</th>\n",
       "      <th>yellow cards</th>\n",
       "      <th>second yellow cards</th>\n",
       "      <th>red cards</th>\n",
       "      <th>goals conceded</th>\n",
       "      <th>clean sheets</th>\n",
       "      <th>minutes played</th>\n",
       "      <th>days_injured</th>\n",
       "      <th>games_injured</th>\n",
       "      <th>award</th>\n",
       "      <th>current_value</th>\n",
       "      <th>highest_value</th>\n",
       "      <th>position_encoded</th>\n",
       "    </tr>\n",
       "  </thead>\n",
       "  <tbody>\n",
       "    <tr>\n",
       "      <th>0</th>\n",
       "      <td>Manchester United</td>\n",
       "      <td>David de Gea</td>\n",
       "      <td>Goalkeeper</td>\n",
       "      <td>189.0</td>\n",
       "      <td>32</td>\n",
       "      <td>104</td>\n",
       "      <td>0.0</td>\n",
       "      <td>0.0</td>\n",
       "      <td>0.009585</td>\n",
       "      <td>0.0</td>\n",
       "      <td>0.0</td>\n",
       "      <td>1.217252</td>\n",
       "      <td>0.335463</td>\n",
       "      <td>9390</td>\n",
       "      <td>42</td>\n",
       "      <td>5</td>\n",
       "      <td>13</td>\n",
       "      <td>15000000</td>\n",
       "      <td>70000000</td>\n",
       "      <td>1</td>\n",
       "    </tr>\n",
       "    <tr>\n",
       "      <th>1</th>\n",
       "      <td>Manchester United</td>\n",
       "      <td>Jack Butland</td>\n",
       "      <td>Goalkeeper</td>\n",
       "      <td>196.0</td>\n",
       "      <td>30</td>\n",
       "      <td>15</td>\n",
       "      <td>0.0</td>\n",
       "      <td>0.0</td>\n",
       "      <td>0.069018</td>\n",
       "      <td>0.0</td>\n",
       "      <td>0.0</td>\n",
       "      <td>1.242331</td>\n",
       "      <td>0.207055</td>\n",
       "      <td>1304</td>\n",
       "      <td>510</td>\n",
       "      <td>58</td>\n",
       "      <td>1</td>\n",
       "      <td>1500000</td>\n",
       "      <td>22000000</td>\n",
       "      <td>1</td>\n",
       "    </tr>\n",
       "  </tbody>\n",
       "</table>\n",
       "</div>"
      ],
      "text/plain": [
       "                team          name    position  height  age  appearance  \\\n",
       "0  Manchester United  David de Gea  Goalkeeper   189.0   32         104   \n",
       "1  Manchester United  Jack Butland  Goalkeeper   196.0   30          15   \n",
       "\n",
       "   goals  assists  yellow cards  second yellow cards  red cards  \\\n",
       "0    0.0      0.0      0.009585                  0.0        0.0   \n",
       "1    0.0      0.0      0.069018                  0.0        0.0   \n",
       "\n",
       "   goals conceded  clean sheets  minutes played  days_injured  games_injured  \\\n",
       "0        1.217252      0.335463            9390            42              5   \n",
       "1        1.242331      0.207055            1304           510             58   \n",
       "\n",
       "   award  current_value  highest_value  position_encoded  \n",
       "0     13       15000000       70000000                 1  \n",
       "1      1        1500000       22000000                 1  "
      ]
     },
     "execution_count": 757,
     "metadata": {},
     "output_type": "execute_result"
    }
   ],
   "source": [
    "goalkeepers_df.head(2)"
   ]
  },
  {
   "cell_type": "code",
   "execution_count": 758,
   "id": "1297fca1",
   "metadata": {},
   "outputs": [
    {
     "data": {
      "text/plain": [
       "team                    object\n",
       "name                    object\n",
       "position                object\n",
       "height                 float64\n",
       "age                      int64\n",
       "appearance               int64\n",
       "goals                  float64\n",
       "assists                float64\n",
       "yellow cards           float64\n",
       "second yellow cards    float64\n",
       "red cards              float64\n",
       "goals conceded         float64\n",
       "clean sheets           float64\n",
       "minutes played           int64\n",
       "days_injured             int64\n",
       "games_injured            int64\n",
       "award                    int64\n",
       "current_value            int64\n",
       "highest_value            int64\n",
       "position_encoded         int64\n",
       "dtype: object"
      ]
     },
     "execution_count": 758,
     "metadata": {},
     "output_type": "execute_result"
    }
   ],
   "source": [
    "goalkeepers_df.dtypes"
   ]
  },
  {
   "cell_type": "code",
   "execution_count": 759,
   "id": "2ee790ba-dcc0-45f1-b6f8-0133e913e149",
   "metadata": {},
   "outputs": [],
   "source": [
    "# go to clean them "
   ]
  },
  {
   "cell_type": "code",
   "execution_count": 760,
   "id": "c69b303a-5459-45f9-a28e-fcee45c21c05",
   "metadata": {},
   "outputs": [],
   "source": [
    "# check outliers "
   ]
  },
  {
   "cell_type": "markdown",
   "id": "f7cee10f-0af8-44e5-b595-8e965294daad",
   "metadata": {},
   "source": [
    "### Correcting errors\n",
    "\n",
    "-------------------"
   ]
  },
  {
   "cell_type": "code",
   "execution_count": 761,
   "id": "f8896b90",
   "metadata": {},
   "outputs": [],
   "source": [
    "goalkeepers_df.rename(columns={\n",
    "    'current_value': 'Valuated_price (Euro)',\n",
    "    'highest_value': 'Highest_valuated_price (Euro)'\n",
    "}, inplace=True)"
   ]
  },
  {
   "cell_type": "code",
   "execution_count": 762,
   "id": "f1d95da5-a3ba-473a-8243-aa177cadae20",
   "metadata": {},
   "outputs": [],
   "source": [
    "# go back to 7th dimension Accuracy "
   ]
  },
  {
   "cell_type": "markdown",
   "id": "5ecc7dbb-6867-44cf-8f99-1b969a80be40",
   "metadata": {},
   "source": [
    "### Dealing with outliers:"
   ]
  },
  {
   "cell_type": "code",
   "execution_count": 763,
   "id": "f27aa5c6",
   "metadata": {},
   "outputs": [],
   "source": [
    "categorical_features = ['team', 'position', 'position_encoded', 'appearance']\n",
    "numeric_features = ['age', 'appearance', 'red cards', 'minutes played', 'days_injured']"
   ]
  },
  {
   "cell_type": "code",
   "execution_count": 764,
   "id": "c0c4013f",
   "metadata": {},
   "outputs": [
    {
     "data": {
      "application/vnd.plotly.v1+json": {
       "config": {
        "plotlyServerURL": "https://plot.ly"
       },
       "data": [
        {
         "alignmentgroup": "True",
         "bingroup": "x",
         "hovertemplate": "height=%{x}<br>count=%{y}<extra></extra>",
         "legendgroup": "",
         "marker": {
          "color": "#636efa",
          "pattern": {
           "shape": ""
          }
         },
         "name": "",
         "nbinsx": 100,
         "offsetgroup": "",
         "orientation": "v",
         "showlegend": false,
         "type": "histogram",
         "x": [
          189,
          196,
          188,
          195,
          190,
          191,
          191,
          189,
          195,
          196,
          183,
          190,
          192,
          193,
          190,
          188,
          193,
          186,
          197,
          188,
          185,
          185,
          199,
          193,
          188,
          185,
          198,
          197,
          189,
          197,
          193,
          190,
          190,
          194,
          190,
          191,
          187,
          183,
          193,
          183,
          193,
          188,
          190,
          198,
          191,
          191,
          191,
          188,
          185,
          188,
          190,
          191,
          188,
          200,
          188,
          188,
          194,
          186,
          193,
          193,
          190,
          184,
          183,
          197,
          194,
          190,
          187,
          187,
          191,
          192,
          188,
          188,
          192,
          189,
          190,
          197,
          193,
          195,
          190,
          190,
          200,
          192,
          195,
          188,
          191,
          190,
          192,
          192,
          196,
          190,
          193,
          192,
          190,
          197,
          196,
          195,
          186,
          194,
          198,
          193,
          196,
          187,
          194,
          196,
          190,
          189,
          189,
          192,
          194,
          195,
          190,
          192,
          194,
          190,
          195,
          185,
          192,
          182,
          190,
          186,
          193,
          183,
          192,
          191,
          190,
          193,
          192,
          190,
          195,
          187,
          191,
          189,
          190,
          188,
          191,
          187,
          184,
          190,
          187,
          188,
          197,
          185,
          187,
          188,
          192,
          189,
          188,
          186,
          192,
          182,
          195,
          187,
          195,
          188,
          195,
          196,
          192,
          197,
          189,
          183,
          187,
          188,
          189,
          180,
          186,
          186,
          180,
          191,
          187,
          186,
          191,
          192,
          190,
          188,
          188,
          195,
          200,
          191,
          187,
          184,
          185,
          190,
          189,
          193,
          194,
          190,
          191,
          193,
          192,
          188,
          189,
          193,
          183,
          194,
          190,
          195,
          191,
          191,
          198,
          187,
          188,
          196,
          193,
          187,
          184,
          190,
          187,
          194,
          192,
          186,
          191,
          184,
          192,
          189,
          187,
          189,
          192,
          188,
          183,
          195,
          185,
          191,
          190,
          184,
          186,
          191,
          190,
          192,
          185,
          190,
          188,
          193,
          194,
          190,
          188,
          182,
          190,
          192,
          188,
          188,
          190,
          195,
          193,
          185,
          182,
          194,
          188,
          190,
          193,
          193,
          192,
          187,
          186,
          186,
          185,
          188,
          186,
          182,
          199,
          185,
          190,
          180,
          180,
          192,
          190,
          196,
          187,
          187,
          180,
          195,
          186,
          193,
          181.2403529,
          195,
          189,
          188,
          191,
          187,
          186,
          192,
          184,
          193,
          193,
          188,
          190,
          194,
          187,
          181.2403529,
          188,
          187,
          185,
          190,
          195,
          188,
          194,
          184,
          182,
          182,
          184,
          191,
          191,
          189,
          188,
          188,
          184,
          193,
          185,
          187,
          188,
          185,
          190,
          193,
          196,
          196,
          193,
          195,
          184,
          192,
          190,
          181.2403529,
          198,
          195,
          187,
          186,
          187,
          187,
          188,
          181.2403529,
          196,
          196,
          199,
          187,
          183,
          186,
          187,
          192,
          193,
          189,
          188,
          185,
          186,
          195,
          192,
          196,
          192,
          186,
          186,
          194,
          187,
          187,
          199,
          189,
          189,
          196,
          181.2403529,
          188,
          193,
          187,
          190,
          190,
          193,
          189,
          192,
          196,
          193,
          197,
          188,
          188,
          186,
          189,
          187,
          197,
          191,
          192,
          194,
          188,
          188,
          188,
          193,
          187,
          190,
          191,
          194,
          195,
          190,
          190,
          191,
          189,
          192,
          188,
          186,
          188,
          196,
          198,
          192,
          188,
          194,
          193,
          196,
          193,
          196,
          188,
          194,
          188,
          190,
          192,
          195,
          196,
          194,
          188,
          191,
          191,
          186,
          191,
          191,
          186,
          197,
          190,
          184,
          186,
          190,
          188,
          191,
          188,
          197,
          191,
          188,
          190,
          192,
          191,
          189,
          186,
          192,
          187,
          190,
          192,
          192,
          187,
          189,
          195,
          188,
          188,
          199,
          193,
          187,
          195,
          190,
          194,
          186,
          192,
          191,
          199,
          191,
          188,
          193,
          188,
          193,
          184,
          187,
          189,
          189,
          185,
          192,
          185,
          188,
          185,
          191,
          199,
          194,
          192,
          188,
          192,
          193,
          192,
          192,
          192,
          186,
          190,
          185,
          188,
          185,
          194,
          198,
          194,
          190,
          197,
          195,
          198,
          194,
          189,
          192,
          189,
          186,
          183,
          188,
          190,
          190,
          188,
          191,
          190,
          182,
          184,
          189,
          180,
          183,
          182,
          188,
          183,
          181,
          183,
          184,
          182,
          192,
          197,
          184,
          186,
          190,
          185,
          184,
          184,
          181,
          182,
          187,
          182,
          182,
          183,
          194,
          183,
          184,
          185,
          182,
          187,
          182,
          181,
          189,
          183,
          183,
          193,
          193,
          182,
          190,
          184,
          188,
          183,
          183,
          190,
          193,
          187,
          193,
          194,
          194,
          195,
          194,
          199,
          192,
          190,
          189,
          194,
          194,
          188,
          184,
          190,
          191,
          194,
          195,
          200,
          194,
          199,
          197,
          190,
          189,
          194,
          186,
          192,
          186,
          191,
          187,
          193,
          190,
          192,
          190,
          187,
          190,
          186,
          189,
          192,
          189,
          190,
          191,
          190,
          185,
          191,
          191,
          188,
          191,
          190,
          191,
          189,
          189,
          188,
          186,
          194,
          192,
          185,
          195,
          193,
          190,
          193,
          188,
          192,
          189,
          187,
          181.2403529,
          194,
          186,
          181.2403529,
          190,
          189,
          185,
          185,
          187,
          185,
          181.2403529,
          189,
          191,
          183,
          194,
          186,
          193,
          181.2403529,
          193,
          181.2403529,
          191,
          195,
          195,
          186,
          191,
          195,
          184,
          181.2403529,
          189,
          192,
          188,
          198,
          194,
          189,
          191,
          197,
          193,
          185,
          185,
          190,
          185,
          195,
          196,
          193,
          190,
          191,
          186,
          193,
          192,
          195,
          196,
          188,
          192,
          192,
          192,
          194,
          198,
          196,
          190,
          186,
          187,
          196,
          185,
          186,
          195,
          190,
          193,
          187,
          194,
          191,
          190,
          187,
          190,
          190,
          181.2403529,
          193,
          188,
          190,
          191,
          190,
          187,
          190,
          186,
          198,
          185,
          194,
          190,
          192,
          190,
          190,
          186,
          187,
          195,
          192,
          189,
          190,
          184,
          190,
          195,
          194,
          195,
          192,
          191,
          181.2403529,
          186,
          190,
          198,
          193,
          188,
          190,
          187,
          188,
          198,
          183,
          184,
          183,
          184,
          195,
          193,
          191,
          195,
          192,
          195,
          185,
          190,
          181.2403529,
          198,
          194,
          192,
          191,
          196,
          189,
          184,
          189,
          183,
          187,
          181.2403529,
          188,
          188,
          187,
          190,
          193,
          183,
          186,
          192,
          192,
          189,
          181.2403529,
          194,
          192,
          187,
          190,
          189,
          193,
          189,
          188,
          191,
          188,
          181.2403529,
          190,
          193,
          190,
          191,
          188,
          193,
          189,
          188,
          188,
          193,
          190,
          194,
          194,
          188,
          191,
          193,
          191,
          190,
          192,
          192,
          191,
          188,
          188,
          200,
          190,
          188,
          187,
          193,
          188,
          193,
          185,
          193,
          188,
          185,
          180,
          191,
          188,
          182,
          188,
          188,
          191,
          190,
          187,
          185,
          191,
          188,
          194,
          195,
          191,
          196,
          191,
          195,
          190,
          190,
          195,
          187,
          198,
          188,
          191,
          183,
          190,
          185,
          188,
          196,
          193,
          195,
          198,
          188,
          185,
          188,
          195,
          188,
          188,
          193,
          185,
          183,
          193,
          188,
          193,
          183,
          191,
          185,
          185,
          185,
          190,
          189,
          191,
          190,
          188,
          184,
          190,
          188,
          186,
          186,
          191,
          187,
          187,
          191,
          188,
          194,
          193,
          187,
          183,
          195,
          184,
          190,
          185,
          190,
          185,
          184,
          185,
          186,
          183,
          193,
          184,
          185,
          188,
          185,
          185,
          188,
          181.2403529,
          185,
          193,
          185,
          185,
          180,
          189,
          181.2403529,
          191,
          192,
          190,
          183,
          180,
          192,
          182,
          185,
          187,
          181,
          188,
          187,
          181.2403529,
          185,
          185,
          189,
          190,
          191,
          189,
          195,
          189,
          184,
          187,
          192,
          191,
          180,
          182,
          188,
          191,
          189,
          194,
          181,
          191,
          185,
          184,
          182,
          193,
          180,
          181,
          195,
          193,
          183,
          184,
          190,
          190,
          185,
          196,
          190,
          190,
          193,
          183,
          190,
          191,
          193,
          187,
          190,
          188,
          185,
          191,
          191,
          184,
          185,
          188,
          184,
          188,
          190,
          185,
          191,
          184,
          186,
          186,
          180,
          181,
          192,
          191,
          184,
          185,
          191,
          183,
          186,
          183,
          197,
          185,
          183,
          194,
          183,
          187,
          188,
          183,
          186,
          187,
          187,
          189,
          184,
          186,
          184,
          192,
          188,
          187,
          192,
          188,
          183,
          190,
          193,
          185,
          190,
          184,
          185,
          194,
          187,
          188,
          185,
          184,
          184,
          187,
          185,
          186,
          181.2403529,
          197,
          188,
          190,
          186,
          188,
          190,
          186,
          184,
          181.2403529,
          193,
          182,
          180,
          181.2403529,
          180,
          196,
          184,
          189,
          180,
          182,
          186,
          194,
          188,
          181.2403529,
          181.2403529,
          189,
          189,
          188,
          181,
          186,
          181.2403529,
          181.2403529,
          181.2403529,
          190,
          187,
          181,
          188,
          183,
          181.2403529,
          187,
          191,
          184,
          185,
          189,
          183,
          181.2403529,
          193,
          183,
          186,
          194,
          196,
          186,
          189,
          187,
          192,
          189,
          188,
          187,
          181.2403529,
          186,
          188,
          187,
          188,
          194,
          184,
          184,
          193,
          186,
          186,
          190,
          186,
          189,
          190,
          188,
          194,
          185,
          192,
          189,
          192,
          196,
          193,
          191,
          185,
          197,
          183,
          189,
          187,
          189,
          186,
          194,
          190,
          188,
          190,
          190,
          188,
          190,
          191,
          186,
          189,
          187,
          190,
          188,
          183,
          181,
          181.2403529,
          182,
          180,
          181.2403529,
          185,
          189,
          187,
          180,
          181,
          182,
          186,
          190,
          181.2403529,
          184,
          189,
          187,
          180,
          183,
          181,
          193,
          194,
          181,
          181.2403529,
          185,
          181.2403529,
          181.2403529,
          181.2403529,
          180,
          181.2403529,
          183,
          180,
          181.2403529,
          190,
          181.2403529,
          183,
          181,
          195,
          181.2403529,
          181.2403529,
          196,
          181.2403529,
          188,
          184,
          185,
          192,
          186,
          185,
          186,
          181,
          190,
          185,
          184,
          188,
          180,
          184,
          189,
          200,
          189,
          188,
          194,
          181.2403529,
          192,
          197,
          181.2403529,
          188,
          193,
          181.2403529,
          181.2403529,
          187,
          189,
          197,
          183,
          196,
          194,
          181.2403529,
          194,
          192,
          189,
          194,
          188,
          181.2403529,
          187,
          191,
          187
         ],
         "xaxis": "x",
         "yaxis": "y"
        }
       ],
       "layout": {
        "barmode": "relative",
        "legend": {
         "tracegroupgap": 0
        },
        "margin": {
         "t": 60
        },
        "template": {
         "data": {
          "bar": [
           {
            "error_x": {
             "color": "#2a3f5f"
            },
            "error_y": {
             "color": "#2a3f5f"
            },
            "marker": {
             "line": {
              "color": "#E5ECF6",
              "width": 0.5
             },
             "pattern": {
              "fillmode": "overlay",
              "size": 10,
              "solidity": 0.2
             }
            },
            "type": "bar"
           }
          ],
          "barpolar": [
           {
            "marker": {
             "line": {
              "color": "#E5ECF6",
              "width": 0.5
             },
             "pattern": {
              "fillmode": "overlay",
              "size": 10,
              "solidity": 0.2
             }
            },
            "type": "barpolar"
           }
          ],
          "carpet": [
           {
            "aaxis": {
             "endlinecolor": "#2a3f5f",
             "gridcolor": "white",
             "linecolor": "white",
             "minorgridcolor": "white",
             "startlinecolor": "#2a3f5f"
            },
            "baxis": {
             "endlinecolor": "#2a3f5f",
             "gridcolor": "white",
             "linecolor": "white",
             "minorgridcolor": "white",
             "startlinecolor": "#2a3f5f"
            },
            "type": "carpet"
           }
          ],
          "choropleth": [
           {
            "colorbar": {
             "outlinewidth": 0,
             "ticks": ""
            },
            "type": "choropleth"
           }
          ],
          "contour": [
           {
            "colorbar": {
             "outlinewidth": 0,
             "ticks": ""
            },
            "colorscale": [
             [
              0,
              "#0d0887"
             ],
             [
              0.1111111111111111,
              "#46039f"
             ],
             [
              0.2222222222222222,
              "#7201a8"
             ],
             [
              0.3333333333333333,
              "#9c179e"
             ],
             [
              0.4444444444444444,
              "#bd3786"
             ],
             [
              0.5555555555555556,
              "#d8576b"
             ],
             [
              0.6666666666666666,
              "#ed7953"
             ],
             [
              0.7777777777777778,
              "#fb9f3a"
             ],
             [
              0.8888888888888888,
              "#fdca26"
             ],
             [
              1,
              "#f0f921"
             ]
            ],
            "type": "contour"
           }
          ],
          "contourcarpet": [
           {
            "colorbar": {
             "outlinewidth": 0,
             "ticks": ""
            },
            "type": "contourcarpet"
           }
          ],
          "heatmap": [
           {
            "colorbar": {
             "outlinewidth": 0,
             "ticks": ""
            },
            "colorscale": [
             [
              0,
              "#0d0887"
             ],
             [
              0.1111111111111111,
              "#46039f"
             ],
             [
              0.2222222222222222,
              "#7201a8"
             ],
             [
              0.3333333333333333,
              "#9c179e"
             ],
             [
              0.4444444444444444,
              "#bd3786"
             ],
             [
              0.5555555555555556,
              "#d8576b"
             ],
             [
              0.6666666666666666,
              "#ed7953"
             ],
             [
              0.7777777777777778,
              "#fb9f3a"
             ],
             [
              0.8888888888888888,
              "#fdca26"
             ],
             [
              1,
              "#f0f921"
             ]
            ],
            "type": "heatmap"
           }
          ],
          "heatmapgl": [
           {
            "colorbar": {
             "outlinewidth": 0,
             "ticks": ""
            },
            "colorscale": [
             [
              0,
              "#0d0887"
             ],
             [
              0.1111111111111111,
              "#46039f"
             ],
             [
              0.2222222222222222,
              "#7201a8"
             ],
             [
              0.3333333333333333,
              "#9c179e"
             ],
             [
              0.4444444444444444,
              "#bd3786"
             ],
             [
              0.5555555555555556,
              "#d8576b"
             ],
             [
              0.6666666666666666,
              "#ed7953"
             ],
             [
              0.7777777777777778,
              "#fb9f3a"
             ],
             [
              0.8888888888888888,
              "#fdca26"
             ],
             [
              1,
              "#f0f921"
             ]
            ],
            "type": "heatmapgl"
           }
          ],
          "histogram": [
           {
            "marker": {
             "pattern": {
              "fillmode": "overlay",
              "size": 10,
              "solidity": 0.2
             }
            },
            "type": "histogram"
           }
          ],
          "histogram2d": [
           {
            "colorbar": {
             "outlinewidth": 0,
             "ticks": ""
            },
            "colorscale": [
             [
              0,
              "#0d0887"
             ],
             [
              0.1111111111111111,
              "#46039f"
             ],
             [
              0.2222222222222222,
              "#7201a8"
             ],
             [
              0.3333333333333333,
              "#9c179e"
             ],
             [
              0.4444444444444444,
              "#bd3786"
             ],
             [
              0.5555555555555556,
              "#d8576b"
             ],
             [
              0.6666666666666666,
              "#ed7953"
             ],
             [
              0.7777777777777778,
              "#fb9f3a"
             ],
             [
              0.8888888888888888,
              "#fdca26"
             ],
             [
              1,
              "#f0f921"
             ]
            ],
            "type": "histogram2d"
           }
          ],
          "histogram2dcontour": [
           {
            "colorbar": {
             "outlinewidth": 0,
             "ticks": ""
            },
            "colorscale": [
             [
              0,
              "#0d0887"
             ],
             [
              0.1111111111111111,
              "#46039f"
             ],
             [
              0.2222222222222222,
              "#7201a8"
             ],
             [
              0.3333333333333333,
              "#9c179e"
             ],
             [
              0.4444444444444444,
              "#bd3786"
             ],
             [
              0.5555555555555556,
              "#d8576b"
             ],
             [
              0.6666666666666666,
              "#ed7953"
             ],
             [
              0.7777777777777778,
              "#fb9f3a"
             ],
             [
              0.8888888888888888,
              "#fdca26"
             ],
             [
              1,
              "#f0f921"
             ]
            ],
            "type": "histogram2dcontour"
           }
          ],
          "mesh3d": [
           {
            "colorbar": {
             "outlinewidth": 0,
             "ticks": ""
            },
            "type": "mesh3d"
           }
          ],
          "parcoords": [
           {
            "line": {
             "colorbar": {
              "outlinewidth": 0,
              "ticks": ""
             }
            },
            "type": "parcoords"
           }
          ],
          "pie": [
           {
            "automargin": true,
            "type": "pie"
           }
          ],
          "scatter": [
           {
            "fillpattern": {
             "fillmode": "overlay",
             "size": 10,
             "solidity": 0.2
            },
            "type": "scatter"
           }
          ],
          "scatter3d": [
           {
            "line": {
             "colorbar": {
              "outlinewidth": 0,
              "ticks": ""
             }
            },
            "marker": {
             "colorbar": {
              "outlinewidth": 0,
              "ticks": ""
             }
            },
            "type": "scatter3d"
           }
          ],
          "scattercarpet": [
           {
            "marker": {
             "colorbar": {
              "outlinewidth": 0,
              "ticks": ""
             }
            },
            "type": "scattercarpet"
           }
          ],
          "scattergeo": [
           {
            "marker": {
             "colorbar": {
              "outlinewidth": 0,
              "ticks": ""
             }
            },
            "type": "scattergeo"
           }
          ],
          "scattergl": [
           {
            "marker": {
             "colorbar": {
              "outlinewidth": 0,
              "ticks": ""
             }
            },
            "type": "scattergl"
           }
          ],
          "scattermapbox": [
           {
            "marker": {
             "colorbar": {
              "outlinewidth": 0,
              "ticks": ""
             }
            },
            "type": "scattermapbox"
           }
          ],
          "scatterpolar": [
           {
            "marker": {
             "colorbar": {
              "outlinewidth": 0,
              "ticks": ""
             }
            },
            "type": "scatterpolar"
           }
          ],
          "scatterpolargl": [
           {
            "marker": {
             "colorbar": {
              "outlinewidth": 0,
              "ticks": ""
             }
            },
            "type": "scatterpolargl"
           }
          ],
          "scatterternary": [
           {
            "marker": {
             "colorbar": {
              "outlinewidth": 0,
              "ticks": ""
             }
            },
            "type": "scatterternary"
           }
          ],
          "surface": [
           {
            "colorbar": {
             "outlinewidth": 0,
             "ticks": ""
            },
            "colorscale": [
             [
              0,
              "#0d0887"
             ],
             [
              0.1111111111111111,
              "#46039f"
             ],
             [
              0.2222222222222222,
              "#7201a8"
             ],
             [
              0.3333333333333333,
              "#9c179e"
             ],
             [
              0.4444444444444444,
              "#bd3786"
             ],
             [
              0.5555555555555556,
              "#d8576b"
             ],
             [
              0.6666666666666666,
              "#ed7953"
             ],
             [
              0.7777777777777778,
              "#fb9f3a"
             ],
             [
              0.8888888888888888,
              "#fdca26"
             ],
             [
              1,
              "#f0f921"
             ]
            ],
            "type": "surface"
           }
          ],
          "table": [
           {
            "cells": {
             "fill": {
              "color": "#EBF0F8"
             },
             "line": {
              "color": "white"
             }
            },
            "header": {
             "fill": {
              "color": "#C8D4E3"
             },
             "line": {
              "color": "white"
             }
            },
            "type": "table"
           }
          ]
         },
         "layout": {
          "annotationdefaults": {
           "arrowcolor": "#2a3f5f",
           "arrowhead": 0,
           "arrowwidth": 1
          },
          "autotypenumbers": "strict",
          "coloraxis": {
           "colorbar": {
            "outlinewidth": 0,
            "ticks": ""
           }
          },
          "colorscale": {
           "diverging": [
            [
             0,
             "#8e0152"
            ],
            [
             0.1,
             "#c51b7d"
            ],
            [
             0.2,
             "#de77ae"
            ],
            [
             0.3,
             "#f1b6da"
            ],
            [
             0.4,
             "#fde0ef"
            ],
            [
             0.5,
             "#f7f7f7"
            ],
            [
             0.6,
             "#e6f5d0"
            ],
            [
             0.7,
             "#b8e186"
            ],
            [
             0.8,
             "#7fbc41"
            ],
            [
             0.9,
             "#4d9221"
            ],
            [
             1,
             "#276419"
            ]
           ],
           "sequential": [
            [
             0,
             "#0d0887"
            ],
            [
             0.1111111111111111,
             "#46039f"
            ],
            [
             0.2222222222222222,
             "#7201a8"
            ],
            [
             0.3333333333333333,
             "#9c179e"
            ],
            [
             0.4444444444444444,
             "#bd3786"
            ],
            [
             0.5555555555555556,
             "#d8576b"
            ],
            [
             0.6666666666666666,
             "#ed7953"
            ],
            [
             0.7777777777777778,
             "#fb9f3a"
            ],
            [
             0.8888888888888888,
             "#fdca26"
            ],
            [
             1,
             "#f0f921"
            ]
           ],
           "sequentialminus": [
            [
             0,
             "#0d0887"
            ],
            [
             0.1111111111111111,
             "#46039f"
            ],
            [
             0.2222222222222222,
             "#7201a8"
            ],
            [
             0.3333333333333333,
             "#9c179e"
            ],
            [
             0.4444444444444444,
             "#bd3786"
            ],
            [
             0.5555555555555556,
             "#d8576b"
            ],
            [
             0.6666666666666666,
             "#ed7953"
            ],
            [
             0.7777777777777778,
             "#fb9f3a"
            ],
            [
             0.8888888888888888,
             "#fdca26"
            ],
            [
             1,
             "#f0f921"
            ]
           ]
          },
          "colorway": [
           "#636efa",
           "#EF553B",
           "#00cc96",
           "#ab63fa",
           "#FFA15A",
           "#19d3f3",
           "#FF6692",
           "#B6E880",
           "#FF97FF",
           "#FECB52"
          ],
          "font": {
           "color": "#2a3f5f"
          },
          "geo": {
           "bgcolor": "white",
           "lakecolor": "white",
           "landcolor": "#E5ECF6",
           "showlakes": true,
           "showland": true,
           "subunitcolor": "white"
          },
          "hoverlabel": {
           "align": "left"
          },
          "hovermode": "closest",
          "mapbox": {
           "style": "light"
          },
          "paper_bgcolor": "white",
          "plot_bgcolor": "#E5ECF6",
          "polar": {
           "angularaxis": {
            "gridcolor": "white",
            "linecolor": "white",
            "ticks": ""
           },
           "bgcolor": "#E5ECF6",
           "radialaxis": {
            "gridcolor": "white",
            "linecolor": "white",
            "ticks": ""
           }
          },
          "scene": {
           "xaxis": {
            "backgroundcolor": "#E5ECF6",
            "gridcolor": "white",
            "gridwidth": 2,
            "linecolor": "white",
            "showbackground": true,
            "ticks": "",
            "zerolinecolor": "white"
           },
           "yaxis": {
            "backgroundcolor": "#E5ECF6",
            "gridcolor": "white",
            "gridwidth": 2,
            "linecolor": "white",
            "showbackground": true,
            "ticks": "",
            "zerolinecolor": "white"
           },
           "zaxis": {
            "backgroundcolor": "#E5ECF6",
            "gridcolor": "white",
            "gridwidth": 2,
            "linecolor": "white",
            "showbackground": true,
            "ticks": "",
            "zerolinecolor": "white"
           }
          },
          "shapedefaults": {
           "line": {
            "color": "#2a3f5f"
           }
          },
          "ternary": {
           "aaxis": {
            "gridcolor": "white",
            "linecolor": "white",
            "ticks": ""
           },
           "baxis": {
            "gridcolor": "white",
            "linecolor": "white",
            "ticks": ""
           },
           "bgcolor": "#E5ECF6",
           "caxis": {
            "gridcolor": "white",
            "linecolor": "white",
            "ticks": ""
           }
          },
          "title": {
           "x": 0.05
          },
          "xaxis": {
           "automargin": true,
           "gridcolor": "white",
           "linecolor": "white",
           "ticks": "",
           "title": {
            "standoff": 15
           },
           "zerolinecolor": "white",
           "zerolinewidth": 2
          },
          "yaxis": {
           "automargin": true,
           "gridcolor": "white",
           "linecolor": "white",
           "ticks": "",
           "title": {
            "standoff": 15
           },
           "zerolinecolor": "white",
           "zerolinewidth": 2
          }
         }
        },
        "xaxis": {
         "anchor": "y",
         "domain": [
          0,
          1
         ],
         "title": {
          "text": "height"
         }
        },
        "yaxis": {
         "anchor": "x",
         "domain": [
          0,
          1
         ],
         "title": {
          "text": "count"
         }
        }
       }
      }
     },
     "metadata": {},
     "output_type": "display_data"
    }
   ],
   "source": [
    "filtered_df = goalkeepers_df[(goalkeepers_df['height'] >= 180) & \n",
    "                  (goalkeepers_df['height'] <= 200)]\n",
    "\n",
    "fig = px.histogram(filtered_df, \n",
    "                   x='height', \n",
    "                   labels={'height': 'height'},\n",
    "                   nbins=100)\n",
    "\n",
    "fig.show()"
   ]
  },
  {
   "cell_type": "code",
   "execution_count": 765,
   "id": "931e4780",
   "metadata": {},
   "outputs": [],
   "source": [
    "goalkeepers_df = goalkeepers_df[(goalkeepers_df['height'] >= 180) & (goalkeepers_df['height'] <= 200)]"
   ]
  },
  {
   "cell_type": "code",
   "execution_count": 766,
   "id": "f2000707",
   "metadata": {},
   "outputs": [
    {
     "data": {
      "text/plain": [
       "(1204, 20)"
      ]
     },
     "execution_count": 766,
     "metadata": {},
     "output_type": "execute_result"
    }
   ],
   "source": [
    "goalkeepers_df.shape"
   ]
  },
  {
   "cell_type": "code",
   "execution_count": 767,
   "id": "33b26dad",
   "metadata": {},
   "outputs": [
    {
     "data": {
      "application/vnd.plotly.v1+json": {
       "config": {
        "plotlyServerURL": "https://plot.ly"
       },
       "data": [
        {
         "alignmentgroup": "True",
         "bingroup": "x",
         "hovertemplate": "age=%{x}<br>count=%{y}<extra></extra>",
         "legendgroup": "",
         "marker": {
          "color": "#636efa",
          "pattern": {
           "shape": ""
          }
         },
         "name": "",
         "nbinsx": 100,
         "offsetgroup": "",
         "orientation": "v",
         "showlegend": false,
         "type": "histogram",
         "x": [
          32,
          30,
          37,
          30,
          38,
          29,
          25,
          33,
          30,
          33,
          30,
          21,
          30,
          29,
          21,
          21,
          33,
          25,
          32,
          23,
          29,
          35,
          39,
          26,
          36,
          36,
          23,
          22,
          32,
          30,
          36,
          31,
          26,
          33,
          24,
          36,
          27,
          28,
          20,
          30,
          24,
          36,
          31,
          34,
          29,
          31,
          29,
          30,
          37,
          25,
          28,
          36,
          35,
          24,
          24,
          31,
          28,
          19,
          31,
          29,
          21,
          35,
          30,
          35,
          20,
          27,
          32,
          38,
          22,
          20,
          30,
          24,
          29,
          35,
          30,
          22,
          24,
          25,
          28,
          22,
          28,
          25,
          21,
          28,
          30,
          22,
          26,
          24,
          20,
          38,
          30,
          34,
          22,
          38,
          34,
          24,
          35,
          22,
          31,
          27,
          19,
          24,
          19,
          32,
          21,
          34,
          18,
          29,
          21,
          29,
          25,
          22,
          32,
          22,
          33,
          26,
          31,
          29,
          37,
          34,
          34,
          20,
          33,
          32,
          32,
          19,
          19,
          28,
          26,
          21,
          40,
          29,
          24,
          40,
          25,
          22,
          24,
          22,
          32,
          35,
          25,
          32,
          31,
          35,
          25,
          29,
          32,
          31,
          35,
          22,
          29,
          22,
          27,
          26,
          22,
          32,
          33,
          25,
          33,
          34,
          30,
          29,
          31,
          27,
          31,
          25,
          22,
          30,
          36,
          24,
          30,
          27,
          31,
          24,
          31,
          24,
          21,
          35,
          23,
          21,
          29,
          24,
          26,
          33,
          36,
          24,
          36,
          22,
          34,
          22,
          19,
          32,
          37,
          19,
          32,
          31,
          23,
          19,
          25,
          28,
          21,
          33,
          26,
          25,
          34,
          18,
          28,
          27,
          21,
          19,
          25,
          32,
          21,
          40,
          27,
          28,
          32,
          26,
          19,
          34,
          22,
          26,
          22,
          37,
          32,
          33,
          29,
          31,
          32,
          26,
          28,
          21,
          23,
          27,
          38,
          40,
          27,
          37,
          25,
          39,
          33,
          30,
          33,
          26,
          27,
          20,
          20,
          38,
          38,
          20,
          28,
          27,
          20,
          36,
          23,
          22,
          29,
          25,
          37,
          22,
          24,
          26,
          35,
          32,
          24,
          26,
          24,
          28,
          28,
          35,
          30,
          24,
          22,
          30,
          26,
          37,
          32,
          22,
          24,
          26,
          22,
          21,
          20,
          26,
          30,
          22,
          21,
          29,
          25,
          22,
          34,
          29,
          20,
          32,
          35,
          21,
          21,
          35,
          26,
          23,
          27,
          22,
          31,
          40,
          22,
          18,
          24,
          29,
          32,
          20,
          31,
          30,
          20,
          18,
          32,
          36,
          23,
          20,
          24,
          21,
          27,
          19,
          26,
          29,
          23,
          23,
          26,
          21,
          34,
          29,
          20,
          21,
          27,
          31,
          32,
          23,
          23,
          36,
          21,
          26,
          28,
          19,
          21,
          23,
          19,
          27,
          26,
          26,
          22,
          28,
          27,
          23,
          21,
          25,
          34,
          23,
          18,
          29,
          23,
          24,
          21,
          27,
          27,
          31,
          39,
          40,
          30,
          26,
          19,
          39,
          25,
          27,
          33,
          21,
          23,
          19,
          22,
          20,
          25,
          22,
          24,
          27,
          33,
          22,
          22,
          28,
          25,
          23,
          22,
          24,
          26,
          27,
          21,
          23,
          27,
          28,
          35,
          24,
          23,
          22,
          23,
          30,
          30,
          23,
          20,
          34,
          31,
          38,
          33,
          24,
          25,
          31,
          35,
          28,
          35,
          35,
          24,
          25,
          35,
          33,
          21,
          32,
          24,
          20,
          30,
          33,
          35,
          27,
          30,
          36,
          22,
          35,
          29,
          36,
          33,
          24,
          22,
          21,
          35,
          31,
          20,
          28,
          22,
          26,
          18,
          28,
          22,
          19,
          24,
          28,
          36,
          37,
          24,
          26,
          20,
          31,
          22,
          28,
          25,
          21,
          33,
          24,
          33,
          21,
          25,
          25,
          36,
          25,
          21,
          36,
          26,
          26,
          23,
          26,
          26,
          20,
          32,
          23,
          34,
          27,
          23,
          21,
          32,
          23,
          23,
          31,
          29,
          36,
          23,
          26,
          29,
          20,
          18,
          27,
          29,
          22,
          35,
          35,
          40,
          34,
          26,
          30,
          37,
          39,
          25,
          27,
          32,
          30,
          39,
          30,
          22,
          39,
          25,
          22,
          30,
          22,
          26,
          34,
          32,
          29,
          22,
          34,
          26,
          23,
          32,
          36,
          32,
          30,
          26,
          37,
          28,
          33,
          23,
          25,
          26,
          36,
          25,
          36,
          27,
          21,
          19,
          27,
          37,
          23,
          34,
          28,
          24,
          24,
          35,
          25,
          36,
          33,
          34,
          30,
          19,
          26,
          28,
          21,
          24,
          25,
          24,
          24,
          32,
          30,
          28,
          27,
          29,
          22,
          36,
          22,
          29,
          29,
          25,
          23,
          37,
          19,
          24,
          21,
          20,
          36,
          28,
          21,
          26,
          34,
          23,
          25,
          32,
          29,
          24,
          20,
          26,
          32,
          25,
          29,
          35,
          21,
          28,
          30,
          21,
          33,
          36,
          30,
          29,
          29,
          35,
          27,
          24,
          28,
          32,
          25,
          32,
          28,
          26,
          21,
          34,
          30,
          28,
          20,
          24,
          27,
          21,
          33,
          34,
          28,
          28,
          35,
          30,
          33,
          27,
          25,
          31,
          25,
          24,
          22,
          24,
          26,
          20,
          28,
          23,
          35,
          32,
          30,
          30,
          25,
          23,
          27,
          35,
          38,
          27,
          22,
          20,
          20,
          22,
          34,
          19,
          25,
          26,
          34,
          32,
          29,
          23,
          33,
          26,
          25,
          28,
          23,
          25,
          26,
          31,
          22,
          33,
          20,
          22,
          34,
          28,
          18,
          18,
          28,
          27,
          23,
          19,
          32,
          32,
          20,
          26,
          24,
          18,
          35,
          19,
          28,
          34,
          20,
          25,
          31,
          27,
          25,
          18,
          29,
          24,
          29,
          24,
          37,
          23,
          23,
          28,
          38,
          26,
          25,
          24,
          20,
          36,
          27,
          18,
          21,
          33,
          20,
          26,
          27,
          22,
          19,
          40,
          21,
          27,
          21,
          28,
          24,
          18,
          30,
          30,
          22,
          20,
          27,
          24,
          34,
          21,
          32,
          23,
          19,
          24,
          22,
          26,
          24,
          23,
          26,
          27,
          24,
          36,
          21,
          19,
          29,
          22,
          21,
          25,
          21,
          19,
          39,
          32,
          34,
          23,
          22,
          27,
          32,
          19,
          25,
          34,
          19,
          33,
          25,
          31,
          30,
          21,
          26,
          23,
          23,
          31,
          30,
          29,
          24,
          26,
          32,
          23,
          29,
          33,
          21,
          34,
          37,
          23,
          22,
          30,
          27,
          23,
          22,
          22,
          37,
          29,
          25,
          34,
          27,
          23,
          21,
          18,
          19,
          30,
          31,
          25,
          32,
          22,
          22,
          26,
          28,
          34,
          19,
          37,
          29,
          19,
          32,
          27,
          25,
          26,
          21,
          29,
          31,
          30,
          18,
          34,
          26,
          20,
          29,
          26,
          18,
          37,
          29,
          24,
          23,
          29,
          37,
          38,
          26,
          24,
          31,
          32,
          30,
          21,
          29,
          30,
          25,
          38,
          34,
          29,
          22,
          27,
          39,
          27,
          27,
          22,
          23,
          28,
          28,
          39,
          28,
          21,
          34,
          24,
          26,
          36,
          31,
          37,
          26,
          22,
          24,
          27,
          33,
          29,
          33,
          25,
          32,
          26,
          31,
          36,
          22,
          23,
          33,
          23,
          23,
          27,
          21,
          26,
          27,
          19,
          33,
          29,
          25,
          36,
          24,
          31,
          32,
          30,
          32,
          23,
          30,
          30,
          21,
          32,
          23,
          27,
          19,
          36,
          26,
          24,
          36,
          20,
          36,
          27,
          26,
          31,
          35,
          25,
          33,
          38,
          32,
          24,
          31,
          25,
          26,
          37,
          31,
          35,
          34,
          24,
          30,
          23,
          24,
          32,
          31,
          20,
          35,
          34,
          29,
          35,
          22,
          21,
          32,
          24,
          18,
          26,
          26,
          28,
          36,
          24,
          30,
          27,
          28,
          24,
          21,
          33,
          29,
          20,
          21,
          40,
          24,
          28,
          23,
          33,
          28,
          34,
          30,
          25,
          33,
          28,
          26,
          26,
          25,
          34,
          20,
          23,
          24,
          38,
          19,
          23,
          27,
          32,
          40,
          36,
          20,
          29,
          26,
          22,
          37,
          30,
          18,
          32,
          26,
          31,
          34,
          32,
          36,
          35,
          27,
          18,
          26,
          26,
          34,
          26,
          33,
          32,
          24,
          22,
          26,
          31,
          23,
          25,
          21,
          35,
          39,
          30,
          30,
          28,
          31,
          37,
          34,
          27,
          24,
          18,
          33,
          28,
          24,
          21,
          34,
          26,
          19,
          35,
          27,
          29,
          36,
          32,
          19,
          29,
          26,
          37,
          31,
          36,
          26,
          21,
          27,
          34,
          23,
          26,
          37,
          31,
          23,
          25,
          24,
          28,
          29,
          36,
          19,
          26,
          28,
          23,
          22,
          34,
          25,
          23,
          20,
          29,
          25,
          34,
          22,
          20,
          31,
          25,
          20,
          21,
          34,
          27,
          29,
          18,
          19,
          31,
          33,
          34,
          22,
          31,
          29,
          25,
          20,
          28,
          22,
          31,
          23,
          27,
          22,
          22,
          18,
          22,
          31,
          36,
          21,
          22,
          29,
          37,
          27,
          27,
          32,
          22,
          26,
          34,
          32,
          36,
          25,
          26,
          36,
          27,
          26,
          30,
          27,
          25,
          24,
          37,
          29,
          25,
          28,
          33,
          28,
          27,
          33,
          20,
          28,
          37,
          27,
          33,
          30,
          19,
          29,
          26,
          37,
          29,
          32,
          22,
          22,
          26,
          27,
          34,
          31,
          38,
          31,
          38,
          28,
          28,
          35,
          20,
          28,
          30,
          20,
          37,
          27,
          30,
          26,
          22,
          21,
          25,
          31,
          23,
          18,
          26,
          24,
          18,
          26,
          38,
          26,
          27,
          20,
          25,
          23,
          19,
          34,
          26,
          20,
          22,
          23,
          19,
          18,
          31,
          25
         ],
         "xaxis": "x",
         "yaxis": "y"
        }
       ],
       "layout": {
        "barmode": "relative",
        "legend": {
         "tracegroupgap": 0
        },
        "margin": {
         "t": 60
        },
        "template": {
         "data": {
          "bar": [
           {
            "error_x": {
             "color": "#2a3f5f"
            },
            "error_y": {
             "color": "#2a3f5f"
            },
            "marker": {
             "line": {
              "color": "#E5ECF6",
              "width": 0.5
             },
             "pattern": {
              "fillmode": "overlay",
              "size": 10,
              "solidity": 0.2
             }
            },
            "type": "bar"
           }
          ],
          "barpolar": [
           {
            "marker": {
             "line": {
              "color": "#E5ECF6",
              "width": 0.5
             },
             "pattern": {
              "fillmode": "overlay",
              "size": 10,
              "solidity": 0.2
             }
            },
            "type": "barpolar"
           }
          ],
          "carpet": [
           {
            "aaxis": {
             "endlinecolor": "#2a3f5f",
             "gridcolor": "white",
             "linecolor": "white",
             "minorgridcolor": "white",
             "startlinecolor": "#2a3f5f"
            },
            "baxis": {
             "endlinecolor": "#2a3f5f",
             "gridcolor": "white",
             "linecolor": "white",
             "minorgridcolor": "white",
             "startlinecolor": "#2a3f5f"
            },
            "type": "carpet"
           }
          ],
          "choropleth": [
           {
            "colorbar": {
             "outlinewidth": 0,
             "ticks": ""
            },
            "type": "choropleth"
           }
          ],
          "contour": [
           {
            "colorbar": {
             "outlinewidth": 0,
             "ticks": ""
            },
            "colorscale": [
             [
              0,
              "#0d0887"
             ],
             [
              0.1111111111111111,
              "#46039f"
             ],
             [
              0.2222222222222222,
              "#7201a8"
             ],
             [
              0.3333333333333333,
              "#9c179e"
             ],
             [
              0.4444444444444444,
              "#bd3786"
             ],
             [
              0.5555555555555556,
              "#d8576b"
             ],
             [
              0.6666666666666666,
              "#ed7953"
             ],
             [
              0.7777777777777778,
              "#fb9f3a"
             ],
             [
              0.8888888888888888,
              "#fdca26"
             ],
             [
              1,
              "#f0f921"
             ]
            ],
            "type": "contour"
           }
          ],
          "contourcarpet": [
           {
            "colorbar": {
             "outlinewidth": 0,
             "ticks": ""
            },
            "type": "contourcarpet"
           }
          ],
          "heatmap": [
           {
            "colorbar": {
             "outlinewidth": 0,
             "ticks": ""
            },
            "colorscale": [
             [
              0,
              "#0d0887"
             ],
             [
              0.1111111111111111,
              "#46039f"
             ],
             [
              0.2222222222222222,
              "#7201a8"
             ],
             [
              0.3333333333333333,
              "#9c179e"
             ],
             [
              0.4444444444444444,
              "#bd3786"
             ],
             [
              0.5555555555555556,
              "#d8576b"
             ],
             [
              0.6666666666666666,
              "#ed7953"
             ],
             [
              0.7777777777777778,
              "#fb9f3a"
             ],
             [
              0.8888888888888888,
              "#fdca26"
             ],
             [
              1,
              "#f0f921"
             ]
            ],
            "type": "heatmap"
           }
          ],
          "heatmapgl": [
           {
            "colorbar": {
             "outlinewidth": 0,
             "ticks": ""
            },
            "colorscale": [
             [
              0,
              "#0d0887"
             ],
             [
              0.1111111111111111,
              "#46039f"
             ],
             [
              0.2222222222222222,
              "#7201a8"
             ],
             [
              0.3333333333333333,
              "#9c179e"
             ],
             [
              0.4444444444444444,
              "#bd3786"
             ],
             [
              0.5555555555555556,
              "#d8576b"
             ],
             [
              0.6666666666666666,
              "#ed7953"
             ],
             [
              0.7777777777777778,
              "#fb9f3a"
             ],
             [
              0.8888888888888888,
              "#fdca26"
             ],
             [
              1,
              "#f0f921"
             ]
            ],
            "type": "heatmapgl"
           }
          ],
          "histogram": [
           {
            "marker": {
             "pattern": {
              "fillmode": "overlay",
              "size": 10,
              "solidity": 0.2
             }
            },
            "type": "histogram"
           }
          ],
          "histogram2d": [
           {
            "colorbar": {
             "outlinewidth": 0,
             "ticks": ""
            },
            "colorscale": [
             [
              0,
              "#0d0887"
             ],
             [
              0.1111111111111111,
              "#46039f"
             ],
             [
              0.2222222222222222,
              "#7201a8"
             ],
             [
              0.3333333333333333,
              "#9c179e"
             ],
             [
              0.4444444444444444,
              "#bd3786"
             ],
             [
              0.5555555555555556,
              "#d8576b"
             ],
             [
              0.6666666666666666,
              "#ed7953"
             ],
             [
              0.7777777777777778,
              "#fb9f3a"
             ],
             [
              0.8888888888888888,
              "#fdca26"
             ],
             [
              1,
              "#f0f921"
             ]
            ],
            "type": "histogram2d"
           }
          ],
          "histogram2dcontour": [
           {
            "colorbar": {
             "outlinewidth": 0,
             "ticks": ""
            },
            "colorscale": [
             [
              0,
              "#0d0887"
             ],
             [
              0.1111111111111111,
              "#46039f"
             ],
             [
              0.2222222222222222,
              "#7201a8"
             ],
             [
              0.3333333333333333,
              "#9c179e"
             ],
             [
              0.4444444444444444,
              "#bd3786"
             ],
             [
              0.5555555555555556,
              "#d8576b"
             ],
             [
              0.6666666666666666,
              "#ed7953"
             ],
             [
              0.7777777777777778,
              "#fb9f3a"
             ],
             [
              0.8888888888888888,
              "#fdca26"
             ],
             [
              1,
              "#f0f921"
             ]
            ],
            "type": "histogram2dcontour"
           }
          ],
          "mesh3d": [
           {
            "colorbar": {
             "outlinewidth": 0,
             "ticks": ""
            },
            "type": "mesh3d"
           }
          ],
          "parcoords": [
           {
            "line": {
             "colorbar": {
              "outlinewidth": 0,
              "ticks": ""
             }
            },
            "type": "parcoords"
           }
          ],
          "pie": [
           {
            "automargin": true,
            "type": "pie"
           }
          ],
          "scatter": [
           {
            "fillpattern": {
             "fillmode": "overlay",
             "size": 10,
             "solidity": 0.2
            },
            "type": "scatter"
           }
          ],
          "scatter3d": [
           {
            "line": {
             "colorbar": {
              "outlinewidth": 0,
              "ticks": ""
             }
            },
            "marker": {
             "colorbar": {
              "outlinewidth": 0,
              "ticks": ""
             }
            },
            "type": "scatter3d"
           }
          ],
          "scattercarpet": [
           {
            "marker": {
             "colorbar": {
              "outlinewidth": 0,
              "ticks": ""
             }
            },
            "type": "scattercarpet"
           }
          ],
          "scattergeo": [
           {
            "marker": {
             "colorbar": {
              "outlinewidth": 0,
              "ticks": ""
             }
            },
            "type": "scattergeo"
           }
          ],
          "scattergl": [
           {
            "marker": {
             "colorbar": {
              "outlinewidth": 0,
              "ticks": ""
             }
            },
            "type": "scattergl"
           }
          ],
          "scattermapbox": [
           {
            "marker": {
             "colorbar": {
              "outlinewidth": 0,
              "ticks": ""
             }
            },
            "type": "scattermapbox"
           }
          ],
          "scatterpolar": [
           {
            "marker": {
             "colorbar": {
              "outlinewidth": 0,
              "ticks": ""
             }
            },
            "type": "scatterpolar"
           }
          ],
          "scatterpolargl": [
           {
            "marker": {
             "colorbar": {
              "outlinewidth": 0,
              "ticks": ""
             }
            },
            "type": "scatterpolargl"
           }
          ],
          "scatterternary": [
           {
            "marker": {
             "colorbar": {
              "outlinewidth": 0,
              "ticks": ""
             }
            },
            "type": "scatterternary"
           }
          ],
          "surface": [
           {
            "colorbar": {
             "outlinewidth": 0,
             "ticks": ""
            },
            "colorscale": [
             [
              0,
              "#0d0887"
             ],
             [
              0.1111111111111111,
              "#46039f"
             ],
             [
              0.2222222222222222,
              "#7201a8"
             ],
             [
              0.3333333333333333,
              "#9c179e"
             ],
             [
              0.4444444444444444,
              "#bd3786"
             ],
             [
              0.5555555555555556,
              "#d8576b"
             ],
             [
              0.6666666666666666,
              "#ed7953"
             ],
             [
              0.7777777777777778,
              "#fb9f3a"
             ],
             [
              0.8888888888888888,
              "#fdca26"
             ],
             [
              1,
              "#f0f921"
             ]
            ],
            "type": "surface"
           }
          ],
          "table": [
           {
            "cells": {
             "fill": {
              "color": "#EBF0F8"
             },
             "line": {
              "color": "white"
             }
            },
            "header": {
             "fill": {
              "color": "#C8D4E3"
             },
             "line": {
              "color": "white"
             }
            },
            "type": "table"
           }
          ]
         },
         "layout": {
          "annotationdefaults": {
           "arrowcolor": "#2a3f5f",
           "arrowhead": 0,
           "arrowwidth": 1
          },
          "autotypenumbers": "strict",
          "coloraxis": {
           "colorbar": {
            "outlinewidth": 0,
            "ticks": ""
           }
          },
          "colorscale": {
           "diverging": [
            [
             0,
             "#8e0152"
            ],
            [
             0.1,
             "#c51b7d"
            ],
            [
             0.2,
             "#de77ae"
            ],
            [
             0.3,
             "#f1b6da"
            ],
            [
             0.4,
             "#fde0ef"
            ],
            [
             0.5,
             "#f7f7f7"
            ],
            [
             0.6,
             "#e6f5d0"
            ],
            [
             0.7,
             "#b8e186"
            ],
            [
             0.8,
             "#7fbc41"
            ],
            [
             0.9,
             "#4d9221"
            ],
            [
             1,
             "#276419"
            ]
           ],
           "sequential": [
            [
             0,
             "#0d0887"
            ],
            [
             0.1111111111111111,
             "#46039f"
            ],
            [
             0.2222222222222222,
             "#7201a8"
            ],
            [
             0.3333333333333333,
             "#9c179e"
            ],
            [
             0.4444444444444444,
             "#bd3786"
            ],
            [
             0.5555555555555556,
             "#d8576b"
            ],
            [
             0.6666666666666666,
             "#ed7953"
            ],
            [
             0.7777777777777778,
             "#fb9f3a"
            ],
            [
             0.8888888888888888,
             "#fdca26"
            ],
            [
             1,
             "#f0f921"
            ]
           ],
           "sequentialminus": [
            [
             0,
             "#0d0887"
            ],
            [
             0.1111111111111111,
             "#46039f"
            ],
            [
             0.2222222222222222,
             "#7201a8"
            ],
            [
             0.3333333333333333,
             "#9c179e"
            ],
            [
             0.4444444444444444,
             "#bd3786"
            ],
            [
             0.5555555555555556,
             "#d8576b"
            ],
            [
             0.6666666666666666,
             "#ed7953"
            ],
            [
             0.7777777777777778,
             "#fb9f3a"
            ],
            [
             0.8888888888888888,
             "#fdca26"
            ],
            [
             1,
             "#f0f921"
            ]
           ]
          },
          "colorway": [
           "#636efa",
           "#EF553B",
           "#00cc96",
           "#ab63fa",
           "#FFA15A",
           "#19d3f3",
           "#FF6692",
           "#B6E880",
           "#FF97FF",
           "#FECB52"
          ],
          "font": {
           "color": "#2a3f5f"
          },
          "geo": {
           "bgcolor": "white",
           "lakecolor": "white",
           "landcolor": "#E5ECF6",
           "showlakes": true,
           "showland": true,
           "subunitcolor": "white"
          },
          "hoverlabel": {
           "align": "left"
          },
          "hovermode": "closest",
          "mapbox": {
           "style": "light"
          },
          "paper_bgcolor": "white",
          "plot_bgcolor": "#E5ECF6",
          "polar": {
           "angularaxis": {
            "gridcolor": "white",
            "linecolor": "white",
            "ticks": ""
           },
           "bgcolor": "#E5ECF6",
           "radialaxis": {
            "gridcolor": "white",
            "linecolor": "white",
            "ticks": ""
           }
          },
          "scene": {
           "xaxis": {
            "backgroundcolor": "#E5ECF6",
            "gridcolor": "white",
            "gridwidth": 2,
            "linecolor": "white",
            "showbackground": true,
            "ticks": "",
            "zerolinecolor": "white"
           },
           "yaxis": {
            "backgroundcolor": "#E5ECF6",
            "gridcolor": "white",
            "gridwidth": 2,
            "linecolor": "white",
            "showbackground": true,
            "ticks": "",
            "zerolinecolor": "white"
           },
           "zaxis": {
            "backgroundcolor": "#E5ECF6",
            "gridcolor": "white",
            "gridwidth": 2,
            "linecolor": "white",
            "showbackground": true,
            "ticks": "",
            "zerolinecolor": "white"
           }
          },
          "shapedefaults": {
           "line": {
            "color": "#2a3f5f"
           }
          },
          "ternary": {
           "aaxis": {
            "gridcolor": "white",
            "linecolor": "white",
            "ticks": ""
           },
           "baxis": {
            "gridcolor": "white",
            "linecolor": "white",
            "ticks": ""
           },
           "bgcolor": "#E5ECF6",
           "caxis": {
            "gridcolor": "white",
            "linecolor": "white",
            "ticks": ""
           }
          },
          "title": {
           "x": 0.05
          },
          "xaxis": {
           "automargin": true,
           "gridcolor": "white",
           "linecolor": "white",
           "ticks": "",
           "title": {
            "standoff": 15
           },
           "zerolinecolor": "white",
           "zerolinewidth": 2
          },
          "yaxis": {
           "automargin": true,
           "gridcolor": "white",
           "linecolor": "white",
           "ticks": "",
           "title": {
            "standoff": 15
           },
           "zerolinecolor": "white",
           "zerolinewidth": 2
          }
         }
        },
        "xaxis": {
         "anchor": "y",
         "domain": [
          0,
          1
         ],
         "title": {
          "text": "age"
         }
        },
        "yaxis": {
         "anchor": "x",
         "domain": [
          0,
          1
         ],
         "title": {
          "text": "count"
         }
        }
       }
      }
     },
     "metadata": {},
     "output_type": "display_data"
    }
   ],
   "source": [
    "filtered_df = goalkeepers_df[(goalkeepers_df['age'] >= 18) & \n",
    "                  (goalkeepers_df['age'] <= 40)]\n",
    "\n",
    "fig = px.histogram(filtered_df, \n",
    "                   x='age', \n",
    "                   labels={'age': 'age'},\n",
    "                   nbins=100)\n",
    "\n",
    "fig.show()"
   ]
  },
  {
   "cell_type": "code",
   "execution_count": 768,
   "id": "428b412e",
   "metadata": {},
   "outputs": [],
   "source": [
    "goalkeepers_df = goalkeepers_df[(goalkeepers_df['age'] >= 18) & (goalkeepers_df['age'] <= 40)]"
   ]
  },
  {
   "cell_type": "code",
   "execution_count": 769,
   "id": "cd9b190c",
   "metadata": {},
   "outputs": [
    {
     "data": {
      "text/plain": [
       "(1184, 20)"
      ]
     },
     "execution_count": 769,
     "metadata": {},
     "output_type": "execute_result"
    }
   ],
   "source": [
    "goalkeepers_df.shape"
   ]
  },
  {
   "cell_type": "code",
   "execution_count": 770,
   "id": "4e79a606",
   "metadata": {},
   "outputs": [
    {
     "data": {
      "application/vnd.plotly.v1+json": {
       "config": {
        "plotlyServerURL": "https://plot.ly"
       },
       "data": [
        {
         "alignmentgroup": "True",
         "hovertemplate": "Highest_valuated_price (Euro)=%{y}<extra></extra>",
         "legendgroup": "",
         "marker": {
          "color": "#636efa"
         },
         "name": "",
         "notched": false,
         "offsetgroup": "",
         "orientation": "v",
         "showlegend": false,
         "type": "box",
         "x0": " ",
         "xaxis": "x",
         "y": [
          70000000,
          22000000,
          6000000,
          17500000,
          9000000,
          10000000,
          2000000,
          3500000,
          35000000,
          10000000,
          2000000,
          400000,
          18000000,
          4000000,
          200000,
          18000000,
          6500000,
          32000000,
          1500000,
          200000,
          40000000,
          13000000,
          700000,
          22000000,
          20000000,
          5500000,
          22000000,
          2000000,
          7500000,
          12000000,
          10000000,
          35000000,
          6000000,
          18000000,
          2500000,
          4500000,
          25000000,
          25000000,
          500000,
          90000000,
          8000000,
          9000000,
          18000000,
          7500000,
          12000000,
          500000,
          70000000,
          6000000,
          6000000,
          38000000,
          5000000,
          30000000,
          15000000,
          1000000,
          300000,
          32000000,
          60000000,
          8000000,
          4000000,
          8000000,
          500000,
          3000000,
          14000000,
          800000,
          200000,
          100000,
          10000000,
          400000,
          300000,
          250000,
          3500000,
          1500000,
          800000,
          1500000,
          7000000,
          300000,
          300000,
          10000000,
          1500000,
          200000,
          5000000,
          2000000,
          200000,
          5000000,
          12000000,
          100000,
          100000,
          4500000,
          400000,
          2500000,
          9000000,
          13000000,
          250000,
          750000,
          1200000,
          900000,
          2000000,
          100000,
          12000000,
          800000,
          300000,
          300000,
          150000,
          12000000,
          750000,
          750000,
          250000,
          7000000,
          3500000,
          600000,
          35000000,
          1500000,
          1000000,
          1500000,
          12000000,
          2500000,
          10500000,
          400000,
          45000000,
          13000000,
          6000000,
          300000,
          13000000,
          2000000,
          3000000,
          200000,
          0,
          25000000,
          300000,
          1500000,
          22000000,
          15000000,
          5000000,
          15000000,
          30000000,
          5000000,
          100000,
          25000000,
          7500000,
          4000000,
          300000,
          18000000,
          12000000,
          9000000,
          2500000,
          8000000,
          10000000,
          4000000,
          1000000,
          300000,
          4000000,
          600000,
          10000000,
          2000000,
          300000,
          2000000,
          2500000,
          250000,
          12000000,
          6000000,
          10000000,
          800000,
          4000000,
          1500000,
          18000000,
          4000000,
          400000,
          18000000,
          7500000,
          400000,
          100000000,
          7000000,
          75000000,
          8500000,
          90000000,
          4200000,
          2000000,
          20000000,
          2500000,
          150000,
          12000000,
          12000000,
          200000,
          2000000,
          21500000,
          700000,
          8000000,
          750000,
          7000000,
          300000,
          25000,
          10000000,
          2000000,
          50000,
          7000000,
          9000000,
          500000,
          200000,
          7000000,
          20000000,
          500000,
          2500000,
          16000000,
          1300000,
          3500000,
          200000,
          5000000,
          300000,
          500000,
          75000,
          16000000,
          12500000,
          100000,
          13000000,
          4500000,
          300000,
          200000,
          15000000,
          500000,
          500000,
          13000000,
          250000,
          100000,
          8000000,
          6000000,
          800000,
          20000000,
          10000000,
          175000,
          40000000,
          17000000,
          150000,
          100000,
          45000000,
          24000000,
          1000000,
          35000000,
          5000000,
          400000,
          6000000,
          40000000,
          18000000,
          1000000,
          16000000,
          5000000,
          200000,
          4000000,
          17000000,
          2200000,
          200000,
          24000000,
          10000000,
          400000,
          12000000,
          2000000,
          150000,
          10000000,
          5000000,
          1300000,
          200000,
          20000000,
          1200000,
          1500000,
          17000000,
          1500000,
          2500000,
          300000,
          4500000,
          3000000,
          3500000,
          2000000,
          400000,
          150000,
          2500000,
          1100000,
          1000000,
          7000000,
          500000,
          200000,
          10000000,
          2500000,
          100000,
          100000,
          15000000,
          1200000,
          200000,
          150000,
          1500000,
          1800000,
          150000,
          1250000,
          300000,
          200000,
          25000000,
          4000000,
          250000,
          10000000,
          8000000,
          1200000,
          5000000,
          700000,
          100000,
          8000000,
          3000000,
          150000,
          100000,
          65000000,
          20000000,
          1500000,
          150000,
          10000000,
          650000,
          500000,
          300000,
          3500000,
          5000000,
          100000,
          25000,
          2000000,
          350000,
          600000,
          25000,
          1500000,
          600000,
          25000,
          1500000,
          750000,
          50000,
          20000000,
          900000,
          75000,
          25000,
          2000000,
          225000,
          250000,
          100000,
          1000000,
          3000000,
          25000,
          850000,
          300000,
          175000,
          1000000,
          175000,
          50000,
          800000,
          1000000,
          150000,
          25000,
          850000,
          750000,
          50000,
          25000,
          650000,
          3000000,
          550000,
          50000,
          5000000,
          900000,
          250000,
          200000,
          800000,
          75000,
          14000000,
          1250000,
          11000000,
          14000000,
          4500000,
          300000,
          3000000,
          13000000,
          1300000,
          500000,
          100000,
          7000000,
          1000000,
          300000,
          200000,
          5500000,
          1500000,
          100000,
          7000000,
          800000,
          100000,
          100000,
          4000000,
          2500000,
          200000,
          550000,
          100000,
          1500000,
          1000000,
          300000,
          100000,
          2000000,
          1000000,
          3000000,
          6000000,
          7000000,
          1200000,
          100000,
          2800000,
          600000,
          100000,
          100000,
          900000,
          600000,
          1250000,
          4000000,
          400000,
          250000,
          2000000,
          600000,
          100000,
          1500000,
          1000000,
          100000,
          2000000,
          3000000,
          150000,
          100000,
          3500000,
          250000,
          100000,
          2000000,
          1250000,
          750000,
          300000,
          1000000,
          200000,
          150000,
          6000000,
          400000,
          3250000,
          3500000,
          4000000,
          450000,
          2500000,
          5000000,
          6000000,
          2000000,
          4000000,
          4000000,
          1500000,
          0,
          8000000,
          500000,
          0,
          1000000,
          300000,
          500000,
          2000000,
          1500000,
          650000,
          200000,
          900000,
          100000,
          1500000,
          100000,
          100000,
          1500000,
          2000000,
          250000,
          100000,
          200000,
          100000,
          1000000,
          300000,
          200000,
          2500000,
          700000,
          300000,
          350000,
          800000,
          700000,
          100000,
          1000000,
          100000,
          400000,
          275000,
          100000,
          2000000,
          5000000,
          200000,
          45000000,
          2000000,
          1500000,
          8000000,
          1000000,
          100000,
          18000000,
          2000000,
          2000000,
          5000000,
          1500000,
          200000,
          2800000,
          1500000,
          2000000,
          1800000,
          300000,
          2000000,
          3000000,
          4000000,
          500000,
          2500000,
          2500000,
          500000,
          900000,
          400000,
          50000,
          1000000,
          200000,
          100000,
          2000000,
          300000,
          3500000,
          800000,
          10000000,
          600000,
          200000,
          2500000,
          1000000,
          100000,
          800000,
          2500000,
          4000000,
          1500000,
          100000,
          3000000,
          200000,
          1200000,
          450000,
          3500000,
          700000,
          7000000,
          200000,
          6500000,
          800000,
          300000,
          2500000,
          3000000,
          8000000,
          250000,
          1500000,
          1500000,
          2000000,
          600000,
          900000,
          1000000,
          3500000,
          1200000,
          850000,
          400000,
          50000,
          2000000,
          350000,
          100000,
          800000,
          400000,
          700000,
          600000,
          1200000,
          600000,
          800000,
          2250000,
          1500000,
          600000,
          800000,
          800000,
          400000,
          5800000,
          13000000,
          250000,
          20000000,
          500000,
          16000000,
          1000000,
          1200000,
          2000000,
          700000,
          1500000,
          900000,
          2000000,
          7000000,
          250000,
          4500000,
          1000000,
          600000,
          800000,
          10000000,
          500000,
          2000000,
          500000,
          1000000,
          150000,
          1500000,
          500000,
          100000,
          8000000,
          5000000,
          900000,
          450000,
          750000,
          2000000,
          250000,
          150000,
          1000000,
          400000,
          800000,
          500000,
          100000,
          1200000,
          150000,
          18000000,
          900000,
          300000,
          250000,
          3000000,
          400000,
          200000,
          1000000,
          200000,
          10000000,
          300000,
          400000,
          900000,
          500000,
          2000000,
          600000,
          300000,
          1000000,
          400000,
          300000,
          12000000,
          1500000,
          250000,
          3000000,
          3500000,
          750000,
          700000,
          750000,
          3000000,
          1000000,
          150000,
          10000000,
          9000000,
          500000,
          19000000,
          300000,
          125000,
          75000,
          10000000,
          5000000,
          175000,
          800000,
          1200000,
          8000000,
          7000000,
          600000,
          650000,
          750000,
          1000000,
          100000,
          4500000,
          100000,
          50000,
          75000,
          2800000,
          450000,
          2800000,
          50000,
          50000,
          1500000,
          750000,
          50000,
          50000,
          3200000,
          300000,
          100000,
          75000,
          800000,
          1500000,
          75000,
          175000,
          1700000,
          75000,
          5000000,
          50000,
          800000,
          800000,
          50000,
          25000,
          2500000,
          200000,
          50000,
          50000,
          550000,
          50000,
          300000,
          800000,
          12000000,
          75000,
          3500000,
          600000,
          1800000,
          50000,
          16000000,
          3500000,
          150000,
          18000000,
          1300000,
          225000,
          2000000,
          1500000,
          250000,
          250000,
          4500000,
          500000,
          175000,
          1000000,
          400000,
          500000,
          200000,
          400000,
          300000,
          25000,
          700000,
          4000000,
          250000,
          25000,
          400000,
          350000,
          200000,
          25000,
          400000,
          400000,
          50000,
          25000,
          1800000,
          500000,
          150000,
          1200000,
          300000,
          200000,
          700000,
          600000,
          75000,
          25000,
          400000,
          450000,
          125000,
          4500000,
          325000,
          300000,
          1500000,
          3000000,
          850000,
          50000,
          500000,
          275000,
          450000,
          25000,
          1500000,
          500000,
          25000,
          3000000,
          175000,
          150000,
          800000,
          700000,
          300000,
          3500000,
          150000,
          200000,
          1300000,
          1500000,
          150000,
          600000,
          300000,
          150000,
          500000,
          600000,
          100000,
          4500000,
          700000,
          125000,
          75000,
          1800000,
          800000,
          75000,
          25000,
          500000,
          1000000,
          250000,
          1600000,
          2000000,
          1000000,
          500000,
          400000,
          100000,
          1500000,
          350000,
          800000,
          800000,
          2500000,
          150000,
          25000,
          1500000,
          175000,
          600000,
          100000,
          900000,
          500000,
          50000,
          14000000,
          200000,
          50000,
          400000,
          200000,
          175000,
          675000,
          200000,
          75000,
          550000,
          150000,
          50000,
          4000000,
          1000000,
          100000,
          1000000,
          400000,
          50000,
          50000,
          500000,
          600000,
          5000000,
          300000,
          200000,
          275000,
          800000,
          200000,
          50000,
          3000000,
          350000,
          225000,
          1500000,
          1800000,
          300000,
          150000,
          2000000,
          1100000,
          2200000,
          3000000,
          100000,
          3500000,
          500000,
          4000000,
          4500000,
          750000,
          25000,
          1000000,
          250000,
          1500000,
          850000,
          1000000,
          1300000,
          2000000,
          25000,
          800000,
          500000,
          800000,
          300000,
          2800000,
          1200000,
          750000,
          850000,
          500000,
          600000,
          25000,
          3000000,
          150000,
          25000,
          1500000,
          1500000,
          25000,
          1800000,
          250000,
          250000,
          150000,
          100000,
          125000,
          250000,
          75000,
          3000000,
          1500000,
          750000,
          450000,
          25000,
          1500000,
          650000,
          25000,
          1800000,
          25000,
          1000000,
          300000,
          7500000,
          750000,
          100000,
          7000000,
          200000,
          900000,
          4000000,
          400000,
          75000,
          5000000,
          200000,
          700000,
          1650000,
          400000,
          50000,
          600000,
          300000,
          175000,
          750000,
          1200000,
          1250000,
          500000,
          50000,
          2500000,
          550000,
          500000,
          50000,
          900000,
          200000,
          400000,
          2500000,
          200000,
          200000,
          50000,
          350000,
          600000,
          50000,
          50000,
          50000,
          500000,
          300000,
          1000000,
          100000,
          600000,
          150000,
          125000,
          50000,
          0,
          750000,
          200000,
          50000,
          0,
          400000,
          800000,
          400000,
          75000,
          175000,
          1400000,
          500000,
          200000,
          1100000,
          200000,
          50000,
          50000,
          450000,
          350000,
          50000,
          25000,
          650000,
          125000,
          1000000,
          25000,
          1000000,
          350000,
          100000,
          1000000,
          2000000,
          300000,
          350000,
          200000,
          850000,
          1450000,
          100000,
          0,
          1250000,
          550000,
          850000,
          550000,
          250000,
          4500000,
          250000,
          0,
          25000,
          3000000,
          100000,
          1600000,
          150000,
          150000,
          875000,
          75000,
          25000,
          75000,
          700000,
          50000,
          75000,
          0,
          450000,
          2000000,
          600000,
          800000,
          250000,
          175000,
          475000,
          1750000,
          200000,
          25000,
          50000,
          2500000,
          400000,
          25000,
          25000,
          5000000,
          125000,
          25000,
          500000,
          175000,
          150000,
          5000000,
          725000,
          25000,
          1000000,
          50000,
          575000,
          2800000,
          750000,
          450000,
          25000,
          7000000,
          8000000,
          600000,
          175000,
          775000,
          500000,
          150000,
          100000,
          75000,
          600000,
          400000,
          250000,
          75000,
          450000,
          450000,
          125000,
          75000,
          800000,
          350000,
          300000,
          50000,
          750000,
          250000,
          600000,
          50000,
          50000,
          425000,
          275000,
          75000,
          50000,
          650000,
          450000,
          200000,
          50000,
          50000,
          600000,
          450000,
          600000,
          50000,
          550000,
          300000,
          150000,
          75000,
          425000,
          200000,
          300000,
          75000,
          500000,
          200000,
          50000,
          50000,
          50000,
          1650000,
          300000,
          100000,
          100000,
          550000,
          500000,
          50000,
          425000,
          400000,
          50000,
          550000,
          450000,
          450000,
          175000,
          25000,
          50000,
          750000,
          350000,
          25000,
          375000,
          150000,
          150000,
          150000,
          0,
          75000,
          750000,
          200000,
          175000,
          650000,
          200000,
          125000,
          25000,
          275000,
          375000,
          50000,
          1200000,
          200000,
          50000,
          1000000,
          400000,
          300000,
          650000,
          550000,
          25000,
          50000,
          100000,
          25000,
          150000,
          1500000,
          1000000,
          400000,
          550000,
          450000,
          350000,
          1250000,
          50000,
          500000,
          250000,
          50000,
          500000,
          250000,
          700000,
          150000,
          200000,
          250000,
          150000,
          800000,
          250000,
          25000,
          250000,
          150000,
          25000,
          0,
          1200000,
          50000,
          700000,
          150000,
          800000,
          150000,
          25000,
          800000,
          200000,
          100000,
          450000,
          350000,
          50000,
          50000,
          1000000,
          400000
         ],
         "y0": " ",
         "yaxis": "y"
        }
       ],
       "layout": {
        "boxmode": "group",
        "legend": {
         "tracegroupgap": 0
        },
        "margin": {
         "t": 60
        },
        "template": {
         "data": {
          "bar": [
           {
            "error_x": {
             "color": "#2a3f5f"
            },
            "error_y": {
             "color": "#2a3f5f"
            },
            "marker": {
             "line": {
              "color": "#E5ECF6",
              "width": 0.5
             },
             "pattern": {
              "fillmode": "overlay",
              "size": 10,
              "solidity": 0.2
             }
            },
            "type": "bar"
           }
          ],
          "barpolar": [
           {
            "marker": {
             "line": {
              "color": "#E5ECF6",
              "width": 0.5
             },
             "pattern": {
              "fillmode": "overlay",
              "size": 10,
              "solidity": 0.2
             }
            },
            "type": "barpolar"
           }
          ],
          "carpet": [
           {
            "aaxis": {
             "endlinecolor": "#2a3f5f",
             "gridcolor": "white",
             "linecolor": "white",
             "minorgridcolor": "white",
             "startlinecolor": "#2a3f5f"
            },
            "baxis": {
             "endlinecolor": "#2a3f5f",
             "gridcolor": "white",
             "linecolor": "white",
             "minorgridcolor": "white",
             "startlinecolor": "#2a3f5f"
            },
            "type": "carpet"
           }
          ],
          "choropleth": [
           {
            "colorbar": {
             "outlinewidth": 0,
             "ticks": ""
            },
            "type": "choropleth"
           }
          ],
          "contour": [
           {
            "colorbar": {
             "outlinewidth": 0,
             "ticks": ""
            },
            "colorscale": [
             [
              0,
              "#0d0887"
             ],
             [
              0.1111111111111111,
              "#46039f"
             ],
             [
              0.2222222222222222,
              "#7201a8"
             ],
             [
              0.3333333333333333,
              "#9c179e"
             ],
             [
              0.4444444444444444,
              "#bd3786"
             ],
             [
              0.5555555555555556,
              "#d8576b"
             ],
             [
              0.6666666666666666,
              "#ed7953"
             ],
             [
              0.7777777777777778,
              "#fb9f3a"
             ],
             [
              0.8888888888888888,
              "#fdca26"
             ],
             [
              1,
              "#f0f921"
             ]
            ],
            "type": "contour"
           }
          ],
          "contourcarpet": [
           {
            "colorbar": {
             "outlinewidth": 0,
             "ticks": ""
            },
            "type": "contourcarpet"
           }
          ],
          "heatmap": [
           {
            "colorbar": {
             "outlinewidth": 0,
             "ticks": ""
            },
            "colorscale": [
             [
              0,
              "#0d0887"
             ],
             [
              0.1111111111111111,
              "#46039f"
             ],
             [
              0.2222222222222222,
              "#7201a8"
             ],
             [
              0.3333333333333333,
              "#9c179e"
             ],
             [
              0.4444444444444444,
              "#bd3786"
             ],
             [
              0.5555555555555556,
              "#d8576b"
             ],
             [
              0.6666666666666666,
              "#ed7953"
             ],
             [
              0.7777777777777778,
              "#fb9f3a"
             ],
             [
              0.8888888888888888,
              "#fdca26"
             ],
             [
              1,
              "#f0f921"
             ]
            ],
            "type": "heatmap"
           }
          ],
          "heatmapgl": [
           {
            "colorbar": {
             "outlinewidth": 0,
             "ticks": ""
            },
            "colorscale": [
             [
              0,
              "#0d0887"
             ],
             [
              0.1111111111111111,
              "#46039f"
             ],
             [
              0.2222222222222222,
              "#7201a8"
             ],
             [
              0.3333333333333333,
              "#9c179e"
             ],
             [
              0.4444444444444444,
              "#bd3786"
             ],
             [
              0.5555555555555556,
              "#d8576b"
             ],
             [
              0.6666666666666666,
              "#ed7953"
             ],
             [
              0.7777777777777778,
              "#fb9f3a"
             ],
             [
              0.8888888888888888,
              "#fdca26"
             ],
             [
              1,
              "#f0f921"
             ]
            ],
            "type": "heatmapgl"
           }
          ],
          "histogram": [
           {
            "marker": {
             "pattern": {
              "fillmode": "overlay",
              "size": 10,
              "solidity": 0.2
             }
            },
            "type": "histogram"
           }
          ],
          "histogram2d": [
           {
            "colorbar": {
             "outlinewidth": 0,
             "ticks": ""
            },
            "colorscale": [
             [
              0,
              "#0d0887"
             ],
             [
              0.1111111111111111,
              "#46039f"
             ],
             [
              0.2222222222222222,
              "#7201a8"
             ],
             [
              0.3333333333333333,
              "#9c179e"
             ],
             [
              0.4444444444444444,
              "#bd3786"
             ],
             [
              0.5555555555555556,
              "#d8576b"
             ],
             [
              0.6666666666666666,
              "#ed7953"
             ],
             [
              0.7777777777777778,
              "#fb9f3a"
             ],
             [
              0.8888888888888888,
              "#fdca26"
             ],
             [
              1,
              "#f0f921"
             ]
            ],
            "type": "histogram2d"
           }
          ],
          "histogram2dcontour": [
           {
            "colorbar": {
             "outlinewidth": 0,
             "ticks": ""
            },
            "colorscale": [
             [
              0,
              "#0d0887"
             ],
             [
              0.1111111111111111,
              "#46039f"
             ],
             [
              0.2222222222222222,
              "#7201a8"
             ],
             [
              0.3333333333333333,
              "#9c179e"
             ],
             [
              0.4444444444444444,
              "#bd3786"
             ],
             [
              0.5555555555555556,
              "#d8576b"
             ],
             [
              0.6666666666666666,
              "#ed7953"
             ],
             [
              0.7777777777777778,
              "#fb9f3a"
             ],
             [
              0.8888888888888888,
              "#fdca26"
             ],
             [
              1,
              "#f0f921"
             ]
            ],
            "type": "histogram2dcontour"
           }
          ],
          "mesh3d": [
           {
            "colorbar": {
             "outlinewidth": 0,
             "ticks": ""
            },
            "type": "mesh3d"
           }
          ],
          "parcoords": [
           {
            "line": {
             "colorbar": {
              "outlinewidth": 0,
              "ticks": ""
             }
            },
            "type": "parcoords"
           }
          ],
          "pie": [
           {
            "automargin": true,
            "type": "pie"
           }
          ],
          "scatter": [
           {
            "fillpattern": {
             "fillmode": "overlay",
             "size": 10,
             "solidity": 0.2
            },
            "type": "scatter"
           }
          ],
          "scatter3d": [
           {
            "line": {
             "colorbar": {
              "outlinewidth": 0,
              "ticks": ""
             }
            },
            "marker": {
             "colorbar": {
              "outlinewidth": 0,
              "ticks": ""
             }
            },
            "type": "scatter3d"
           }
          ],
          "scattercarpet": [
           {
            "marker": {
             "colorbar": {
              "outlinewidth": 0,
              "ticks": ""
             }
            },
            "type": "scattercarpet"
           }
          ],
          "scattergeo": [
           {
            "marker": {
             "colorbar": {
              "outlinewidth": 0,
              "ticks": ""
             }
            },
            "type": "scattergeo"
           }
          ],
          "scattergl": [
           {
            "marker": {
             "colorbar": {
              "outlinewidth": 0,
              "ticks": ""
             }
            },
            "type": "scattergl"
           }
          ],
          "scattermapbox": [
           {
            "marker": {
             "colorbar": {
              "outlinewidth": 0,
              "ticks": ""
             }
            },
            "type": "scattermapbox"
           }
          ],
          "scatterpolar": [
           {
            "marker": {
             "colorbar": {
              "outlinewidth": 0,
              "ticks": ""
             }
            },
            "type": "scatterpolar"
           }
          ],
          "scatterpolargl": [
           {
            "marker": {
             "colorbar": {
              "outlinewidth": 0,
              "ticks": ""
             }
            },
            "type": "scatterpolargl"
           }
          ],
          "scatterternary": [
           {
            "marker": {
             "colorbar": {
              "outlinewidth": 0,
              "ticks": ""
             }
            },
            "type": "scatterternary"
           }
          ],
          "surface": [
           {
            "colorbar": {
             "outlinewidth": 0,
             "ticks": ""
            },
            "colorscale": [
             [
              0,
              "#0d0887"
             ],
             [
              0.1111111111111111,
              "#46039f"
             ],
             [
              0.2222222222222222,
              "#7201a8"
             ],
             [
              0.3333333333333333,
              "#9c179e"
             ],
             [
              0.4444444444444444,
              "#bd3786"
             ],
             [
              0.5555555555555556,
              "#d8576b"
             ],
             [
              0.6666666666666666,
              "#ed7953"
             ],
             [
              0.7777777777777778,
              "#fb9f3a"
             ],
             [
              0.8888888888888888,
              "#fdca26"
             ],
             [
              1,
              "#f0f921"
             ]
            ],
            "type": "surface"
           }
          ],
          "table": [
           {
            "cells": {
             "fill": {
              "color": "#EBF0F8"
             },
             "line": {
              "color": "white"
             }
            },
            "header": {
             "fill": {
              "color": "#C8D4E3"
             },
             "line": {
              "color": "white"
             }
            },
            "type": "table"
           }
          ]
         },
         "layout": {
          "annotationdefaults": {
           "arrowcolor": "#2a3f5f",
           "arrowhead": 0,
           "arrowwidth": 1
          },
          "autotypenumbers": "strict",
          "coloraxis": {
           "colorbar": {
            "outlinewidth": 0,
            "ticks": ""
           }
          },
          "colorscale": {
           "diverging": [
            [
             0,
             "#8e0152"
            ],
            [
             0.1,
             "#c51b7d"
            ],
            [
             0.2,
             "#de77ae"
            ],
            [
             0.3,
             "#f1b6da"
            ],
            [
             0.4,
             "#fde0ef"
            ],
            [
             0.5,
             "#f7f7f7"
            ],
            [
             0.6,
             "#e6f5d0"
            ],
            [
             0.7,
             "#b8e186"
            ],
            [
             0.8,
             "#7fbc41"
            ],
            [
             0.9,
             "#4d9221"
            ],
            [
             1,
             "#276419"
            ]
           ],
           "sequential": [
            [
             0,
             "#0d0887"
            ],
            [
             0.1111111111111111,
             "#46039f"
            ],
            [
             0.2222222222222222,
             "#7201a8"
            ],
            [
             0.3333333333333333,
             "#9c179e"
            ],
            [
             0.4444444444444444,
             "#bd3786"
            ],
            [
             0.5555555555555556,
             "#d8576b"
            ],
            [
             0.6666666666666666,
             "#ed7953"
            ],
            [
             0.7777777777777778,
             "#fb9f3a"
            ],
            [
             0.8888888888888888,
             "#fdca26"
            ],
            [
             1,
             "#f0f921"
            ]
           ],
           "sequentialminus": [
            [
             0,
             "#0d0887"
            ],
            [
             0.1111111111111111,
             "#46039f"
            ],
            [
             0.2222222222222222,
             "#7201a8"
            ],
            [
             0.3333333333333333,
             "#9c179e"
            ],
            [
             0.4444444444444444,
             "#bd3786"
            ],
            [
             0.5555555555555556,
             "#d8576b"
            ],
            [
             0.6666666666666666,
             "#ed7953"
            ],
            [
             0.7777777777777778,
             "#fb9f3a"
            ],
            [
             0.8888888888888888,
             "#fdca26"
            ],
            [
             1,
             "#f0f921"
            ]
           ]
          },
          "colorway": [
           "#636efa",
           "#EF553B",
           "#00cc96",
           "#ab63fa",
           "#FFA15A",
           "#19d3f3",
           "#FF6692",
           "#B6E880",
           "#FF97FF",
           "#FECB52"
          ],
          "font": {
           "color": "#2a3f5f"
          },
          "geo": {
           "bgcolor": "white",
           "lakecolor": "white",
           "landcolor": "#E5ECF6",
           "showlakes": true,
           "showland": true,
           "subunitcolor": "white"
          },
          "hoverlabel": {
           "align": "left"
          },
          "hovermode": "closest",
          "mapbox": {
           "style": "light"
          },
          "paper_bgcolor": "white",
          "plot_bgcolor": "#E5ECF6",
          "polar": {
           "angularaxis": {
            "gridcolor": "white",
            "linecolor": "white",
            "ticks": ""
           },
           "bgcolor": "#E5ECF6",
           "radialaxis": {
            "gridcolor": "white",
            "linecolor": "white",
            "ticks": ""
           }
          },
          "scene": {
           "xaxis": {
            "backgroundcolor": "#E5ECF6",
            "gridcolor": "white",
            "gridwidth": 2,
            "linecolor": "white",
            "showbackground": true,
            "ticks": "",
            "zerolinecolor": "white"
           },
           "yaxis": {
            "backgroundcolor": "#E5ECF6",
            "gridcolor": "white",
            "gridwidth": 2,
            "linecolor": "white",
            "showbackground": true,
            "ticks": "",
            "zerolinecolor": "white"
           },
           "zaxis": {
            "backgroundcolor": "#E5ECF6",
            "gridcolor": "white",
            "gridwidth": 2,
            "linecolor": "white",
            "showbackground": true,
            "ticks": "",
            "zerolinecolor": "white"
           }
          },
          "shapedefaults": {
           "line": {
            "color": "#2a3f5f"
           }
          },
          "ternary": {
           "aaxis": {
            "gridcolor": "white",
            "linecolor": "white",
            "ticks": ""
           },
           "baxis": {
            "gridcolor": "white",
            "linecolor": "white",
            "ticks": ""
           },
           "bgcolor": "#E5ECF6",
           "caxis": {
            "gridcolor": "white",
            "linecolor": "white",
            "ticks": ""
           }
          },
          "title": {
           "x": 0.05
          },
          "xaxis": {
           "automargin": true,
           "gridcolor": "white",
           "linecolor": "white",
           "ticks": "",
           "title": {
            "standoff": 15
           },
           "zerolinecolor": "white",
           "zerolinewidth": 2
          },
          "yaxis": {
           "automargin": true,
           "gridcolor": "white",
           "linecolor": "white",
           "ticks": "",
           "title": {
            "standoff": 15
           },
           "zerolinecolor": "white",
           "zerolinewidth": 2
          }
         }
        },
        "xaxis": {
         "anchor": "y",
         "domain": [
          0,
          1
         ]
        },
        "yaxis": {
         "anchor": "x",
         "domain": [
          0,
          1
         ],
         "title": {
          "text": "Highest_valuated_price (Euro)"
         }
        }
       }
      }
     },
     "metadata": {},
     "output_type": "display_data"
    }
   ],
   "source": [
    "fig = px.box(goalkeepers_df, y = 'Highest_valuated_price (Euro)')\n",
    "fig.show()"
   ]
  },
  {
   "cell_type": "code",
   "execution_count": 771,
   "id": "5731ed58",
   "metadata": {},
   "outputs": [
    {
     "data": {
      "application/vnd.plotly.v1+json": {
       "config": {
        "plotlyServerURL": "https://plot.ly"
       },
       "data": [
        {
         "alignmentgroup": "True",
         "bingroup": "x",
         "hovertemplate": "Highest_valuated_price (Euro)=%{x}<br>count=%{y}<extra></extra>",
         "legendgroup": "",
         "marker": {
          "color": "#636efa",
          "pattern": {
           "shape": ""
          }
         },
         "name": "",
         "nbinsx": 100,
         "offsetgroup": "",
         "orientation": "v",
         "showlegend": false,
         "type": "histogram",
         "x": [
          6000000,
          9000000,
          10000000,
          2000000,
          3500000,
          10000000,
          2000000,
          400000,
          4000000,
          6500000,
          1500000,
          700000,
          5500000,
          2000000,
          7500000,
          10000000,
          6000000,
          2500000,
          4500000,
          500000,
          8000000,
          9000000,
          7500000,
          500000,
          6000000,
          6000000,
          5000000,
          1000000,
          300000,
          8000000,
          4000000,
          8000000,
          500000,
          3000000,
          800000,
          10000000,
          400000,
          300000,
          250000,
          3500000,
          1500000,
          800000,
          1500000,
          7000000,
          300000,
          300000,
          10000000,
          1500000,
          5000000,
          2000000,
          5000000,
          4500000,
          400000,
          2500000,
          9000000,
          250000,
          750000,
          1200000,
          900000,
          2000000,
          800000,
          300000,
          300000,
          750000,
          750000,
          250000,
          7000000,
          3500000,
          600000,
          1500000,
          1000000,
          1500000,
          2500000,
          400000,
          6000000,
          300000,
          2000000,
          3000000,
          300000,
          1500000,
          5000000,
          5000000,
          7500000,
          4000000,
          300000,
          9000000,
          2500000,
          8000000,
          10000000,
          4000000,
          1000000,
          300000,
          4000000,
          600000,
          10000000,
          2000000,
          300000,
          2000000,
          2500000,
          250000,
          6000000,
          10000000,
          800000,
          4000000,
          1500000,
          4000000,
          400000,
          7500000,
          400000,
          7000000,
          8500000,
          4200000,
          2000000,
          2500000,
          2000000,
          700000,
          8000000,
          750000,
          7000000,
          300000,
          10000000,
          2000000,
          7000000,
          9000000,
          500000,
          7000000,
          500000,
          2500000,
          1300000,
          3500000,
          5000000,
          300000,
          500000,
          4500000,
          300000,
          500000,
          500000,
          250000,
          8000000,
          6000000,
          800000,
          10000000,
          1000000,
          5000000,
          400000,
          6000000,
          1000000,
          5000000,
          4000000,
          2200000,
          10000000,
          400000,
          2000000,
          10000000,
          5000000,
          1300000,
          1200000,
          1500000,
          1500000,
          2500000,
          300000,
          4500000,
          3000000,
          3500000,
          2000000,
          400000,
          2500000,
          1100000,
          1000000,
          7000000,
          500000,
          10000000,
          2500000,
          1200000,
          1500000,
          1800000,
          1250000,
          300000,
          4000000,
          250000,
          10000000,
          8000000,
          1200000,
          5000000,
          700000,
          8000000,
          3000000,
          1500000,
          10000000,
          650000,
          500000,
          300000,
          3500000,
          5000000,
          2000000,
          350000,
          600000,
          1500000,
          600000,
          1500000,
          750000,
          900000,
          2000000,
          225000,
          250000,
          1000000,
          3000000,
          850000,
          300000,
          1000000,
          800000,
          1000000,
          850000,
          750000,
          650000,
          3000000,
          550000,
          5000000,
          900000,
          250000,
          800000,
          1250000,
          4500000,
          300000,
          3000000,
          1300000,
          500000,
          7000000,
          1000000,
          300000,
          5500000,
          1500000,
          7000000,
          800000,
          4000000,
          2500000,
          550000,
          1500000,
          1000000,
          300000,
          2000000,
          1000000,
          3000000,
          6000000,
          7000000,
          1200000,
          2800000,
          600000,
          900000,
          600000,
          1250000,
          4000000,
          400000,
          250000,
          2000000,
          600000,
          1500000,
          1000000,
          2000000,
          3000000,
          3500000,
          250000,
          2000000,
          1250000,
          750000,
          300000,
          1000000,
          6000000,
          400000,
          3250000,
          3500000,
          4000000,
          450000,
          2500000,
          5000000,
          6000000,
          2000000,
          4000000,
          4000000,
          1500000,
          8000000,
          500000,
          1000000,
          300000,
          500000,
          2000000,
          1500000,
          650000,
          900000,
          1500000,
          1500000,
          2000000,
          250000,
          1000000,
          300000,
          2500000,
          700000,
          300000,
          350000,
          800000,
          700000,
          1000000,
          400000,
          275000,
          2000000,
          5000000,
          2000000,
          1500000,
          8000000,
          1000000,
          2000000,
          2000000,
          5000000,
          1500000,
          2800000,
          1500000,
          2000000,
          1800000,
          300000,
          2000000,
          3000000,
          4000000,
          500000,
          2500000,
          2500000,
          500000,
          900000,
          400000,
          1000000,
          2000000,
          300000,
          3500000,
          800000,
          10000000,
          600000,
          2500000,
          1000000,
          800000,
          2500000,
          4000000,
          1500000,
          3000000,
          1200000,
          450000,
          3500000,
          700000,
          7000000,
          6500000,
          800000,
          300000,
          2500000,
          3000000,
          8000000,
          250000,
          1500000,
          1500000,
          2000000,
          600000,
          900000,
          1000000,
          3500000,
          1200000,
          850000,
          400000,
          2000000,
          350000,
          800000,
          400000,
          700000,
          600000,
          1200000,
          600000,
          800000,
          2250000,
          1500000,
          600000,
          800000,
          800000,
          400000,
          5800000,
          250000,
          500000,
          1000000,
          1200000,
          2000000,
          700000,
          1500000,
          900000,
          2000000,
          7000000,
          250000,
          4500000,
          1000000,
          600000,
          800000,
          10000000,
          500000,
          2000000,
          500000,
          1000000,
          1500000,
          500000,
          8000000,
          5000000,
          900000,
          450000,
          750000,
          2000000,
          250000,
          1000000,
          400000,
          800000,
          500000,
          1200000,
          900000,
          300000,
          250000,
          3000000,
          400000,
          1000000,
          10000000,
          300000,
          400000,
          900000,
          500000,
          2000000,
          600000,
          300000,
          1000000,
          400000,
          300000,
          1500000,
          250000,
          3000000,
          3500000,
          750000,
          700000,
          750000,
          3000000,
          1000000,
          10000000,
          9000000,
          500000,
          300000,
          10000000,
          5000000,
          800000,
          1200000,
          8000000,
          7000000,
          600000,
          650000,
          750000,
          1000000,
          4500000,
          2800000,
          450000,
          2800000,
          1500000,
          750000,
          3200000,
          300000,
          800000,
          1500000,
          1700000,
          5000000,
          800000,
          800000,
          2500000,
          550000,
          300000,
          800000,
          3500000,
          600000,
          1800000,
          3500000,
          1300000,
          225000,
          2000000,
          1500000,
          250000,
          250000,
          4500000,
          500000,
          1000000,
          400000,
          500000,
          400000,
          300000,
          700000,
          4000000,
          250000,
          400000,
          350000,
          400000,
          400000,
          1800000,
          500000,
          1200000,
          300000,
          700000,
          600000,
          400000,
          450000,
          4500000,
          325000,
          300000,
          1500000,
          3000000,
          850000,
          500000,
          275000,
          450000,
          1500000,
          500000,
          3000000,
          800000,
          700000,
          300000,
          3500000,
          1300000,
          1500000,
          600000,
          300000,
          500000,
          600000,
          4500000,
          700000,
          1800000,
          800000,
          500000,
          1000000,
          250000,
          1600000,
          2000000,
          1000000,
          500000,
          400000,
          1500000,
          350000,
          800000,
          800000,
          2500000,
          1500000,
          600000,
          900000,
          500000,
          400000,
          675000,
          550000,
          4000000,
          1000000,
          1000000,
          400000,
          500000,
          600000,
          5000000,
          300000,
          275000,
          800000,
          3000000,
          350000,
          225000,
          1500000,
          1800000,
          300000,
          2000000,
          1100000,
          2200000,
          3000000,
          3500000,
          500000,
          4000000,
          4500000,
          750000,
          1000000,
          250000,
          1500000,
          850000,
          1000000,
          1300000,
          2000000,
          800000,
          500000,
          800000,
          300000,
          2800000,
          1200000,
          750000,
          850000,
          500000,
          600000,
          3000000,
          1500000,
          1500000,
          1800000,
          250000,
          250000,
          250000,
          3000000,
          1500000,
          750000,
          450000,
          1500000,
          650000,
          1800000,
          1000000,
          300000,
          7500000,
          750000,
          7000000,
          900000,
          4000000,
          400000,
          5000000,
          700000,
          1650000,
          400000,
          600000,
          300000,
          750000,
          1200000,
          1250000,
          500000,
          2500000,
          550000,
          500000,
          900000,
          400000,
          2500000,
          350000,
          600000,
          500000,
          300000,
          1000000,
          600000,
          750000,
          400000,
          800000,
          400000,
          1400000,
          500000,
          1100000,
          450000,
          350000,
          650000,
          1000000,
          1000000,
          350000,
          1000000,
          2000000,
          300000,
          350000,
          850000,
          1450000,
          1250000,
          550000,
          850000,
          550000,
          250000,
          4500000,
          250000,
          3000000,
          1600000,
          875000,
          700000,
          450000,
          2000000,
          600000,
          800000,
          250000,
          475000,
          1750000,
          2500000,
          400000,
          5000000,
          500000,
          5000000,
          725000,
          1000000,
          575000,
          2800000,
          750000,
          450000,
          7000000,
          8000000,
          600000,
          775000,
          500000,
          600000,
          400000,
          250000,
          450000,
          450000,
          800000,
          350000,
          300000,
          750000,
          250000,
          600000,
          425000,
          275000,
          650000,
          450000,
          600000,
          450000,
          600000,
          550000,
          300000,
          425000,
          300000,
          500000,
          1650000,
          300000,
          550000,
          500000,
          425000,
          400000,
          550000,
          450000,
          450000,
          750000,
          350000,
          375000,
          750000,
          650000,
          275000,
          375000,
          1200000,
          1000000,
          400000,
          300000,
          650000,
          550000,
          1500000,
          1000000,
          400000,
          550000,
          450000,
          350000,
          1250000,
          500000,
          250000,
          500000,
          250000,
          700000,
          250000,
          800000,
          250000,
          250000,
          1200000,
          700000,
          800000,
          800000,
          450000,
          350000,
          1000000,
          400000
         ],
         "xaxis": "x",
         "yaxis": "y"
        }
       ],
       "layout": {
        "barmode": "relative",
        "legend": {
         "tracegroupgap": 0
        },
        "margin": {
         "t": 60
        },
        "template": {
         "data": {
          "bar": [
           {
            "error_x": {
             "color": "#2a3f5f"
            },
            "error_y": {
             "color": "#2a3f5f"
            },
            "marker": {
             "line": {
              "color": "#E5ECF6",
              "width": 0.5
             },
             "pattern": {
              "fillmode": "overlay",
              "size": 10,
              "solidity": 0.2
             }
            },
            "type": "bar"
           }
          ],
          "barpolar": [
           {
            "marker": {
             "line": {
              "color": "#E5ECF6",
              "width": 0.5
             },
             "pattern": {
              "fillmode": "overlay",
              "size": 10,
              "solidity": 0.2
             }
            },
            "type": "barpolar"
           }
          ],
          "carpet": [
           {
            "aaxis": {
             "endlinecolor": "#2a3f5f",
             "gridcolor": "white",
             "linecolor": "white",
             "minorgridcolor": "white",
             "startlinecolor": "#2a3f5f"
            },
            "baxis": {
             "endlinecolor": "#2a3f5f",
             "gridcolor": "white",
             "linecolor": "white",
             "minorgridcolor": "white",
             "startlinecolor": "#2a3f5f"
            },
            "type": "carpet"
           }
          ],
          "choropleth": [
           {
            "colorbar": {
             "outlinewidth": 0,
             "ticks": ""
            },
            "type": "choropleth"
           }
          ],
          "contour": [
           {
            "colorbar": {
             "outlinewidth": 0,
             "ticks": ""
            },
            "colorscale": [
             [
              0,
              "#0d0887"
             ],
             [
              0.1111111111111111,
              "#46039f"
             ],
             [
              0.2222222222222222,
              "#7201a8"
             ],
             [
              0.3333333333333333,
              "#9c179e"
             ],
             [
              0.4444444444444444,
              "#bd3786"
             ],
             [
              0.5555555555555556,
              "#d8576b"
             ],
             [
              0.6666666666666666,
              "#ed7953"
             ],
             [
              0.7777777777777778,
              "#fb9f3a"
             ],
             [
              0.8888888888888888,
              "#fdca26"
             ],
             [
              1,
              "#f0f921"
             ]
            ],
            "type": "contour"
           }
          ],
          "contourcarpet": [
           {
            "colorbar": {
             "outlinewidth": 0,
             "ticks": ""
            },
            "type": "contourcarpet"
           }
          ],
          "heatmap": [
           {
            "colorbar": {
             "outlinewidth": 0,
             "ticks": ""
            },
            "colorscale": [
             [
              0,
              "#0d0887"
             ],
             [
              0.1111111111111111,
              "#46039f"
             ],
             [
              0.2222222222222222,
              "#7201a8"
             ],
             [
              0.3333333333333333,
              "#9c179e"
             ],
             [
              0.4444444444444444,
              "#bd3786"
             ],
             [
              0.5555555555555556,
              "#d8576b"
             ],
             [
              0.6666666666666666,
              "#ed7953"
             ],
             [
              0.7777777777777778,
              "#fb9f3a"
             ],
             [
              0.8888888888888888,
              "#fdca26"
             ],
             [
              1,
              "#f0f921"
             ]
            ],
            "type": "heatmap"
           }
          ],
          "heatmapgl": [
           {
            "colorbar": {
             "outlinewidth": 0,
             "ticks": ""
            },
            "colorscale": [
             [
              0,
              "#0d0887"
             ],
             [
              0.1111111111111111,
              "#46039f"
             ],
             [
              0.2222222222222222,
              "#7201a8"
             ],
             [
              0.3333333333333333,
              "#9c179e"
             ],
             [
              0.4444444444444444,
              "#bd3786"
             ],
             [
              0.5555555555555556,
              "#d8576b"
             ],
             [
              0.6666666666666666,
              "#ed7953"
             ],
             [
              0.7777777777777778,
              "#fb9f3a"
             ],
             [
              0.8888888888888888,
              "#fdca26"
             ],
             [
              1,
              "#f0f921"
             ]
            ],
            "type": "heatmapgl"
           }
          ],
          "histogram": [
           {
            "marker": {
             "pattern": {
              "fillmode": "overlay",
              "size": 10,
              "solidity": 0.2
             }
            },
            "type": "histogram"
           }
          ],
          "histogram2d": [
           {
            "colorbar": {
             "outlinewidth": 0,
             "ticks": ""
            },
            "colorscale": [
             [
              0,
              "#0d0887"
             ],
             [
              0.1111111111111111,
              "#46039f"
             ],
             [
              0.2222222222222222,
              "#7201a8"
             ],
             [
              0.3333333333333333,
              "#9c179e"
             ],
             [
              0.4444444444444444,
              "#bd3786"
             ],
             [
              0.5555555555555556,
              "#d8576b"
             ],
             [
              0.6666666666666666,
              "#ed7953"
             ],
             [
              0.7777777777777778,
              "#fb9f3a"
             ],
             [
              0.8888888888888888,
              "#fdca26"
             ],
             [
              1,
              "#f0f921"
             ]
            ],
            "type": "histogram2d"
           }
          ],
          "histogram2dcontour": [
           {
            "colorbar": {
             "outlinewidth": 0,
             "ticks": ""
            },
            "colorscale": [
             [
              0,
              "#0d0887"
             ],
             [
              0.1111111111111111,
              "#46039f"
             ],
             [
              0.2222222222222222,
              "#7201a8"
             ],
             [
              0.3333333333333333,
              "#9c179e"
             ],
             [
              0.4444444444444444,
              "#bd3786"
             ],
             [
              0.5555555555555556,
              "#d8576b"
             ],
             [
              0.6666666666666666,
              "#ed7953"
             ],
             [
              0.7777777777777778,
              "#fb9f3a"
             ],
             [
              0.8888888888888888,
              "#fdca26"
             ],
             [
              1,
              "#f0f921"
             ]
            ],
            "type": "histogram2dcontour"
           }
          ],
          "mesh3d": [
           {
            "colorbar": {
             "outlinewidth": 0,
             "ticks": ""
            },
            "type": "mesh3d"
           }
          ],
          "parcoords": [
           {
            "line": {
             "colorbar": {
              "outlinewidth": 0,
              "ticks": ""
             }
            },
            "type": "parcoords"
           }
          ],
          "pie": [
           {
            "automargin": true,
            "type": "pie"
           }
          ],
          "scatter": [
           {
            "fillpattern": {
             "fillmode": "overlay",
             "size": 10,
             "solidity": 0.2
            },
            "type": "scatter"
           }
          ],
          "scatter3d": [
           {
            "line": {
             "colorbar": {
              "outlinewidth": 0,
              "ticks": ""
             }
            },
            "marker": {
             "colorbar": {
              "outlinewidth": 0,
              "ticks": ""
             }
            },
            "type": "scatter3d"
           }
          ],
          "scattercarpet": [
           {
            "marker": {
             "colorbar": {
              "outlinewidth": 0,
              "ticks": ""
             }
            },
            "type": "scattercarpet"
           }
          ],
          "scattergeo": [
           {
            "marker": {
             "colorbar": {
              "outlinewidth": 0,
              "ticks": ""
             }
            },
            "type": "scattergeo"
           }
          ],
          "scattergl": [
           {
            "marker": {
             "colorbar": {
              "outlinewidth": 0,
              "ticks": ""
             }
            },
            "type": "scattergl"
           }
          ],
          "scattermapbox": [
           {
            "marker": {
             "colorbar": {
              "outlinewidth": 0,
              "ticks": ""
             }
            },
            "type": "scattermapbox"
           }
          ],
          "scatterpolar": [
           {
            "marker": {
             "colorbar": {
              "outlinewidth": 0,
              "ticks": ""
             }
            },
            "type": "scatterpolar"
           }
          ],
          "scatterpolargl": [
           {
            "marker": {
             "colorbar": {
              "outlinewidth": 0,
              "ticks": ""
             }
            },
            "type": "scatterpolargl"
           }
          ],
          "scatterternary": [
           {
            "marker": {
             "colorbar": {
              "outlinewidth": 0,
              "ticks": ""
             }
            },
            "type": "scatterternary"
           }
          ],
          "surface": [
           {
            "colorbar": {
             "outlinewidth": 0,
             "ticks": ""
            },
            "colorscale": [
             [
              0,
              "#0d0887"
             ],
             [
              0.1111111111111111,
              "#46039f"
             ],
             [
              0.2222222222222222,
              "#7201a8"
             ],
             [
              0.3333333333333333,
              "#9c179e"
             ],
             [
              0.4444444444444444,
              "#bd3786"
             ],
             [
              0.5555555555555556,
              "#d8576b"
             ],
             [
              0.6666666666666666,
              "#ed7953"
             ],
             [
              0.7777777777777778,
              "#fb9f3a"
             ],
             [
              0.8888888888888888,
              "#fdca26"
             ],
             [
              1,
              "#f0f921"
             ]
            ],
            "type": "surface"
           }
          ],
          "table": [
           {
            "cells": {
             "fill": {
              "color": "#EBF0F8"
             },
             "line": {
              "color": "white"
             }
            },
            "header": {
             "fill": {
              "color": "#C8D4E3"
             },
             "line": {
              "color": "white"
             }
            },
            "type": "table"
           }
          ]
         },
         "layout": {
          "annotationdefaults": {
           "arrowcolor": "#2a3f5f",
           "arrowhead": 0,
           "arrowwidth": 1
          },
          "autotypenumbers": "strict",
          "coloraxis": {
           "colorbar": {
            "outlinewidth": 0,
            "ticks": ""
           }
          },
          "colorscale": {
           "diverging": [
            [
             0,
             "#8e0152"
            ],
            [
             0.1,
             "#c51b7d"
            ],
            [
             0.2,
             "#de77ae"
            ],
            [
             0.3,
             "#f1b6da"
            ],
            [
             0.4,
             "#fde0ef"
            ],
            [
             0.5,
             "#f7f7f7"
            ],
            [
             0.6,
             "#e6f5d0"
            ],
            [
             0.7,
             "#b8e186"
            ],
            [
             0.8,
             "#7fbc41"
            ],
            [
             0.9,
             "#4d9221"
            ],
            [
             1,
             "#276419"
            ]
           ],
           "sequential": [
            [
             0,
             "#0d0887"
            ],
            [
             0.1111111111111111,
             "#46039f"
            ],
            [
             0.2222222222222222,
             "#7201a8"
            ],
            [
             0.3333333333333333,
             "#9c179e"
            ],
            [
             0.4444444444444444,
             "#bd3786"
            ],
            [
             0.5555555555555556,
             "#d8576b"
            ],
            [
             0.6666666666666666,
             "#ed7953"
            ],
            [
             0.7777777777777778,
             "#fb9f3a"
            ],
            [
             0.8888888888888888,
             "#fdca26"
            ],
            [
             1,
             "#f0f921"
            ]
           ],
           "sequentialminus": [
            [
             0,
             "#0d0887"
            ],
            [
             0.1111111111111111,
             "#46039f"
            ],
            [
             0.2222222222222222,
             "#7201a8"
            ],
            [
             0.3333333333333333,
             "#9c179e"
            ],
            [
             0.4444444444444444,
             "#bd3786"
            ],
            [
             0.5555555555555556,
             "#d8576b"
            ],
            [
             0.6666666666666666,
             "#ed7953"
            ],
            [
             0.7777777777777778,
             "#fb9f3a"
            ],
            [
             0.8888888888888888,
             "#fdca26"
            ],
            [
             1,
             "#f0f921"
            ]
           ]
          },
          "colorway": [
           "#636efa",
           "#EF553B",
           "#00cc96",
           "#ab63fa",
           "#FFA15A",
           "#19d3f3",
           "#FF6692",
           "#B6E880",
           "#FF97FF",
           "#FECB52"
          ],
          "font": {
           "color": "#2a3f5f"
          },
          "geo": {
           "bgcolor": "white",
           "lakecolor": "white",
           "landcolor": "#E5ECF6",
           "showlakes": true,
           "showland": true,
           "subunitcolor": "white"
          },
          "hoverlabel": {
           "align": "left"
          },
          "hovermode": "closest",
          "mapbox": {
           "style": "light"
          },
          "paper_bgcolor": "white",
          "plot_bgcolor": "#E5ECF6",
          "polar": {
           "angularaxis": {
            "gridcolor": "white",
            "linecolor": "white",
            "ticks": ""
           },
           "bgcolor": "#E5ECF6",
           "radialaxis": {
            "gridcolor": "white",
            "linecolor": "white",
            "ticks": ""
           }
          },
          "scene": {
           "xaxis": {
            "backgroundcolor": "#E5ECF6",
            "gridcolor": "white",
            "gridwidth": 2,
            "linecolor": "white",
            "showbackground": true,
            "ticks": "",
            "zerolinecolor": "white"
           },
           "yaxis": {
            "backgroundcolor": "#E5ECF6",
            "gridcolor": "white",
            "gridwidth": 2,
            "linecolor": "white",
            "showbackground": true,
            "ticks": "",
            "zerolinecolor": "white"
           },
           "zaxis": {
            "backgroundcolor": "#E5ECF6",
            "gridcolor": "white",
            "gridwidth": 2,
            "linecolor": "white",
            "showbackground": true,
            "ticks": "",
            "zerolinecolor": "white"
           }
          },
          "shapedefaults": {
           "line": {
            "color": "#2a3f5f"
           }
          },
          "ternary": {
           "aaxis": {
            "gridcolor": "white",
            "linecolor": "white",
            "ticks": ""
           },
           "baxis": {
            "gridcolor": "white",
            "linecolor": "white",
            "ticks": ""
           },
           "bgcolor": "#E5ECF6",
           "caxis": {
            "gridcolor": "white",
            "linecolor": "white",
            "ticks": ""
           }
          },
          "title": {
           "x": 0.05
          },
          "xaxis": {
           "automargin": true,
           "gridcolor": "white",
           "linecolor": "white",
           "ticks": "",
           "title": {
            "standoff": 15
           },
           "zerolinecolor": "white",
           "zerolinewidth": 2
          },
          "yaxis": {
           "automargin": true,
           "gridcolor": "white",
           "linecolor": "white",
           "ticks": "",
           "title": {
            "standoff": 15
           },
           "zerolinecolor": "white",
           "zerolinewidth": 2
          }
         }
        },
        "xaxis": {
         "anchor": "y",
         "domain": [
          0,
          1
         ],
         "title": {
          "text": "Highest_valuated_price (Euro)"
         }
        },
        "yaxis": {
         "anchor": "x",
         "domain": [
          0,
          1
         ],
         "title": {
          "text": "count"
         }
        }
       }
      }
     },
     "metadata": {},
     "output_type": "display_data"
    }
   ],
   "source": [
    "filtered_df = goalkeepers_df[(goalkeepers_df['Highest_valuated_price (Euro)'] > 200000) & \n",
    "                  (goalkeepers_df['Highest_valuated_price (Euro)'] <= 10000000)]\n",
    "\n",
    "fig = px.histogram(filtered_df, \n",
    "                   x='Highest_valuated_price (Euro)', \n",
    "                   labels={'Highest_valuated_price (Euro)': 'Highest_valuated_price (Euro)'},\n",
    "                   nbins=100)\n",
    "\n",
    "fig.show()"
   ]
  },
  {
   "cell_type": "code",
   "execution_count": 772,
   "id": "349973aa",
   "metadata": {},
   "outputs": [],
   "source": [
    "goalkeepers_df = goalkeepers_df[(goalkeepers_df['Highest_valuated_price (Euro)'] > 200000) & (goalkeepers_df['Highest_valuated_price (Euro)'] <= 10000000)]"
   ]
  },
  {
   "cell_type": "code",
   "execution_count": 773,
   "id": "e5800ab9",
   "metadata": {},
   "outputs": [
    {
     "data": {
      "text/plain": [
       "(758, 20)"
      ]
     },
     "execution_count": 773,
     "metadata": {},
     "output_type": "execute_result"
    }
   ],
   "source": [
    "goalkeepers_df.shape"
   ]
  },
  {
   "cell_type": "code",
   "execution_count": 774,
   "id": "46617e01",
   "metadata": {},
   "outputs": [
    {
     "data": {
      "application/vnd.plotly.v1+json": {
       "config": {
        "plotlyServerURL": "https://plot.ly"
       },
       "data": [
        {
         "alignmentgroup": "True",
         "hovertemplate": "Valuated_price (Euro)=%{y}<extra></extra>",
         "legendgroup": "",
         "marker": {
          "color": "#636efa"
         },
         "name": "",
         "notched": false,
         "offsetgroup": "",
         "orientation": "v",
         "showlegend": false,
         "type": "box",
         "x0": " ",
         "xaxis": "x",
         "y": [
          600000,
          1000000,
          8000000,
          2000000,
          600000,
          2000000,
          600000,
          400000,
          1800000,
          2000000,
          1000000,
          200000,
          500000,
          2000000,
          1200000,
          1500000,
          3500000,
          2000000,
          500000,
          500000,
          8000000,
          1000000,
          2500000,
          300000,
          6000000,
          250000,
          5000000,
          500000,
          300000,
          8000000,
          2000000,
          7000000,
          500000,
          400000,
          400000,
          4500000,
          300000,
          300000,
          250000,
          3500000,
          1000000,
          250000,
          1200000,
          1000000,
          300000,
          150000,
          1500000,
          1500000,
          5000000,
          1000000,
          5000000,
          4500000,
          400000,
          300000,
          900000,
          225000,
          50000,
          1200000,
          500000,
          400000,
          500000,
          300000,
          200000,
          750000,
          200000,
          200000,
          7000000,
          3500000,
          500000,
          1500000,
          1000000,
          650000,
          1500000,
          250000,
          900000,
          300000,
          2000000,
          600000,
          300000,
          1500000,
          1500000,
          5000000,
          1000000,
          500000,
          200000,
          2000000,
          2000000,
          8000000,
          3000000,
          3000000,
          300000,
          300000,
          4000000,
          600000,
          10000000,
          1500000,
          300000,
          2000000,
          300000,
          200000,
          1000000,
          8000000,
          700000,
          3000000,
          800000,
          2500000,
          400000,
          300000,
          300000,
          3500000,
          5000000,
          4000000,
          2000000,
          1800000,
          2000000,
          300000,
          1500000,
          500000,
          600000,
          300000,
          5000000,
          300000,
          3000000,
          500000,
          450000,
          7000000,
          500000,
          100000,
          700000,
          200000,
          5000000,
          200000,
          200000,
          4000000,
          200000,
          300000,
          100000,
          250000,
          1200000,
          1000000,
          300000,
          1500000,
          300000,
          600000,
          350000,
          300000,
          300000,
          1200000,
          4000000,
          300000,
          4000000,
          400000,
          2000000,
          10000000,
          4000000,
          300000,
          800000,
          200000,
          1500000,
          800000,
          300000,
          3500000,
          600000,
          300000,
          2000000,
          400000,
          2000000,
          1000000,
          250000,
          4000000,
          500000,
          3000000,
          2500000,
          600000,
          1500000,
          600000,
          600000,
          300000,
          400000,
          200000,
          10000000,
          1500000,
          400000,
          5000000,
          700000,
          8000000,
          200000,
          400000,
          4000000,
          650000,
          500000,
          300000,
          2500000,
          300000,
          600000,
          350000,
          300000,
          800000,
          500000,
          1500000,
          600000,
          600000,
          2000000,
          225000,
          200000,
          700000,
          350000,
          850000,
          275000,
          1000000,
          800000,
          300000,
          600000,
          500000,
          650000,
          300000,
          225000,
          3000000,
          800000,
          200000,
          450000,
          250000,
          3000000,
          300000,
          100000,
          1000000,
          500000,
          7000000,
          1000000,
          300000,
          4500000,
          1500000,
          7000000,
          200000,
          3000000,
          1800000,
          550000,
          1500000,
          1000000,
          300000,
          1500000,
          700000,
          400000,
          3500000,
          2500000,
          1200000,
          1200000,
          400000,
          350000,
          350000,
          200000,
          600000,
          400000,
          200000,
          2000000,
          150000,
          250000,
          200000,
          2000000,
          600000,
          2500000,
          250000,
          700000,
          400000,
          350000,
          300000,
          250000,
          3000000,
          400000,
          300000,
          2500000,
          2000000,
          450000,
          2500000,
          1000000,
          6000000,
          2000000,
          800000,
          4000000,
          300000,
          4000000,
          500000,
          500000,
          200000,
          200000,
          100000,
          1500000,
          400000,
          200000,
          600000,
          700000,
          700000,
          250000,
          100000,
          300000,
          125000,
          700000,
          200000,
          100000,
          800000,
          300000,
          800000,
          200000,
          200000,
          2000000,
          1500000,
          1500000,
          1500000,
          1500000,
          1000000,
          2000000,
          2000000,
          5000000,
          500000,
          1200000,
          500000,
          800000,
          400000,
          250000,
          1500000,
          800000,
          300000,
          300000,
          1000000,
          800000,
          400000,
          500000,
          300000,
          500000,
          800000,
          200000,
          3500000,
          400000,
          3000000,
          600000,
          2000000,
          400000,
          800000,
          800000,
          2200000,
          600000,
          1000000,
          1200000,
          400000,
          800000,
          600000,
          1000000,
          600000,
          600000,
          250000,
          2500000,
          3000000,
          300000,
          200000,
          700000,
          300000,
          1500000,
          600000,
          150000,
          900000,
          300000,
          300000,
          500000,
          400000,
          2000000,
          200000,
          600000,
          400000,
          700000,
          600000,
          600000,
          200000,
          400000,
          700000,
          500000,
          300000,
          100000,
          800000,
          400000,
          3000000,
          100000,
          500000,
          1000000,
          900000,
          500000,
          400000,
          1500000,
          900000,
          250000,
          7000000,
          250000,
          1000000,
          1000000,
          400000,
          500000,
          6000000,
          250000,
          2000000,
          500000,
          200000,
          1200000,
          250000,
          500000,
          300000,
          900000,
          400000,
          600000,
          250000,
          200000,
          800000,
          250000,
          500000,
          250000,
          1200000,
          900000,
          250000,
          250000,
          3000000,
          300000,
          300000,
          3500000,
          300000,
          150000,
          900000,
          300000,
          1500000,
          400000,
          200000,
          1000000,
          400000,
          300000,
          1000000,
          250000,
          2500000,
          2000000,
          200000,
          700000,
          500000,
          2200000,
          900000,
          2500000,
          600000,
          150000,
          200000,
          5000000,
          1300000,
          50000,
          1200000,
          350000,
          1300000,
          325000,
          300000,
          750000,
          125000,
          1500000,
          2000000,
          450000,
          100000,
          1200000,
          300000,
          1600000,
          200000,
          325000,
          100000,
          1700000,
          50000,
          450000,
          50000,
          400000,
          400000,
          50000,
          800000,
          1200000,
          600000,
          25000,
          1900000,
          850000,
          225000,
          2000000,
          400000,
          250000,
          250000,
          1000000,
          500000,
          75000,
          300000,
          350000,
          400000,
          200000,
          600000,
          200000,
          250000,
          400000,
          200000,
          300000,
          300000,
          1800000,
          350000,
          1200000,
          200000,
          700000,
          150000,
          350000,
          300000,
          4500000,
          325000,
          300000,
          100000,
          2500000,
          150000,
          500000,
          275000,
          150000,
          1200000,
          300000,
          2000000,
          800000,
          700000,
          200000,
          3500000,
          800000,
          500000,
          600000,
          150000,
          500000,
          150000,
          600000,
          150000,
          1500000,
          400000,
          500000,
          250000,
          200000,
          1500000,
          650000,
          1000000,
          500000,
          400000,
          1500000,
          350000,
          200000,
          800000,
          600000,
          1500000,
          150000,
          200000,
          150000,
          400000,
          300000,
          450000,
          2000000,
          900000,
          400000,
          400000,
          200000,
          150000,
          100000,
          300000,
          100000,
          800000,
          3000000,
          350000,
          225000,
          200000,
          1500000,
          150000,
          1500000,
          325000,
          2200000,
          2000000,
          3500000,
          400000,
          4000000,
          700000,
          500000,
          600000,
          250000,
          1500000,
          75000,
          1000000,
          150000,
          2000000,
          800000,
          500000,
          200000,
          300000,
          300000,
          1200000,
          550000,
          850000,
          500000,
          75000,
          625000,
          1500000,
          1000000,
          1800000,
          225000,
          250000,
          175000,
          1800000,
          300000,
          750000,
          300000,
          700000,
          650000,
          1800000,
          1000000,
          300000,
          3000000,
          750000,
          400000,
          75000,
          4000000,
          350000,
          2800000,
          500000,
          225000,
          50000,
          250000,
          200000,
          100000,
          600000,
          300000,
          125000,
          900000,
          350000,
          300000,
          900000,
          50000,
          600000,
          350000,
          150000,
          500000,
          125000,
          125000,
          600000,
          650000,
          0,
          800000,
          300000,
          700000,
          100000,
          1100000,
          450000,
          225000,
          450000,
          50000,
          1000000,
          350000,
          0,
          300000,
          275000,
          250000,
          850000,
          200000,
          900000,
          150000,
          175000,
          75000,
          75000,
          100000,
          50000,
          3000000,
          1000000,
          600000,
          700000,
          100000,
          50000,
          25000,
          800000,
          25000,
          25000,
          275000,
          300000,
          125000,
          450000,
          200000,
          500000,
          50000,
          700000,
          25000,
          550000,
          50000,
          75000,
          6000000,
          3000000,
          600000,
          25000,
          450000,
          600000,
          200000,
          100000,
          450000,
          325000,
          425000,
          225000,
          200000,
          450000,
          225000,
          200000,
          425000,
          250000,
          400000,
          300000,
          325000,
          275000,
          200000,
          350000,
          250000,
          425000,
          150000,
          500000,
          1300000,
          175000,
          550000,
          75000,
          425000,
          300000,
          550000,
          75000,
          200000,
          200000,
          350000,
          375000,
          750000,
          650000,
          275000,
          50000,
          175000,
          900000,
          400000,
          25000,
          650000,
          200000,
          1300000,
          350000,
          50000,
          25000,
          450000,
          350000,
          75000,
          300000,
          200000,
          300000,
          200000,
          300000,
          250000,
          500000,
          200000,
          250000,
          150000,
          700000,
          750000,
          500000,
          450000,
          250000,
          500000,
          300000
         ],
         "y0": " ",
         "yaxis": "y"
        }
       ],
       "layout": {
        "boxmode": "group",
        "legend": {
         "tracegroupgap": 0
        },
        "margin": {
         "t": 60
        },
        "template": {
         "data": {
          "bar": [
           {
            "error_x": {
             "color": "#2a3f5f"
            },
            "error_y": {
             "color": "#2a3f5f"
            },
            "marker": {
             "line": {
              "color": "#E5ECF6",
              "width": 0.5
             },
             "pattern": {
              "fillmode": "overlay",
              "size": 10,
              "solidity": 0.2
             }
            },
            "type": "bar"
           }
          ],
          "barpolar": [
           {
            "marker": {
             "line": {
              "color": "#E5ECF6",
              "width": 0.5
             },
             "pattern": {
              "fillmode": "overlay",
              "size": 10,
              "solidity": 0.2
             }
            },
            "type": "barpolar"
           }
          ],
          "carpet": [
           {
            "aaxis": {
             "endlinecolor": "#2a3f5f",
             "gridcolor": "white",
             "linecolor": "white",
             "minorgridcolor": "white",
             "startlinecolor": "#2a3f5f"
            },
            "baxis": {
             "endlinecolor": "#2a3f5f",
             "gridcolor": "white",
             "linecolor": "white",
             "minorgridcolor": "white",
             "startlinecolor": "#2a3f5f"
            },
            "type": "carpet"
           }
          ],
          "choropleth": [
           {
            "colorbar": {
             "outlinewidth": 0,
             "ticks": ""
            },
            "type": "choropleth"
           }
          ],
          "contour": [
           {
            "colorbar": {
             "outlinewidth": 0,
             "ticks": ""
            },
            "colorscale": [
             [
              0,
              "#0d0887"
             ],
             [
              0.1111111111111111,
              "#46039f"
             ],
             [
              0.2222222222222222,
              "#7201a8"
             ],
             [
              0.3333333333333333,
              "#9c179e"
             ],
             [
              0.4444444444444444,
              "#bd3786"
             ],
             [
              0.5555555555555556,
              "#d8576b"
             ],
             [
              0.6666666666666666,
              "#ed7953"
             ],
             [
              0.7777777777777778,
              "#fb9f3a"
             ],
             [
              0.8888888888888888,
              "#fdca26"
             ],
             [
              1,
              "#f0f921"
             ]
            ],
            "type": "contour"
           }
          ],
          "contourcarpet": [
           {
            "colorbar": {
             "outlinewidth": 0,
             "ticks": ""
            },
            "type": "contourcarpet"
           }
          ],
          "heatmap": [
           {
            "colorbar": {
             "outlinewidth": 0,
             "ticks": ""
            },
            "colorscale": [
             [
              0,
              "#0d0887"
             ],
             [
              0.1111111111111111,
              "#46039f"
             ],
             [
              0.2222222222222222,
              "#7201a8"
             ],
             [
              0.3333333333333333,
              "#9c179e"
             ],
             [
              0.4444444444444444,
              "#bd3786"
             ],
             [
              0.5555555555555556,
              "#d8576b"
             ],
             [
              0.6666666666666666,
              "#ed7953"
             ],
             [
              0.7777777777777778,
              "#fb9f3a"
             ],
             [
              0.8888888888888888,
              "#fdca26"
             ],
             [
              1,
              "#f0f921"
             ]
            ],
            "type": "heatmap"
           }
          ],
          "heatmapgl": [
           {
            "colorbar": {
             "outlinewidth": 0,
             "ticks": ""
            },
            "colorscale": [
             [
              0,
              "#0d0887"
             ],
             [
              0.1111111111111111,
              "#46039f"
             ],
             [
              0.2222222222222222,
              "#7201a8"
             ],
             [
              0.3333333333333333,
              "#9c179e"
             ],
             [
              0.4444444444444444,
              "#bd3786"
             ],
             [
              0.5555555555555556,
              "#d8576b"
             ],
             [
              0.6666666666666666,
              "#ed7953"
             ],
             [
              0.7777777777777778,
              "#fb9f3a"
             ],
             [
              0.8888888888888888,
              "#fdca26"
             ],
             [
              1,
              "#f0f921"
             ]
            ],
            "type": "heatmapgl"
           }
          ],
          "histogram": [
           {
            "marker": {
             "pattern": {
              "fillmode": "overlay",
              "size": 10,
              "solidity": 0.2
             }
            },
            "type": "histogram"
           }
          ],
          "histogram2d": [
           {
            "colorbar": {
             "outlinewidth": 0,
             "ticks": ""
            },
            "colorscale": [
             [
              0,
              "#0d0887"
             ],
             [
              0.1111111111111111,
              "#46039f"
             ],
             [
              0.2222222222222222,
              "#7201a8"
             ],
             [
              0.3333333333333333,
              "#9c179e"
             ],
             [
              0.4444444444444444,
              "#bd3786"
             ],
             [
              0.5555555555555556,
              "#d8576b"
             ],
             [
              0.6666666666666666,
              "#ed7953"
             ],
             [
              0.7777777777777778,
              "#fb9f3a"
             ],
             [
              0.8888888888888888,
              "#fdca26"
             ],
             [
              1,
              "#f0f921"
             ]
            ],
            "type": "histogram2d"
           }
          ],
          "histogram2dcontour": [
           {
            "colorbar": {
             "outlinewidth": 0,
             "ticks": ""
            },
            "colorscale": [
             [
              0,
              "#0d0887"
             ],
             [
              0.1111111111111111,
              "#46039f"
             ],
             [
              0.2222222222222222,
              "#7201a8"
             ],
             [
              0.3333333333333333,
              "#9c179e"
             ],
             [
              0.4444444444444444,
              "#bd3786"
             ],
             [
              0.5555555555555556,
              "#d8576b"
             ],
             [
              0.6666666666666666,
              "#ed7953"
             ],
             [
              0.7777777777777778,
              "#fb9f3a"
             ],
             [
              0.8888888888888888,
              "#fdca26"
             ],
             [
              1,
              "#f0f921"
             ]
            ],
            "type": "histogram2dcontour"
           }
          ],
          "mesh3d": [
           {
            "colorbar": {
             "outlinewidth": 0,
             "ticks": ""
            },
            "type": "mesh3d"
           }
          ],
          "parcoords": [
           {
            "line": {
             "colorbar": {
              "outlinewidth": 0,
              "ticks": ""
             }
            },
            "type": "parcoords"
           }
          ],
          "pie": [
           {
            "automargin": true,
            "type": "pie"
           }
          ],
          "scatter": [
           {
            "fillpattern": {
             "fillmode": "overlay",
             "size": 10,
             "solidity": 0.2
            },
            "type": "scatter"
           }
          ],
          "scatter3d": [
           {
            "line": {
             "colorbar": {
              "outlinewidth": 0,
              "ticks": ""
             }
            },
            "marker": {
             "colorbar": {
              "outlinewidth": 0,
              "ticks": ""
             }
            },
            "type": "scatter3d"
           }
          ],
          "scattercarpet": [
           {
            "marker": {
             "colorbar": {
              "outlinewidth": 0,
              "ticks": ""
             }
            },
            "type": "scattercarpet"
           }
          ],
          "scattergeo": [
           {
            "marker": {
             "colorbar": {
              "outlinewidth": 0,
              "ticks": ""
             }
            },
            "type": "scattergeo"
           }
          ],
          "scattergl": [
           {
            "marker": {
             "colorbar": {
              "outlinewidth": 0,
              "ticks": ""
             }
            },
            "type": "scattergl"
           }
          ],
          "scattermapbox": [
           {
            "marker": {
             "colorbar": {
              "outlinewidth": 0,
              "ticks": ""
             }
            },
            "type": "scattermapbox"
           }
          ],
          "scatterpolar": [
           {
            "marker": {
             "colorbar": {
              "outlinewidth": 0,
              "ticks": ""
             }
            },
            "type": "scatterpolar"
           }
          ],
          "scatterpolargl": [
           {
            "marker": {
             "colorbar": {
              "outlinewidth": 0,
              "ticks": ""
             }
            },
            "type": "scatterpolargl"
           }
          ],
          "scatterternary": [
           {
            "marker": {
             "colorbar": {
              "outlinewidth": 0,
              "ticks": ""
             }
            },
            "type": "scatterternary"
           }
          ],
          "surface": [
           {
            "colorbar": {
             "outlinewidth": 0,
             "ticks": ""
            },
            "colorscale": [
             [
              0,
              "#0d0887"
             ],
             [
              0.1111111111111111,
              "#46039f"
             ],
             [
              0.2222222222222222,
              "#7201a8"
             ],
             [
              0.3333333333333333,
              "#9c179e"
             ],
             [
              0.4444444444444444,
              "#bd3786"
             ],
             [
              0.5555555555555556,
              "#d8576b"
             ],
             [
              0.6666666666666666,
              "#ed7953"
             ],
             [
              0.7777777777777778,
              "#fb9f3a"
             ],
             [
              0.8888888888888888,
              "#fdca26"
             ],
             [
              1,
              "#f0f921"
             ]
            ],
            "type": "surface"
           }
          ],
          "table": [
           {
            "cells": {
             "fill": {
              "color": "#EBF0F8"
             },
             "line": {
              "color": "white"
             }
            },
            "header": {
             "fill": {
              "color": "#C8D4E3"
             },
             "line": {
              "color": "white"
             }
            },
            "type": "table"
           }
          ]
         },
         "layout": {
          "annotationdefaults": {
           "arrowcolor": "#2a3f5f",
           "arrowhead": 0,
           "arrowwidth": 1
          },
          "autotypenumbers": "strict",
          "coloraxis": {
           "colorbar": {
            "outlinewidth": 0,
            "ticks": ""
           }
          },
          "colorscale": {
           "diverging": [
            [
             0,
             "#8e0152"
            ],
            [
             0.1,
             "#c51b7d"
            ],
            [
             0.2,
             "#de77ae"
            ],
            [
             0.3,
             "#f1b6da"
            ],
            [
             0.4,
             "#fde0ef"
            ],
            [
             0.5,
             "#f7f7f7"
            ],
            [
             0.6,
             "#e6f5d0"
            ],
            [
             0.7,
             "#b8e186"
            ],
            [
             0.8,
             "#7fbc41"
            ],
            [
             0.9,
             "#4d9221"
            ],
            [
             1,
             "#276419"
            ]
           ],
           "sequential": [
            [
             0,
             "#0d0887"
            ],
            [
             0.1111111111111111,
             "#46039f"
            ],
            [
             0.2222222222222222,
             "#7201a8"
            ],
            [
             0.3333333333333333,
             "#9c179e"
            ],
            [
             0.4444444444444444,
             "#bd3786"
            ],
            [
             0.5555555555555556,
             "#d8576b"
            ],
            [
             0.6666666666666666,
             "#ed7953"
            ],
            [
             0.7777777777777778,
             "#fb9f3a"
            ],
            [
             0.8888888888888888,
             "#fdca26"
            ],
            [
             1,
             "#f0f921"
            ]
           ],
           "sequentialminus": [
            [
             0,
             "#0d0887"
            ],
            [
             0.1111111111111111,
             "#46039f"
            ],
            [
             0.2222222222222222,
             "#7201a8"
            ],
            [
             0.3333333333333333,
             "#9c179e"
            ],
            [
             0.4444444444444444,
             "#bd3786"
            ],
            [
             0.5555555555555556,
             "#d8576b"
            ],
            [
             0.6666666666666666,
             "#ed7953"
            ],
            [
             0.7777777777777778,
             "#fb9f3a"
            ],
            [
             0.8888888888888888,
             "#fdca26"
            ],
            [
             1,
             "#f0f921"
            ]
           ]
          },
          "colorway": [
           "#636efa",
           "#EF553B",
           "#00cc96",
           "#ab63fa",
           "#FFA15A",
           "#19d3f3",
           "#FF6692",
           "#B6E880",
           "#FF97FF",
           "#FECB52"
          ],
          "font": {
           "color": "#2a3f5f"
          },
          "geo": {
           "bgcolor": "white",
           "lakecolor": "white",
           "landcolor": "#E5ECF6",
           "showlakes": true,
           "showland": true,
           "subunitcolor": "white"
          },
          "hoverlabel": {
           "align": "left"
          },
          "hovermode": "closest",
          "mapbox": {
           "style": "light"
          },
          "paper_bgcolor": "white",
          "plot_bgcolor": "#E5ECF6",
          "polar": {
           "angularaxis": {
            "gridcolor": "white",
            "linecolor": "white",
            "ticks": ""
           },
           "bgcolor": "#E5ECF6",
           "radialaxis": {
            "gridcolor": "white",
            "linecolor": "white",
            "ticks": ""
           }
          },
          "scene": {
           "xaxis": {
            "backgroundcolor": "#E5ECF6",
            "gridcolor": "white",
            "gridwidth": 2,
            "linecolor": "white",
            "showbackground": true,
            "ticks": "",
            "zerolinecolor": "white"
           },
           "yaxis": {
            "backgroundcolor": "#E5ECF6",
            "gridcolor": "white",
            "gridwidth": 2,
            "linecolor": "white",
            "showbackground": true,
            "ticks": "",
            "zerolinecolor": "white"
           },
           "zaxis": {
            "backgroundcolor": "#E5ECF6",
            "gridcolor": "white",
            "gridwidth": 2,
            "linecolor": "white",
            "showbackground": true,
            "ticks": "",
            "zerolinecolor": "white"
           }
          },
          "shapedefaults": {
           "line": {
            "color": "#2a3f5f"
           }
          },
          "ternary": {
           "aaxis": {
            "gridcolor": "white",
            "linecolor": "white",
            "ticks": ""
           },
           "baxis": {
            "gridcolor": "white",
            "linecolor": "white",
            "ticks": ""
           },
           "bgcolor": "#E5ECF6",
           "caxis": {
            "gridcolor": "white",
            "linecolor": "white",
            "ticks": ""
           }
          },
          "title": {
           "x": 0.05
          },
          "xaxis": {
           "automargin": true,
           "gridcolor": "white",
           "linecolor": "white",
           "ticks": "",
           "title": {
            "standoff": 15
           },
           "zerolinecolor": "white",
           "zerolinewidth": 2
          },
          "yaxis": {
           "automargin": true,
           "gridcolor": "white",
           "linecolor": "white",
           "ticks": "",
           "title": {
            "standoff": 15
           },
           "zerolinecolor": "white",
           "zerolinewidth": 2
          }
         }
        },
        "xaxis": {
         "anchor": "y",
         "domain": [
          0,
          1
         ]
        },
        "yaxis": {
         "anchor": "x",
         "domain": [
          0,
          1
         ],
         "title": {
          "text": "Valuated_price (Euro)"
         }
        }
       }
      }
     },
     "metadata": {},
     "output_type": "display_data"
    }
   ],
   "source": [
    "fig = px.box(goalkeepers_df, y = 'Valuated_price (Euro)')\n",
    "fig.show()"
   ]
  },
  {
   "cell_type": "code",
   "execution_count": 775,
   "id": "bb75ea74",
   "metadata": {},
   "outputs": [
    {
     "data": {
      "application/vnd.plotly.v1+json": {
       "config": {
        "plotlyServerURL": "https://plot.ly"
       },
       "data": [
        {
         "alignmentgroup": "True",
         "bingroup": "x",
         "hovertemplate": "Valuated Price (Euro)=%{x}<br>count=%{y}<extra></extra>",
         "legendgroup": "",
         "marker": {
          "color": "#636efa",
          "pattern": {
           "shape": ""
          }
         },
         "name": "",
         "nbinsx": 100,
         "offsetgroup": "",
         "orientation": "v",
         "showlegend": false,
         "type": "histogram",
         "x": [
          600000,
          1000000,
          8000000,
          2000000,
          600000,
          2000000,
          600000,
          400000,
          1800000,
          2000000,
          1000000,
          500000,
          2000000,
          1200000,
          1500000,
          3500000,
          2000000,
          500000,
          500000,
          8000000,
          1000000,
          2500000,
          300000,
          6000000,
          250000,
          5000000,
          500000,
          300000,
          8000000,
          2000000,
          7000000,
          500000,
          400000,
          400000,
          4500000,
          300000,
          300000,
          250000,
          3500000,
          1000000,
          250000,
          1200000,
          1000000,
          300000,
          1500000,
          1500000,
          5000000,
          1000000,
          5000000,
          4500000,
          400000,
          300000,
          900000,
          225000,
          1200000,
          500000,
          400000,
          500000,
          300000,
          750000,
          7000000,
          3500000,
          500000,
          1500000,
          1000000,
          650000,
          1500000,
          250000,
          900000,
          300000,
          2000000,
          600000,
          300000,
          1500000,
          1500000,
          5000000,
          1000000,
          500000,
          2000000,
          2000000,
          8000000,
          3000000,
          3000000,
          300000,
          300000,
          4000000,
          600000,
          10000000,
          1500000,
          300000,
          2000000,
          300000,
          1000000,
          8000000,
          700000,
          3000000,
          800000,
          2500000,
          400000,
          300000,
          300000,
          3500000,
          5000000,
          4000000,
          2000000,
          1800000,
          2000000,
          300000,
          1500000,
          500000,
          600000,
          300000,
          5000000,
          300000,
          3000000,
          500000,
          450000,
          7000000,
          500000,
          700000,
          5000000,
          4000000,
          300000,
          250000,
          1200000,
          1000000,
          300000,
          1500000,
          300000,
          600000,
          350000,
          300000,
          300000,
          1200000,
          4000000,
          300000,
          4000000,
          400000,
          2000000,
          10000000,
          4000000,
          300000,
          800000,
          1500000,
          800000,
          300000,
          3500000,
          600000,
          300000,
          2000000,
          400000,
          2000000,
          1000000,
          250000,
          4000000,
          500000,
          3000000,
          2500000,
          600000,
          1500000,
          600000,
          600000,
          300000,
          400000,
          10000000,
          1500000,
          400000,
          5000000,
          700000,
          8000000,
          400000,
          4000000,
          650000,
          500000,
          300000,
          2500000,
          300000,
          600000,
          350000,
          300000,
          800000,
          500000,
          1500000,
          600000,
          600000,
          2000000,
          225000,
          700000,
          350000,
          850000,
          275000,
          1000000,
          800000,
          300000,
          600000,
          500000,
          650000,
          300000,
          225000,
          3000000,
          800000,
          450000,
          250000,
          3000000,
          300000,
          1000000,
          500000,
          7000000,
          1000000,
          300000,
          4500000,
          1500000,
          7000000,
          3000000,
          1800000,
          550000,
          1500000,
          1000000,
          300000,
          1500000,
          700000,
          400000,
          3500000,
          2500000,
          1200000,
          1200000,
          400000,
          350000,
          350000,
          600000,
          400000,
          2000000,
          250000,
          2000000,
          600000,
          2500000,
          250000,
          700000,
          400000,
          350000,
          300000,
          250000,
          3000000,
          400000,
          300000,
          2500000,
          2000000,
          450000,
          2500000,
          1000000,
          6000000,
          2000000,
          800000,
          4000000,
          300000,
          4000000,
          500000,
          500000,
          1500000,
          400000,
          600000,
          700000,
          700000,
          250000,
          300000,
          700000,
          800000,
          300000,
          800000,
          2000000,
          1500000,
          1500000,
          1500000,
          1500000,
          1000000,
          2000000,
          2000000,
          5000000,
          500000,
          1200000,
          500000,
          800000,
          400000,
          250000,
          1500000,
          800000,
          300000,
          300000,
          1000000,
          800000,
          400000,
          500000,
          300000,
          500000,
          800000,
          3500000,
          400000,
          3000000,
          600000,
          2000000,
          400000,
          800000,
          800000,
          2200000,
          600000,
          1000000,
          1200000,
          400000,
          800000,
          600000,
          1000000,
          600000,
          600000,
          250000,
          2500000,
          3000000,
          300000,
          700000,
          300000,
          1500000,
          600000,
          900000,
          300000,
          300000,
          500000,
          400000,
          2000000,
          600000,
          400000,
          700000,
          600000,
          600000,
          400000,
          700000,
          500000,
          300000,
          800000,
          400000,
          3000000,
          500000,
          1000000,
          900000,
          500000,
          400000,
          1500000,
          900000,
          250000,
          7000000,
          250000,
          1000000,
          1000000,
          400000,
          500000,
          6000000,
          250000,
          2000000,
          500000,
          1200000,
          250000,
          500000,
          300000,
          900000,
          400000,
          600000,
          250000,
          800000,
          250000,
          500000,
          250000,
          1200000,
          900000,
          250000,
          250000,
          3000000,
          300000,
          300000,
          3500000,
          300000,
          900000,
          300000,
          1500000,
          400000,
          1000000,
          400000,
          300000,
          1000000,
          250000,
          2500000,
          2000000,
          700000,
          500000,
          2200000,
          900000,
          2500000,
          600000,
          5000000,
          1300000,
          1200000,
          350000,
          1300000,
          325000,
          300000,
          750000,
          1500000,
          2000000,
          450000,
          1200000,
          300000,
          1600000,
          325000,
          1700000,
          450000,
          400000,
          400000,
          800000,
          1200000,
          600000,
          1900000,
          850000,
          225000,
          2000000,
          400000,
          250000,
          250000,
          1000000,
          500000,
          300000,
          350000,
          400000,
          600000,
          250000,
          400000,
          300000,
          300000,
          1800000,
          350000,
          1200000,
          700000,
          350000,
          300000,
          4500000,
          325000,
          300000,
          2500000,
          500000,
          275000,
          1200000,
          300000,
          2000000,
          800000,
          700000,
          3500000,
          800000,
          500000,
          600000,
          500000,
          600000,
          1500000,
          400000,
          500000,
          250000,
          1500000,
          650000,
          1000000,
          500000,
          400000,
          1500000,
          350000,
          800000,
          600000,
          1500000,
          400000,
          300000,
          450000,
          2000000,
          900000,
          400000,
          400000,
          300000,
          800000,
          3000000,
          350000,
          225000,
          1500000,
          1500000,
          325000,
          2200000,
          2000000,
          3500000,
          400000,
          4000000,
          700000,
          500000,
          600000,
          250000,
          1500000,
          1000000,
          2000000,
          800000,
          500000,
          300000,
          300000,
          1200000,
          550000,
          850000,
          500000,
          625000,
          1500000,
          1000000,
          1800000,
          225000,
          250000,
          1800000,
          300000,
          750000,
          300000,
          700000,
          650000,
          1800000,
          1000000,
          300000,
          3000000,
          750000,
          400000,
          4000000,
          350000,
          2800000,
          500000,
          225000,
          250000,
          600000,
          300000,
          900000,
          350000,
          300000,
          900000,
          600000,
          350000,
          500000,
          600000,
          650000,
          800000,
          300000,
          700000,
          1100000,
          450000,
          225000,
          450000,
          1000000,
          350000,
          300000,
          275000,
          250000,
          850000,
          900000,
          3000000,
          1000000,
          600000,
          700000,
          800000,
          275000,
          300000,
          450000,
          500000,
          700000,
          550000,
          6000000,
          3000000,
          600000,
          450000,
          600000,
          450000,
          325000,
          425000,
          225000,
          450000,
          225000,
          425000,
          250000,
          400000,
          300000,
          325000,
          275000,
          350000,
          250000,
          425000,
          500000,
          1300000,
          550000,
          425000,
          300000,
          550000,
          350000,
          375000,
          750000,
          650000,
          275000,
          900000,
          400000,
          650000,
          1300000,
          350000,
          450000,
          350000,
          300000,
          300000,
          300000,
          250000,
          500000,
          250000,
          700000,
          750000,
          500000,
          450000,
          250000,
          500000,
          300000
         ],
         "xaxis": "x",
         "yaxis": "y"
        }
       ],
       "layout": {
        "barmode": "relative",
        "legend": {
         "tracegroupgap": 0
        },
        "margin": {
         "t": 60
        },
        "template": {
         "data": {
          "bar": [
           {
            "error_x": {
             "color": "#2a3f5f"
            },
            "error_y": {
             "color": "#2a3f5f"
            },
            "marker": {
             "line": {
              "color": "#E5ECF6",
              "width": 0.5
             },
             "pattern": {
              "fillmode": "overlay",
              "size": 10,
              "solidity": 0.2
             }
            },
            "type": "bar"
           }
          ],
          "barpolar": [
           {
            "marker": {
             "line": {
              "color": "#E5ECF6",
              "width": 0.5
             },
             "pattern": {
              "fillmode": "overlay",
              "size": 10,
              "solidity": 0.2
             }
            },
            "type": "barpolar"
           }
          ],
          "carpet": [
           {
            "aaxis": {
             "endlinecolor": "#2a3f5f",
             "gridcolor": "white",
             "linecolor": "white",
             "minorgridcolor": "white",
             "startlinecolor": "#2a3f5f"
            },
            "baxis": {
             "endlinecolor": "#2a3f5f",
             "gridcolor": "white",
             "linecolor": "white",
             "minorgridcolor": "white",
             "startlinecolor": "#2a3f5f"
            },
            "type": "carpet"
           }
          ],
          "choropleth": [
           {
            "colorbar": {
             "outlinewidth": 0,
             "ticks": ""
            },
            "type": "choropleth"
           }
          ],
          "contour": [
           {
            "colorbar": {
             "outlinewidth": 0,
             "ticks": ""
            },
            "colorscale": [
             [
              0,
              "#0d0887"
             ],
             [
              0.1111111111111111,
              "#46039f"
             ],
             [
              0.2222222222222222,
              "#7201a8"
             ],
             [
              0.3333333333333333,
              "#9c179e"
             ],
             [
              0.4444444444444444,
              "#bd3786"
             ],
             [
              0.5555555555555556,
              "#d8576b"
             ],
             [
              0.6666666666666666,
              "#ed7953"
             ],
             [
              0.7777777777777778,
              "#fb9f3a"
             ],
             [
              0.8888888888888888,
              "#fdca26"
             ],
             [
              1,
              "#f0f921"
             ]
            ],
            "type": "contour"
           }
          ],
          "contourcarpet": [
           {
            "colorbar": {
             "outlinewidth": 0,
             "ticks": ""
            },
            "type": "contourcarpet"
           }
          ],
          "heatmap": [
           {
            "colorbar": {
             "outlinewidth": 0,
             "ticks": ""
            },
            "colorscale": [
             [
              0,
              "#0d0887"
             ],
             [
              0.1111111111111111,
              "#46039f"
             ],
             [
              0.2222222222222222,
              "#7201a8"
             ],
             [
              0.3333333333333333,
              "#9c179e"
             ],
             [
              0.4444444444444444,
              "#bd3786"
             ],
             [
              0.5555555555555556,
              "#d8576b"
             ],
             [
              0.6666666666666666,
              "#ed7953"
             ],
             [
              0.7777777777777778,
              "#fb9f3a"
             ],
             [
              0.8888888888888888,
              "#fdca26"
             ],
             [
              1,
              "#f0f921"
             ]
            ],
            "type": "heatmap"
           }
          ],
          "heatmapgl": [
           {
            "colorbar": {
             "outlinewidth": 0,
             "ticks": ""
            },
            "colorscale": [
             [
              0,
              "#0d0887"
             ],
             [
              0.1111111111111111,
              "#46039f"
             ],
             [
              0.2222222222222222,
              "#7201a8"
             ],
             [
              0.3333333333333333,
              "#9c179e"
             ],
             [
              0.4444444444444444,
              "#bd3786"
             ],
             [
              0.5555555555555556,
              "#d8576b"
             ],
             [
              0.6666666666666666,
              "#ed7953"
             ],
             [
              0.7777777777777778,
              "#fb9f3a"
             ],
             [
              0.8888888888888888,
              "#fdca26"
             ],
             [
              1,
              "#f0f921"
             ]
            ],
            "type": "heatmapgl"
           }
          ],
          "histogram": [
           {
            "marker": {
             "pattern": {
              "fillmode": "overlay",
              "size": 10,
              "solidity": 0.2
             }
            },
            "type": "histogram"
           }
          ],
          "histogram2d": [
           {
            "colorbar": {
             "outlinewidth": 0,
             "ticks": ""
            },
            "colorscale": [
             [
              0,
              "#0d0887"
             ],
             [
              0.1111111111111111,
              "#46039f"
             ],
             [
              0.2222222222222222,
              "#7201a8"
             ],
             [
              0.3333333333333333,
              "#9c179e"
             ],
             [
              0.4444444444444444,
              "#bd3786"
             ],
             [
              0.5555555555555556,
              "#d8576b"
             ],
             [
              0.6666666666666666,
              "#ed7953"
             ],
             [
              0.7777777777777778,
              "#fb9f3a"
             ],
             [
              0.8888888888888888,
              "#fdca26"
             ],
             [
              1,
              "#f0f921"
             ]
            ],
            "type": "histogram2d"
           }
          ],
          "histogram2dcontour": [
           {
            "colorbar": {
             "outlinewidth": 0,
             "ticks": ""
            },
            "colorscale": [
             [
              0,
              "#0d0887"
             ],
             [
              0.1111111111111111,
              "#46039f"
             ],
             [
              0.2222222222222222,
              "#7201a8"
             ],
             [
              0.3333333333333333,
              "#9c179e"
             ],
             [
              0.4444444444444444,
              "#bd3786"
             ],
             [
              0.5555555555555556,
              "#d8576b"
             ],
             [
              0.6666666666666666,
              "#ed7953"
             ],
             [
              0.7777777777777778,
              "#fb9f3a"
             ],
             [
              0.8888888888888888,
              "#fdca26"
             ],
             [
              1,
              "#f0f921"
             ]
            ],
            "type": "histogram2dcontour"
           }
          ],
          "mesh3d": [
           {
            "colorbar": {
             "outlinewidth": 0,
             "ticks": ""
            },
            "type": "mesh3d"
           }
          ],
          "parcoords": [
           {
            "line": {
             "colorbar": {
              "outlinewidth": 0,
              "ticks": ""
             }
            },
            "type": "parcoords"
           }
          ],
          "pie": [
           {
            "automargin": true,
            "type": "pie"
           }
          ],
          "scatter": [
           {
            "fillpattern": {
             "fillmode": "overlay",
             "size": 10,
             "solidity": 0.2
            },
            "type": "scatter"
           }
          ],
          "scatter3d": [
           {
            "line": {
             "colorbar": {
              "outlinewidth": 0,
              "ticks": ""
             }
            },
            "marker": {
             "colorbar": {
              "outlinewidth": 0,
              "ticks": ""
             }
            },
            "type": "scatter3d"
           }
          ],
          "scattercarpet": [
           {
            "marker": {
             "colorbar": {
              "outlinewidth": 0,
              "ticks": ""
             }
            },
            "type": "scattercarpet"
           }
          ],
          "scattergeo": [
           {
            "marker": {
             "colorbar": {
              "outlinewidth": 0,
              "ticks": ""
             }
            },
            "type": "scattergeo"
           }
          ],
          "scattergl": [
           {
            "marker": {
             "colorbar": {
              "outlinewidth": 0,
              "ticks": ""
             }
            },
            "type": "scattergl"
           }
          ],
          "scattermapbox": [
           {
            "marker": {
             "colorbar": {
              "outlinewidth": 0,
              "ticks": ""
             }
            },
            "type": "scattermapbox"
           }
          ],
          "scatterpolar": [
           {
            "marker": {
             "colorbar": {
              "outlinewidth": 0,
              "ticks": ""
             }
            },
            "type": "scatterpolar"
           }
          ],
          "scatterpolargl": [
           {
            "marker": {
             "colorbar": {
              "outlinewidth": 0,
              "ticks": ""
             }
            },
            "type": "scatterpolargl"
           }
          ],
          "scatterternary": [
           {
            "marker": {
             "colorbar": {
              "outlinewidth": 0,
              "ticks": ""
             }
            },
            "type": "scatterternary"
           }
          ],
          "surface": [
           {
            "colorbar": {
             "outlinewidth": 0,
             "ticks": ""
            },
            "colorscale": [
             [
              0,
              "#0d0887"
             ],
             [
              0.1111111111111111,
              "#46039f"
             ],
             [
              0.2222222222222222,
              "#7201a8"
             ],
             [
              0.3333333333333333,
              "#9c179e"
             ],
             [
              0.4444444444444444,
              "#bd3786"
             ],
             [
              0.5555555555555556,
              "#d8576b"
             ],
             [
              0.6666666666666666,
              "#ed7953"
             ],
             [
              0.7777777777777778,
              "#fb9f3a"
             ],
             [
              0.8888888888888888,
              "#fdca26"
             ],
             [
              1,
              "#f0f921"
             ]
            ],
            "type": "surface"
           }
          ],
          "table": [
           {
            "cells": {
             "fill": {
              "color": "#EBF0F8"
             },
             "line": {
              "color": "white"
             }
            },
            "header": {
             "fill": {
              "color": "#C8D4E3"
             },
             "line": {
              "color": "white"
             }
            },
            "type": "table"
           }
          ]
         },
         "layout": {
          "annotationdefaults": {
           "arrowcolor": "#2a3f5f",
           "arrowhead": 0,
           "arrowwidth": 1
          },
          "autotypenumbers": "strict",
          "coloraxis": {
           "colorbar": {
            "outlinewidth": 0,
            "ticks": ""
           }
          },
          "colorscale": {
           "diverging": [
            [
             0,
             "#8e0152"
            ],
            [
             0.1,
             "#c51b7d"
            ],
            [
             0.2,
             "#de77ae"
            ],
            [
             0.3,
             "#f1b6da"
            ],
            [
             0.4,
             "#fde0ef"
            ],
            [
             0.5,
             "#f7f7f7"
            ],
            [
             0.6,
             "#e6f5d0"
            ],
            [
             0.7,
             "#b8e186"
            ],
            [
             0.8,
             "#7fbc41"
            ],
            [
             0.9,
             "#4d9221"
            ],
            [
             1,
             "#276419"
            ]
           ],
           "sequential": [
            [
             0,
             "#0d0887"
            ],
            [
             0.1111111111111111,
             "#46039f"
            ],
            [
             0.2222222222222222,
             "#7201a8"
            ],
            [
             0.3333333333333333,
             "#9c179e"
            ],
            [
             0.4444444444444444,
             "#bd3786"
            ],
            [
             0.5555555555555556,
             "#d8576b"
            ],
            [
             0.6666666666666666,
             "#ed7953"
            ],
            [
             0.7777777777777778,
             "#fb9f3a"
            ],
            [
             0.8888888888888888,
             "#fdca26"
            ],
            [
             1,
             "#f0f921"
            ]
           ],
           "sequentialminus": [
            [
             0,
             "#0d0887"
            ],
            [
             0.1111111111111111,
             "#46039f"
            ],
            [
             0.2222222222222222,
             "#7201a8"
            ],
            [
             0.3333333333333333,
             "#9c179e"
            ],
            [
             0.4444444444444444,
             "#bd3786"
            ],
            [
             0.5555555555555556,
             "#d8576b"
            ],
            [
             0.6666666666666666,
             "#ed7953"
            ],
            [
             0.7777777777777778,
             "#fb9f3a"
            ],
            [
             0.8888888888888888,
             "#fdca26"
            ],
            [
             1,
             "#f0f921"
            ]
           ]
          },
          "colorway": [
           "#636efa",
           "#EF553B",
           "#00cc96",
           "#ab63fa",
           "#FFA15A",
           "#19d3f3",
           "#FF6692",
           "#B6E880",
           "#FF97FF",
           "#FECB52"
          ],
          "font": {
           "color": "#2a3f5f"
          },
          "geo": {
           "bgcolor": "white",
           "lakecolor": "white",
           "landcolor": "#E5ECF6",
           "showlakes": true,
           "showland": true,
           "subunitcolor": "white"
          },
          "hoverlabel": {
           "align": "left"
          },
          "hovermode": "closest",
          "mapbox": {
           "style": "light"
          },
          "paper_bgcolor": "white",
          "plot_bgcolor": "#E5ECF6",
          "polar": {
           "angularaxis": {
            "gridcolor": "white",
            "linecolor": "white",
            "ticks": ""
           },
           "bgcolor": "#E5ECF6",
           "radialaxis": {
            "gridcolor": "white",
            "linecolor": "white",
            "ticks": ""
           }
          },
          "scene": {
           "xaxis": {
            "backgroundcolor": "#E5ECF6",
            "gridcolor": "white",
            "gridwidth": 2,
            "linecolor": "white",
            "showbackground": true,
            "ticks": "",
            "zerolinecolor": "white"
           },
           "yaxis": {
            "backgroundcolor": "#E5ECF6",
            "gridcolor": "white",
            "gridwidth": 2,
            "linecolor": "white",
            "showbackground": true,
            "ticks": "",
            "zerolinecolor": "white"
           },
           "zaxis": {
            "backgroundcolor": "#E5ECF6",
            "gridcolor": "white",
            "gridwidth": 2,
            "linecolor": "white",
            "showbackground": true,
            "ticks": "",
            "zerolinecolor": "white"
           }
          },
          "shapedefaults": {
           "line": {
            "color": "#2a3f5f"
           }
          },
          "ternary": {
           "aaxis": {
            "gridcolor": "white",
            "linecolor": "white",
            "ticks": ""
           },
           "baxis": {
            "gridcolor": "white",
            "linecolor": "white",
            "ticks": ""
           },
           "bgcolor": "#E5ECF6",
           "caxis": {
            "gridcolor": "white",
            "linecolor": "white",
            "ticks": ""
           }
          },
          "title": {
           "x": 0.05
          },
          "xaxis": {
           "automargin": true,
           "gridcolor": "white",
           "linecolor": "white",
           "ticks": "",
           "title": {
            "standoff": 15
           },
           "zerolinecolor": "white",
           "zerolinewidth": 2
          },
          "yaxis": {
           "automargin": true,
           "gridcolor": "white",
           "linecolor": "white",
           "ticks": "",
           "title": {
            "standoff": 15
           },
           "zerolinecolor": "white",
           "zerolinewidth": 2
          }
         }
        },
        "xaxis": {
         "anchor": "y",
         "domain": [
          0,
          1
         ],
         "title": {
          "text": "Valuated Price (Euro)"
         }
        },
        "yaxis": {
         "anchor": "x",
         "domain": [
          0,
          1
         ],
         "title": {
          "text": "count"
         }
        }
       }
      }
     },
     "metadata": {},
     "output_type": "display_data"
    }
   ],
   "source": [
    "filtered_df = goalkeepers_df[(goalkeepers_df['Valuated_price (Euro)'] > 200000) & \n",
    "                  (goalkeepers_df['Valuated_price (Euro)'] <= 10000000)]\n",
    "\n",
    "fig = px.histogram(filtered_df, \n",
    "                   x='Valuated_price (Euro)', \n",
    "                   labels={'Valuated_price (Euro)': 'Valuated Price (Euro)'},\n",
    "                   nbins=100)\n",
    "\n",
    "fig.show()"
   ]
  },
  {
   "cell_type": "code",
   "execution_count": 776,
   "id": "6a2ded75",
   "metadata": {},
   "outputs": [],
   "source": [
    "goalkeepers_df = goalkeepers_df[(goalkeepers_df['Valuated_price (Euro)'] > 200000) & (goalkeepers_df['Valuated_price (Euro)'] <= 10000000)]"
   ]
  },
  {
   "cell_type": "code",
   "execution_count": 777,
   "id": "0fc528c2",
   "metadata": {},
   "outputs": [
    {
     "data": {
      "text/plain": [
       "(617, 20)"
      ]
     },
     "execution_count": 777,
     "metadata": {},
     "output_type": "execute_result"
    }
   ],
   "source": [
    "goalkeepers_df.shape"
   ]
  },
  {
   "cell_type": "markdown",
   "id": "eff2eb1e",
   "metadata": {},
   "source": [
    "2.Feature engineering"
   ]
  },
  {
   "cell_type": "code",
   "execution_count": 778,
   "id": "e10cafed",
   "metadata": {},
   "outputs": [
    {
     "data": {
      "text/html": [
       "<div>\n",
       "<style scoped>\n",
       "    .dataframe tbody tr th:only-of-type {\n",
       "        vertical-align: middle;\n",
       "    }\n",
       "\n",
       "    .dataframe tbody tr th {\n",
       "        vertical-align: top;\n",
       "    }\n",
       "\n",
       "    .dataframe thead th {\n",
       "        text-align: right;\n",
       "    }\n",
       "</style>\n",
       "<table border=\"1\" class=\"dataframe\">\n",
       "  <thead>\n",
       "    <tr style=\"text-align: right;\">\n",
       "      <th></th>\n",
       "      <th>team</th>\n",
       "      <th>name</th>\n",
       "      <th>position</th>\n",
       "      <th>height</th>\n",
       "      <th>age</th>\n",
       "      <th>appearance</th>\n",
       "      <th>goals</th>\n",
       "      <th>assists</th>\n",
       "      <th>yellow cards</th>\n",
       "      <th>second yellow cards</th>\n",
       "      <th>red cards</th>\n",
       "      <th>goals conceded</th>\n",
       "      <th>clean sheets</th>\n",
       "      <th>minutes played</th>\n",
       "      <th>days_injured</th>\n",
       "      <th>games_injured</th>\n",
       "      <th>award</th>\n",
       "      <th>Valuated_price (Euro)</th>\n",
       "      <th>Highest_valuated_price (Euro)</th>\n",
       "      <th>position_encoded</th>\n",
       "    </tr>\n",
       "  </thead>\n",
       "  <tbody>\n",
       "    <tr>\n",
       "      <th>2</th>\n",
       "      <td>Manchester United</td>\n",
       "      <td>Tom Heaton</td>\n",
       "      <td>Goalkeeper</td>\n",
       "      <td>188.0</td>\n",
       "      <td>37</td>\n",
       "      <td>4</td>\n",
       "      <td>0.0</td>\n",
       "      <td>0.0</td>\n",
       "      <td>0.000000</td>\n",
       "      <td>0.0</td>\n",
       "      <td>0.0</td>\n",
       "      <td>0.616438</td>\n",
       "      <td>0.924658</td>\n",
       "      <td>292</td>\n",
       "      <td>697</td>\n",
       "      <td>84</td>\n",
       "      <td>4</td>\n",
       "      <td>600000</td>\n",
       "      <td>6000000</td>\n",
       "      <td>1</td>\n",
       "    </tr>\n",
       "    <tr>\n",
       "      <th>33</th>\n",
       "      <td>West Ham United</td>\n",
       "      <td>Lukasz Fabianski</td>\n",
       "      <td>Goalkeeper</td>\n",
       "      <td>190.0</td>\n",
       "      <td>38</td>\n",
       "      <td>75</td>\n",
       "      <td>0.0</td>\n",
       "      <td>0.0</td>\n",
       "      <td>0.040767</td>\n",
       "      <td>0.0</td>\n",
       "      <td>0.0</td>\n",
       "      <td>1.331723</td>\n",
       "      <td>0.271780</td>\n",
       "      <td>6623</td>\n",
       "      <td>554</td>\n",
       "      <td>99</td>\n",
       "      <td>4</td>\n",
       "      <td>1000000</td>\n",
       "      <td>9000000</td>\n",
       "      <td>1</td>\n",
       "    </tr>\n",
       "  </tbody>\n",
       "</table>\n",
       "</div>"
      ],
      "text/plain": [
       "                 team              name    position  height  age  appearance  \\\n",
       "2   Manchester United        Tom Heaton  Goalkeeper   188.0   37           4   \n",
       "33    West Ham United  Lukasz Fabianski  Goalkeeper   190.0   38          75   \n",
       "\n",
       "    goals  assists  yellow cards  second yellow cards  red cards  \\\n",
       "2     0.0      0.0      0.000000                  0.0        0.0   \n",
       "33    0.0      0.0      0.040767                  0.0        0.0   \n",
       "\n",
       "    goals conceded  clean sheets  minutes played  days_injured  games_injured  \\\n",
       "2         0.616438      0.924658             292           697             84   \n",
       "33        1.331723      0.271780            6623           554             99   \n",
       "\n",
       "    award  Valuated_price (Euro)  Highest_valuated_price (Euro)  \\\n",
       "2       4                 600000                        6000000   \n",
       "33      4                1000000                        9000000   \n",
       "\n",
       "    position_encoded  \n",
       "2                  1  \n",
       "33                 1  "
      ]
     },
     "execution_count": 778,
     "metadata": {},
     "output_type": "execute_result"
    }
   ],
   "source": [
    "goalkeepers_df.head(2)"
   ]
  },
  {
   "cell_type": "code",
   "execution_count": 779,
   "id": "de3f32e5",
   "metadata": {},
   "outputs": [
    {
     "data": {
      "text/plain": [
       "['team', 'position', 'position_encoded', 'appearance']"
      ]
     },
     "execution_count": 779,
     "metadata": {},
     "output_type": "execute_result"
    }
   ],
   "source": [
    "categorical_features"
   ]
  },
  {
   "cell_type": "code",
   "execution_count": 780,
   "id": "45f14b6b",
   "metadata": {},
   "outputs": [],
   "source": [
    "goalkeepers_df = pd.get_dummies(goalkeepers_df, columns=categorical_features)"
   ]
  },
  {
   "cell_type": "code",
   "execution_count": 781,
   "id": "99de4940",
   "metadata": {},
   "outputs": [],
   "source": [
    "goalkeepers_df.drop([\"name\"],axis=1,inplace=True)"
   ]
  },
  {
   "cell_type": "code",
   "execution_count": 782,
   "id": "df57b67d",
   "metadata": {},
   "outputs": [
    {
     "data": {
      "text/plain": [
       "(617, 456)"
      ]
     },
     "execution_count": 782,
     "metadata": {},
     "output_type": "execute_result"
    }
   ],
   "source": [
    "goalkeepers_df.shape"
   ]
  },
  {
   "cell_type": "code",
   "execution_count": 783,
   "id": "3fb3aa97",
   "metadata": {},
   "outputs": [
    {
     "name": "stdout",
     "output_type": "stream",
     "text": [
      "price_category\n",
      "Good_Price     242\n",
      "Cheap_Price    209\n",
      "High_Price     166\n",
      "Name: count, dtype: int64\n"
     ]
    }
   ],
   "source": [
    "# Calculate the 35th and 75th percentiles of the price\n",
    "p35 = goalkeepers_df['Valuated_price (Euro)'].quantile(0.35)\n",
    "p75 = goalkeepers_df['Valuated_price (Euro)'].quantile(0.75)\n",
    "\n",
    "# Function to categorize prices\n",
    "def categorize_price(price):\n",
    "    if price < p35:\n",
    "        return 'Cheap_Price'\n",
    "    elif price < p75:\n",
    "        return 'Good_Price'\n",
    "    else:\n",
    "        return 'High_Price'\n",
    "\n",
    "# Apply the function to create a new column\n",
    "goalkeepers_df['price_category'] = goalkeepers_df['Valuated_price (Euro)'].apply(categorize_price)\n",
    "\n",
    "goalkeepers_df.drop('Valuated_price (Euro)', axis=1, inplace=True)\n",
    "\n",
    "# Verify the distribution of the new categories\n",
    "print(goalkeepers_df['price_category'].value_counts())"
   ]
  },
  {
   "cell_type": "code",
   "execution_count": 784,
   "id": "578988c3",
   "metadata": {},
   "outputs": [
    {
     "data": {
      "text/plain": [
       "(np.float64(450000.0), np.float64(1500000.0))"
      ]
     },
     "execution_count": 784,
     "metadata": {},
     "output_type": "execute_result"
    }
   ],
   "source": [
    "p35, p75"
   ]
  },
  {
   "cell_type": "code",
   "execution_count": 785,
   "id": "4a65dcbc",
   "metadata": {},
   "outputs": [
    {
     "data": {
      "text/plain": [
       "2         Good_Price\n",
       "33        Good_Price\n",
       "54        High_Price\n",
       "55        High_Price\n",
       "56        Good_Price\n",
       "            ...     \n",
       "10674     Good_Price\n",
       "10697     Good_Price\n",
       "10698    Cheap_Price\n",
       "10727     Good_Price\n",
       "10728    Cheap_Price\n",
       "Name: price_category, Length: 617, dtype: object"
      ]
     },
     "execution_count": 785,
     "metadata": {},
     "output_type": "execute_result"
    }
   ],
   "source": [
    "goalkeepers_df['price_category'] "
   ]
  },
  {
   "cell_type": "code",
   "execution_count": 786,
   "id": "4ec94902",
   "metadata": {},
   "outputs": [],
   "source": [
    "encoder = LabelEncoder()\n",
    "goalkeepers_df['price_category_encoded'] = encoder.fit_transform(goalkeepers_df['price_category']) "
   ]
  },
  {
   "cell_type": "markdown",
   "id": "3170ffd2",
   "metadata": {},
   "source": [
    "3. Feature selection"
   ]
  },
  {
   "cell_type": "code",
   "execution_count": 787,
   "id": "f55b8fee",
   "metadata": {},
   "outputs": [
    {
     "name": "stdout",
     "output_type": "stream",
     "text": [
      "price_category_encoded           1.000000\n",
      "Highest_valuated_price (Euro)    0.543640\n",
      "minutes played                   0.327624\n",
      "goals conceded                   0.063024\n",
      "award                            0.058403\n",
      "height                           0.037557\n",
      "games_injured                    0.034426\n",
      "red cards                        0.030505\n",
      "days_injured                     0.018224\n",
      "yellow cards                     0.007505\n",
      "second yellow cards             -0.014778\n",
      "goals                           -0.026760\n",
      "clean sheets                    -0.065140\n",
      "age                             -0.098787\n",
      "assists                               NaN\n",
      "Name: price_category_encoded, dtype: float64\n"
     ]
    }
   ],
   "source": [
    "\n",
    "# Calculate the correlation matrix using only numeric columns\n",
    "numeric_df = goalkeepers_df.select_dtypes(include=['number'])\n",
    "\n",
    "# Calculate correlation matrix\n",
    "correlation = numeric_df.corr()\n",
    "\n",
    "# Sort and print correlation values for 'price_category_encoded'\n",
    "print(correlation['price_category_encoded'].sort_values(ascending=False))\n"
   ]
  },
  {
   "cell_type": "code",
   "execution_count": 788,
   "id": "939b4104",
   "metadata": {},
   "outputs": [
    {
     "data": {
      "text/plain": [
       "Index(['minutes played', 'Highest_valuated_price (Euro)',\n",
       "       'price_category_encoded'],\n",
       "      dtype='object')"
      ]
     },
     "execution_count": 788,
     "metadata": {},
     "output_type": "execute_result"
    }
   ],
   "source": [
    "threshold = 0.1# You can change this value based on your requirement\n",
    "\n",
    "# Filter the correlations\n",
    "# We use `abs()` for absolute value to consider both strong positive and negative correlations\n",
    "selected_features = correlation[abs(correlation['price_category_encoded']) > threshold]['price_category_encoded'].index\n",
    "selected_features"
   ]
  },
  {
   "cell_type": "code",
   "execution_count": 789,
   "id": "e2f083ca",
   "metadata": {},
   "outputs": [],
   "source": [
    "selected_features = ['minutes played', 'Highest_valuated_price (Euro)',\n",
    "       'price_category_encoded']"
   ]
  },
  {
   "cell_type": "markdown",
   "id": "4cb44229",
   "metadata": {},
   "source": [
    "4. Prepare train and test data"
   ]
  },
  {
   "cell_type": "code",
   "execution_count": 790,
   "id": "4efa7b1c",
   "metadata": {},
   "outputs": [
    {
     "name": "stdout",
     "output_type": "stream",
     "text": [
      "height           float64\n",
      "age                int64\n",
      "goals            float64\n",
      "assists          float64\n",
      "yellow cards     float64\n",
      "                  ...   \n",
      "appearance_82       bool\n",
      "appearance_83       bool\n",
      "appearance_87       bool\n",
      "appearance_90       bool\n",
      "appearance_91       bool\n",
      "Length: 455, dtype: object\n",
      "Scaled training data: [[ 0.71389445  0.0108434  -0.10349699 ... -0.05205792  0.\n",
      "  -0.05205792]\n",
      " [ 0.96811114  1.70013062 -0.10349699 ... -0.05205792  0.\n",
      "  -0.05205792]\n",
      " [ 1.98497788 -0.41147841 -0.10349699 ... -0.05205792  0.\n",
      "  -0.05205792]\n",
      " ...\n",
      " [ 0.71389445  0.85548701 -0.10349699 ... -0.05205792  0.\n",
      "  -0.05205792]\n",
      " [-0.55718898 -0.41147841 -0.10349699 ... -0.05205792  0.\n",
      "  -0.05205792]\n",
      " [ 0.45967776 -0.83380021 -0.10349699 ... -0.05205792  0.\n",
      "  -0.05205792]]\n"
     ]
    }
   ],
   "source": [
    "# Prepare data: Features (X) and target (y)\n",
    "X = goalkeepers_df.drop(['price_category', 'price_category_encoded'], axis=1)  # Drop 'price_category' and 'price_category_encoded'\n",
    "y = goalkeepers_df['price_category_encoded']  # Target variable (already encoded)\n",
    "\n",
    "# Check if all columns are numeric in X (features)\n",
    "print(X.dtypes)  # This will show the data types of each column\n",
    "\n",
    "# Split the data into training and testing sets\n",
    "from sklearn.model_selection import train_test_split\n",
    "X_train, X_test, y_train, y_test = train_test_split(X, y,\n",
    "                                                    test_size=0.4,\n",
    "                                                    shuffle=True,\n",
    "                                                    random_state=42)\n",
    "\n",
    "# Scale the features (standardize)\n",
    "from sklearn.preprocessing import StandardScaler\n",
    "scaler = StandardScaler()\n",
    "scaler.fit(X_train)  # Fit the scaler on the training data\n",
    "X_train_scaled = scaler.transform(X_train)  # Transform the training data\n",
    "X_test_scaled = scaler.transform(X_test)  # Transform the test data\n",
    "\n",
    "# Check the scaled data (optional)\n",
    "print(\"Scaled training data:\", X_train_scaled)\n"
   ]
  },
  {
   "cell_type": "code",
   "execution_count": 791,
   "id": "d8b7d148",
   "metadata": {},
   "outputs": [
    {
     "data": {
      "text/plain": [
       "(617, 455)"
      ]
     },
     "execution_count": 791,
     "metadata": {},
     "output_type": "execute_result"
    }
   ],
   "source": [
    "X.shape"
   ]
  },
  {
   "cell_type": "markdown",
   "id": "cd39b008",
   "metadata": {},
   "source": [
    "Buliding the Model"
   ]
  },
  {
   "cell_type": "code",
   "execution_count": 792,
   "id": "069b9c12",
   "metadata": {},
   "outputs": [],
   "source": [
    "model = LogisticRegression()"
   ]
  },
  {
   "cell_type": "markdown",
   "id": "88995d31",
   "metadata": {},
   "source": [
    "Train the Model"
   ]
  },
  {
   "cell_type": "code",
   "execution_count": 793,
   "id": "dd695811",
   "metadata": {},
   "outputs": [
    {
     "data": {
      "text/html": [
       "<style>#sk-container-id-5 {\n",
       "  /* Definition of color scheme common for light and dark mode */\n",
       "  --sklearn-color-text: black;\n",
       "  --sklearn-color-line: gray;\n",
       "  /* Definition of color scheme for unfitted estimators */\n",
       "  --sklearn-color-unfitted-level-0: #fff5e6;\n",
       "  --sklearn-color-unfitted-level-1: #f6e4d2;\n",
       "  --sklearn-color-unfitted-level-2: #ffe0b3;\n",
       "  --sklearn-color-unfitted-level-3: chocolate;\n",
       "  /* Definition of color scheme for fitted estimators */\n",
       "  --sklearn-color-fitted-level-0: #f0f8ff;\n",
       "  --sklearn-color-fitted-level-1: #d4ebff;\n",
       "  --sklearn-color-fitted-level-2: #b3dbfd;\n",
       "  --sklearn-color-fitted-level-3: cornflowerblue;\n",
       "\n",
       "  /* Specific color for light theme */\n",
       "  --sklearn-color-text-on-default-background: var(--sg-text-color, var(--theme-code-foreground, var(--jp-content-font-color1, black)));\n",
       "  --sklearn-color-background: var(--sg-background-color, var(--theme-background, var(--jp-layout-color0, white)));\n",
       "  --sklearn-color-border-box: var(--sg-text-color, var(--theme-code-foreground, var(--jp-content-font-color1, black)));\n",
       "  --sklearn-color-icon: #696969;\n",
       "\n",
       "  @media (prefers-color-scheme: dark) {\n",
       "    /* Redefinition of color scheme for dark theme */\n",
       "    --sklearn-color-text-on-default-background: var(--sg-text-color, var(--theme-code-foreground, var(--jp-content-font-color1, white)));\n",
       "    --sklearn-color-background: var(--sg-background-color, var(--theme-background, var(--jp-layout-color0, #111)));\n",
       "    --sklearn-color-border-box: var(--sg-text-color, var(--theme-code-foreground, var(--jp-content-font-color1, white)));\n",
       "    --sklearn-color-icon: #878787;\n",
       "  }\n",
       "}\n",
       "\n",
       "#sk-container-id-5 {\n",
       "  color: var(--sklearn-color-text);\n",
       "}\n",
       "\n",
       "#sk-container-id-5 pre {\n",
       "  padding: 0;\n",
       "}\n",
       "\n",
       "#sk-container-id-5 input.sk-hidden--visually {\n",
       "  border: 0;\n",
       "  clip: rect(1px 1px 1px 1px);\n",
       "  clip: rect(1px, 1px, 1px, 1px);\n",
       "  height: 1px;\n",
       "  margin: -1px;\n",
       "  overflow: hidden;\n",
       "  padding: 0;\n",
       "  position: absolute;\n",
       "  width: 1px;\n",
       "}\n",
       "\n",
       "#sk-container-id-5 div.sk-dashed-wrapped {\n",
       "  border: 1px dashed var(--sklearn-color-line);\n",
       "  margin: 0 0.4em 0.5em 0.4em;\n",
       "  box-sizing: border-box;\n",
       "  padding-bottom: 0.4em;\n",
       "  background-color: var(--sklearn-color-background);\n",
       "}\n",
       "\n",
       "#sk-container-id-5 div.sk-container {\n",
       "  /* jupyter's `normalize.less` sets `[hidden] { display: none; }`\n",
       "     but bootstrap.min.css set `[hidden] { display: none !important; }`\n",
       "     so we also need the `!important` here to be able to override the\n",
       "     default hidden behavior on the sphinx rendered scikit-learn.org.\n",
       "     See: https://github.com/scikit-learn/scikit-learn/issues/21755 */\n",
       "  display: inline-block !important;\n",
       "  position: relative;\n",
       "}\n",
       "\n",
       "#sk-container-id-5 div.sk-text-repr-fallback {\n",
       "  display: none;\n",
       "}\n",
       "\n",
       "div.sk-parallel-item,\n",
       "div.sk-serial,\n",
       "div.sk-item {\n",
       "  /* draw centered vertical line to link estimators */\n",
       "  background-image: linear-gradient(var(--sklearn-color-text-on-default-background), var(--sklearn-color-text-on-default-background));\n",
       "  background-size: 2px 100%;\n",
       "  background-repeat: no-repeat;\n",
       "  background-position: center center;\n",
       "}\n",
       "\n",
       "/* Parallel-specific style estimator block */\n",
       "\n",
       "#sk-container-id-5 div.sk-parallel-item::after {\n",
       "  content: \"\";\n",
       "  width: 100%;\n",
       "  border-bottom: 2px solid var(--sklearn-color-text-on-default-background);\n",
       "  flex-grow: 1;\n",
       "}\n",
       "\n",
       "#sk-container-id-5 div.sk-parallel {\n",
       "  display: flex;\n",
       "  align-items: stretch;\n",
       "  justify-content: center;\n",
       "  background-color: var(--sklearn-color-background);\n",
       "  position: relative;\n",
       "}\n",
       "\n",
       "#sk-container-id-5 div.sk-parallel-item {\n",
       "  display: flex;\n",
       "  flex-direction: column;\n",
       "}\n",
       "\n",
       "#sk-container-id-5 div.sk-parallel-item:first-child::after {\n",
       "  align-self: flex-end;\n",
       "  width: 50%;\n",
       "}\n",
       "\n",
       "#sk-container-id-5 div.sk-parallel-item:last-child::after {\n",
       "  align-self: flex-start;\n",
       "  width: 50%;\n",
       "}\n",
       "\n",
       "#sk-container-id-5 div.sk-parallel-item:only-child::after {\n",
       "  width: 0;\n",
       "}\n",
       "\n",
       "/* Serial-specific style estimator block */\n",
       "\n",
       "#sk-container-id-5 div.sk-serial {\n",
       "  display: flex;\n",
       "  flex-direction: column;\n",
       "  align-items: center;\n",
       "  background-color: var(--sklearn-color-background);\n",
       "  padding-right: 1em;\n",
       "  padding-left: 1em;\n",
       "}\n",
       "\n",
       "\n",
       "/* Toggleable style: style used for estimator/Pipeline/ColumnTransformer box that is\n",
       "clickable and can be expanded/collapsed.\n",
       "- Pipeline and ColumnTransformer use this feature and define the default style\n",
       "- Estimators will overwrite some part of the style using the `sk-estimator` class\n",
       "*/\n",
       "\n",
       "/* Pipeline and ColumnTransformer style (default) */\n",
       "\n",
       "#sk-container-id-5 div.sk-toggleable {\n",
       "  /* Default theme specific background. It is overwritten whether we have a\n",
       "  specific estimator or a Pipeline/ColumnTransformer */\n",
       "  background-color: var(--sklearn-color-background);\n",
       "}\n",
       "\n",
       "/* Toggleable label */\n",
       "#sk-container-id-5 label.sk-toggleable__label {\n",
       "  cursor: pointer;\n",
       "  display: block;\n",
       "  width: 100%;\n",
       "  margin-bottom: 0;\n",
       "  padding: 0.5em;\n",
       "  box-sizing: border-box;\n",
       "  text-align: center;\n",
       "}\n",
       "\n",
       "#sk-container-id-5 label.sk-toggleable__label-arrow:before {\n",
       "  /* Arrow on the left of the label */\n",
       "  content: \"▸\";\n",
       "  float: left;\n",
       "  margin-right: 0.25em;\n",
       "  color: var(--sklearn-color-icon);\n",
       "}\n",
       "\n",
       "#sk-container-id-5 label.sk-toggleable__label-arrow:hover:before {\n",
       "  color: var(--sklearn-color-text);\n",
       "}\n",
       "\n",
       "/* Toggleable content - dropdown */\n",
       "\n",
       "#sk-container-id-5 div.sk-toggleable__content {\n",
       "  max-height: 0;\n",
       "  max-width: 0;\n",
       "  overflow: hidden;\n",
       "  text-align: left;\n",
       "  /* unfitted */\n",
       "  background-color: var(--sklearn-color-unfitted-level-0);\n",
       "}\n",
       "\n",
       "#sk-container-id-5 div.sk-toggleable__content.fitted {\n",
       "  /* fitted */\n",
       "  background-color: var(--sklearn-color-fitted-level-0);\n",
       "}\n",
       "\n",
       "#sk-container-id-5 div.sk-toggleable__content pre {\n",
       "  margin: 0.2em;\n",
       "  border-radius: 0.25em;\n",
       "  color: var(--sklearn-color-text);\n",
       "  /* unfitted */\n",
       "  background-color: var(--sklearn-color-unfitted-level-0);\n",
       "}\n",
       "\n",
       "#sk-container-id-5 div.sk-toggleable__content.fitted pre {\n",
       "  /* unfitted */\n",
       "  background-color: var(--sklearn-color-fitted-level-0);\n",
       "}\n",
       "\n",
       "#sk-container-id-5 input.sk-toggleable__control:checked~div.sk-toggleable__content {\n",
       "  /* Expand drop-down */\n",
       "  max-height: 200px;\n",
       "  max-width: 100%;\n",
       "  overflow: auto;\n",
       "}\n",
       "\n",
       "#sk-container-id-5 input.sk-toggleable__control:checked~label.sk-toggleable__label-arrow:before {\n",
       "  content: \"▾\";\n",
       "}\n",
       "\n",
       "/* Pipeline/ColumnTransformer-specific style */\n",
       "\n",
       "#sk-container-id-5 div.sk-label input.sk-toggleable__control:checked~label.sk-toggleable__label {\n",
       "  color: var(--sklearn-color-text);\n",
       "  background-color: var(--sklearn-color-unfitted-level-2);\n",
       "}\n",
       "\n",
       "#sk-container-id-5 div.sk-label.fitted input.sk-toggleable__control:checked~label.sk-toggleable__label {\n",
       "  background-color: var(--sklearn-color-fitted-level-2);\n",
       "}\n",
       "\n",
       "/* Estimator-specific style */\n",
       "\n",
       "/* Colorize estimator box */\n",
       "#sk-container-id-5 div.sk-estimator input.sk-toggleable__control:checked~label.sk-toggleable__label {\n",
       "  /* unfitted */\n",
       "  background-color: var(--sklearn-color-unfitted-level-2);\n",
       "}\n",
       "\n",
       "#sk-container-id-5 div.sk-estimator.fitted input.sk-toggleable__control:checked~label.sk-toggleable__label {\n",
       "  /* fitted */\n",
       "  background-color: var(--sklearn-color-fitted-level-2);\n",
       "}\n",
       "\n",
       "#sk-container-id-5 div.sk-label label.sk-toggleable__label,\n",
       "#sk-container-id-5 div.sk-label label {\n",
       "  /* The background is the default theme color */\n",
       "  color: var(--sklearn-color-text-on-default-background);\n",
       "}\n",
       "\n",
       "/* On hover, darken the color of the background */\n",
       "#sk-container-id-5 div.sk-label:hover label.sk-toggleable__label {\n",
       "  color: var(--sklearn-color-text);\n",
       "  background-color: var(--sklearn-color-unfitted-level-2);\n",
       "}\n",
       "\n",
       "/* Label box, darken color on hover, fitted */\n",
       "#sk-container-id-5 div.sk-label.fitted:hover label.sk-toggleable__label.fitted {\n",
       "  color: var(--sklearn-color-text);\n",
       "  background-color: var(--sklearn-color-fitted-level-2);\n",
       "}\n",
       "\n",
       "/* Estimator label */\n",
       "\n",
       "#sk-container-id-5 div.sk-label label {\n",
       "  font-family: monospace;\n",
       "  font-weight: bold;\n",
       "  display: inline-block;\n",
       "  line-height: 1.2em;\n",
       "}\n",
       "\n",
       "#sk-container-id-5 div.sk-label-container {\n",
       "  text-align: center;\n",
       "}\n",
       "\n",
       "/* Estimator-specific */\n",
       "#sk-container-id-5 div.sk-estimator {\n",
       "  font-family: monospace;\n",
       "  border: 1px dotted var(--sklearn-color-border-box);\n",
       "  border-radius: 0.25em;\n",
       "  box-sizing: border-box;\n",
       "  margin-bottom: 0.5em;\n",
       "  /* unfitted */\n",
       "  background-color: var(--sklearn-color-unfitted-level-0);\n",
       "}\n",
       "\n",
       "#sk-container-id-5 div.sk-estimator.fitted {\n",
       "  /* fitted */\n",
       "  background-color: var(--sklearn-color-fitted-level-0);\n",
       "}\n",
       "\n",
       "/* on hover */\n",
       "#sk-container-id-5 div.sk-estimator:hover {\n",
       "  /* unfitted */\n",
       "  background-color: var(--sklearn-color-unfitted-level-2);\n",
       "}\n",
       "\n",
       "#sk-container-id-5 div.sk-estimator.fitted:hover {\n",
       "  /* fitted */\n",
       "  background-color: var(--sklearn-color-fitted-level-2);\n",
       "}\n",
       "\n",
       "/* Specification for estimator info (e.g. \"i\" and \"?\") */\n",
       "\n",
       "/* Common style for \"i\" and \"?\" */\n",
       "\n",
       ".sk-estimator-doc-link,\n",
       "a:link.sk-estimator-doc-link,\n",
       "a:visited.sk-estimator-doc-link {\n",
       "  float: right;\n",
       "  font-size: smaller;\n",
       "  line-height: 1em;\n",
       "  font-family: monospace;\n",
       "  background-color: var(--sklearn-color-background);\n",
       "  border-radius: 1em;\n",
       "  height: 1em;\n",
       "  width: 1em;\n",
       "  text-decoration: none !important;\n",
       "  margin-left: 1ex;\n",
       "  /* unfitted */\n",
       "  border: var(--sklearn-color-unfitted-level-1) 1pt solid;\n",
       "  color: var(--sklearn-color-unfitted-level-1);\n",
       "}\n",
       "\n",
       ".sk-estimator-doc-link.fitted,\n",
       "a:link.sk-estimator-doc-link.fitted,\n",
       "a:visited.sk-estimator-doc-link.fitted {\n",
       "  /* fitted */\n",
       "  border: var(--sklearn-color-fitted-level-1) 1pt solid;\n",
       "  color: var(--sklearn-color-fitted-level-1);\n",
       "}\n",
       "\n",
       "/* On hover */\n",
       "div.sk-estimator:hover .sk-estimator-doc-link:hover,\n",
       ".sk-estimator-doc-link:hover,\n",
       "div.sk-label-container:hover .sk-estimator-doc-link:hover,\n",
       ".sk-estimator-doc-link:hover {\n",
       "  /* unfitted */\n",
       "  background-color: var(--sklearn-color-unfitted-level-3);\n",
       "  color: var(--sklearn-color-background);\n",
       "  text-decoration: none;\n",
       "}\n",
       "\n",
       "div.sk-estimator.fitted:hover .sk-estimator-doc-link.fitted:hover,\n",
       ".sk-estimator-doc-link.fitted:hover,\n",
       "div.sk-label-container:hover .sk-estimator-doc-link.fitted:hover,\n",
       ".sk-estimator-doc-link.fitted:hover {\n",
       "  /* fitted */\n",
       "  background-color: var(--sklearn-color-fitted-level-3);\n",
       "  color: var(--sklearn-color-background);\n",
       "  text-decoration: none;\n",
       "}\n",
       "\n",
       "/* Span, style for the box shown on hovering the info icon */\n",
       ".sk-estimator-doc-link span {\n",
       "  display: none;\n",
       "  z-index: 9999;\n",
       "  position: relative;\n",
       "  font-weight: normal;\n",
       "  right: .2ex;\n",
       "  padding: .5ex;\n",
       "  margin: .5ex;\n",
       "  width: min-content;\n",
       "  min-width: 20ex;\n",
       "  max-width: 50ex;\n",
       "  color: var(--sklearn-color-text);\n",
       "  box-shadow: 2pt 2pt 4pt #999;\n",
       "  /* unfitted */\n",
       "  background: var(--sklearn-color-unfitted-level-0);\n",
       "  border: .5pt solid var(--sklearn-color-unfitted-level-3);\n",
       "}\n",
       "\n",
       ".sk-estimator-doc-link.fitted span {\n",
       "  /* fitted */\n",
       "  background: var(--sklearn-color-fitted-level-0);\n",
       "  border: var(--sklearn-color-fitted-level-3);\n",
       "}\n",
       "\n",
       ".sk-estimator-doc-link:hover span {\n",
       "  display: block;\n",
       "}\n",
       "\n",
       "/* \"?\"-specific style due to the `<a>` HTML tag */\n",
       "\n",
       "#sk-container-id-5 a.estimator_doc_link {\n",
       "  float: right;\n",
       "  font-size: 1rem;\n",
       "  line-height: 1em;\n",
       "  font-family: monospace;\n",
       "  background-color: var(--sklearn-color-background);\n",
       "  border-radius: 1rem;\n",
       "  height: 1rem;\n",
       "  width: 1rem;\n",
       "  text-decoration: none;\n",
       "  /* unfitted */\n",
       "  color: var(--sklearn-color-unfitted-level-1);\n",
       "  border: var(--sklearn-color-unfitted-level-1) 1pt solid;\n",
       "}\n",
       "\n",
       "#sk-container-id-5 a.estimator_doc_link.fitted {\n",
       "  /* fitted */\n",
       "  border: var(--sklearn-color-fitted-level-1) 1pt solid;\n",
       "  color: var(--sklearn-color-fitted-level-1);\n",
       "}\n",
       "\n",
       "/* On hover */\n",
       "#sk-container-id-5 a.estimator_doc_link:hover {\n",
       "  /* unfitted */\n",
       "  background-color: var(--sklearn-color-unfitted-level-3);\n",
       "  color: var(--sklearn-color-background);\n",
       "  text-decoration: none;\n",
       "}\n",
       "\n",
       "#sk-container-id-5 a.estimator_doc_link.fitted:hover {\n",
       "  /* fitted */\n",
       "  background-color: var(--sklearn-color-fitted-level-3);\n",
       "}\n",
       "</style><div id=\"sk-container-id-5\" class=\"sk-top-container\"><div class=\"sk-text-repr-fallback\"><pre>LogisticRegression()</pre><b>In a Jupyter environment, please rerun this cell to show the HTML representation or trust the notebook. <br />On GitHub, the HTML representation is unable to render, please try loading this page with nbviewer.org.</b></div><div class=\"sk-container\" hidden><div class=\"sk-item\"><div class=\"sk-estimator fitted sk-toggleable\"><input class=\"sk-toggleable__control sk-hidden--visually\" id=\"sk-estimator-id-5\" type=\"checkbox\" checked><label for=\"sk-estimator-id-5\" class=\"sk-toggleable__label fitted sk-toggleable__label-arrow fitted\">&nbsp;&nbsp;LogisticRegression<a class=\"sk-estimator-doc-link fitted\" rel=\"noreferrer\" target=\"_blank\" href=\"https://scikit-learn.org/1.5/modules/generated/sklearn.linear_model.LogisticRegression.html\">?<span>Documentation for LogisticRegression</span></a><span class=\"sk-estimator-doc-link fitted\">i<span>Fitted</span></span></label><div class=\"sk-toggleable__content fitted\"><pre>LogisticRegression()</pre></div> </div></div></div></div>"
      ],
      "text/plain": [
       "LogisticRegression()"
      ]
     },
     "execution_count": 793,
     "metadata": {},
     "output_type": "execute_result"
    }
   ],
   "source": [
    "model.fit(X_train_scaled, y_train)"
   ]
  },
  {
   "cell_type": "markdown",
   "id": "e09a4a90",
   "metadata": {},
   "source": [
    "Test the Model"
   ]
  },
  {
   "cell_type": "code",
   "execution_count": 794,
   "id": "292086c7",
   "metadata": {},
   "outputs": [],
   "source": [
    "y_pred_test = model.predict(X_test_scaled)"
   ]
  },
  {
   "cell_type": "markdown",
   "id": "49c59233",
   "metadata": {},
   "source": [
    "Interpretation of the Model"
   ]
  },
  {
   "cell_type": "code",
   "execution_count": 795,
   "id": "70877673",
   "metadata": {},
   "outputs": [
    {
     "data": {
      "text/html": [
       "<div>\n",
       "<style scoped>\n",
       "    .dataframe tbody tr th:only-of-type {\n",
       "        vertical-align: middle;\n",
       "    }\n",
       "\n",
       "    .dataframe tbody tr th {\n",
       "        vertical-align: top;\n",
       "    }\n",
       "\n",
       "    .dataframe thead th {\n",
       "        text-align: right;\n",
       "    }\n",
       "</style>\n",
       "<table border=\"1\" class=\"dataframe\">\n",
       "  <thead>\n",
       "    <tr style=\"text-align: right;\">\n",
       "      <th></th>\n",
       "      <th>Coefficient</th>\n",
       "    </tr>\n",
       "  </thead>\n",
       "  <tbody>\n",
       "    <tr>\n",
       "      <th>height</th>\n",
       "      <td>-0.241088</td>\n",
       "    </tr>\n",
       "    <tr>\n",
       "      <th>age</th>\n",
       "      <td>-0.584496</td>\n",
       "    </tr>\n",
       "    <tr>\n",
       "      <th>goals</th>\n",
       "      <td>0.026078</td>\n",
       "    </tr>\n",
       "    <tr>\n",
       "      <th>assists</th>\n",
       "      <td>0.000000</td>\n",
       "    </tr>\n",
       "    <tr>\n",
       "      <th>yellow cards</th>\n",
       "      <td>-0.127799</td>\n",
       "    </tr>\n",
       "    <tr>\n",
       "      <th>...</th>\n",
       "      <td>...</td>\n",
       "    </tr>\n",
       "    <tr>\n",
       "      <th>appearance_82</th>\n",
       "      <td>0.048277</td>\n",
       "    </tr>\n",
       "    <tr>\n",
       "      <th>appearance_83</th>\n",
       "      <td>0.071979</td>\n",
       "    </tr>\n",
       "    <tr>\n",
       "      <th>appearance_87</th>\n",
       "      <td>0.061436</td>\n",
       "    </tr>\n",
       "    <tr>\n",
       "      <th>appearance_90</th>\n",
       "      <td>0.000000</td>\n",
       "    </tr>\n",
       "    <tr>\n",
       "      <th>appearance_91</th>\n",
       "      <td>0.050777</td>\n",
       "    </tr>\n",
       "  </tbody>\n",
       "</table>\n",
       "<p>455 rows × 1 columns</p>\n",
       "</div>"
      ],
      "text/plain": [
       "               Coefficient\n",
       "height           -0.241088\n",
       "age              -0.584496\n",
       "goals             0.026078\n",
       "assists           0.000000\n",
       "yellow cards     -0.127799\n",
       "...                    ...\n",
       "appearance_82     0.048277\n",
       "appearance_83     0.071979\n",
       "appearance_87     0.061436\n",
       "appearance_90     0.000000\n",
       "appearance_91     0.050777\n",
       "\n",
       "[455 rows x 1 columns]"
      ]
     },
     "execution_count": 795,
     "metadata": {},
     "output_type": "execute_result"
    }
   ],
   "source": [
    "# Each row of the model.coef_ matrix tells you how each feature affects being in the corresponding class versus any other class\n",
    "coeff_df = pd.DataFrame(model.coef_[2],X.columns,columns=['Coefficient'])\n",
    "coeff_df"
   ]
  },
  {
   "cell_type": "code",
   "execution_count": 796,
   "id": "68e54113",
   "metadata": {},
   "outputs": [
    {
     "data": {
      "text/plain": [
       "array([[ 0.46099412,  0.21274473,  0.08983589, ..., -0.00833156,\n",
       "         0.        , -0.00386564],\n",
       "       [-0.21990625,  0.37175105, -0.115914  , ..., -0.05310444,\n",
       "         0.        , -0.04691117],\n",
       "       [-0.24108788, -0.58449578,  0.02607812, ...,  0.061436  ,\n",
       "         0.        ,  0.05077681]])"
      ]
     },
     "execution_count": 796,
     "metadata": {},
     "output_type": "execute_result"
    }
   ],
   "source": [
    "model.coef_"
   ]
  },
  {
   "cell_type": "code",
   "execution_count": 797,
   "id": "c72fd7da",
   "metadata": {},
   "outputs": [
    {
     "name": "stdout",
     "output_type": "stream",
     "text": [
      "[-0.10099471  0.69036448 -0.58936977]\n"
     ]
    }
   ],
   "source": [
    "print(model.intercept_)"
   ]
  },
  {
   "cell_type": "markdown",
   "id": "22ee9570",
   "metadata": {},
   "source": [
    "Evaluating the Model"
   ]
  },
  {
   "cell_type": "code",
   "execution_count": 798,
   "id": "0e3c5469",
   "metadata": {},
   "outputs": [
    {
     "data": {
      "text/plain": [
       "1.0"
      ]
     },
     "execution_count": 798,
     "metadata": {},
     "output_type": "execute_result"
    }
   ],
   "source": [
    "# Train score\n",
    "y_pred_train = model.predict(X_train_scaled)\n",
    "accuracy_Train = accuracy_score(y_train, y_pred_train)\n",
    "accuracy_Train"
   ]
  },
  {
   "cell_type": "code",
   "execution_count": 799,
   "id": "b116744c",
   "metadata": {},
   "outputs": [
    {
     "data": {
      "text/plain": [
       "0.5020242914979757"
      ]
     },
     "execution_count": 799,
     "metadata": {},
     "output_type": "execute_result"
    }
   ],
   "source": [
    "# Test score\n",
    "accuracy_test = accuracy_score(y_test, y_pred_test)\n",
    "accuracy_test"
   ]
  },
  {
   "cell_type": "code",
   "execution_count": 800,
   "id": "9e0f8c9d",
   "metadata": {},
   "outputs": [
    {
     "data": {
      "text/plain": [
       "array([[46, 30, 10],\n",
       "       [36, 46, 14],\n",
       "       [11, 22, 32]])"
      ]
     },
     "execution_count": 800,
     "metadata": {},
     "output_type": "execute_result"
    }
   ],
   "source": [
    "conf_matrix = confusion_matrix(y_test, y_pred_test)\n",
    "conf_matrix"
   ]
  },
  {
   "cell_type": "code",
   "execution_count": 801,
   "id": "d0c48dcd",
   "metadata": {},
   "outputs": [
    {
     "data": {
      "image/png": "[encoded data removed]",
      "text/plain": [
       "<Figure size 640x480 with 2 Axes>"
      ]
     },
     "metadata": {},
     "output_type": "display_data"
    }
   ],
   "source": [
    "from sklearn.metrics import confusion_matrix, ConfusionMatrixDisplay\n",
    "\n",
    "ConfusionMatrixDisplay.from_predictions(y_test, y_pred_test,\n",
    "                                        display_labels=model.classes_,\n",
    "                                        cmap=\"Blues\",\n",
    "                                        xticks_rotation='vertical')\n",
    "plt.title('Confusion Matrix')\n",
    "plt.show()"
   ]
  },
  {
   "cell_type": "code",
   "execution_count": 802,
   "id": "d103e045",
   "metadata": {},
   "outputs": [
    {
     "name": "stdout",
     "output_type": "stream",
     "text": [
      "Precision in train: 1.00\n",
      "Precision in test: 0.51\n"
     ]
    }
   ],
   "source": [
    "# Train score\n",
    "precision_train = precision_score(y_train, y_pred_train, average='macro')\n",
    "print(f\"Precision in train: {precision_train:.2f}\")\n",
    "\n",
    "# Test score\n",
    "precision_test = precision_score(y_test, y_pred_test, average='macro')\n",
    "print(f\"Precision in test: {precision_test:.2f}\")"
   ]
  },
  {
   "cell_type": "code",
   "execution_count": 803,
   "id": "7621e49d",
   "metadata": {},
   "outputs": [
    {
     "name": "stdout",
     "output_type": "stream",
     "text": [
      "Recall in train: 1.00\n",
      "Recall in test: 0.50\n"
     ]
    }
   ],
   "source": [
    "# Train score\n",
    "recall_train = recall_score(y_train, y_pred_train, average='macro')\n",
    "print(f\"Recall in train: {recall_train:.2f}\")\n",
    "\n",
    "# Test score\n",
    "recall_test = recall_score(y_test, y_pred_test, average='macro')\n",
    "print(f\"Recall in test: {recall_test:.2f}\")"
   ]
  },
  {
   "cell_type": "code",
   "execution_count": 804,
   "id": "71c2e974",
   "metadata": {},
   "outputs": [
    {
     "name": "stdout",
     "output_type": "stream",
     "text": [
      "f1-score in train: 1.00\n",
      "f1-score in test: 0.51\n"
     ]
    }
   ],
   "source": [
    "# Train score\n",
    "f1_train = f1_score(y_train, y_pred_train, average='macro')\n",
    "print(f\"f1-score in train: {f1_train:.2f}\")\n",
    "\n",
    "# Test score\n",
    "f1_test = precision_score(y_test, y_pred_test, average='macro')\n",
    "print(f\"f1-score in test: {f1_test:.2f}\")"
   ]
  },
  {
   "cell_type": "code",
   "execution_count": 805,
   "id": "3c742183",
   "metadata": {},
   "outputs": [
    {
     "name": "stdout",
     "output_type": "stream",
     "text": [
      "Train report: \n",
      "              precision    recall  f1-score   support\n",
      "\n",
      "           0       1.00      1.00      1.00       123\n",
      "           1       1.00      1.00      1.00       146\n",
      "           2       1.00      1.00      1.00       101\n",
      "\n",
      "    accuracy                           1.00       370\n",
      "   macro avg       1.00      1.00      1.00       370\n",
      "weighted avg       1.00      1.00      1.00       370\n",
      "\n",
      "Test report: \n",
      "              precision    recall  f1-score   support\n",
      "\n",
      "           0       0.49      0.53      0.51        86\n",
      "           1       0.47      0.48      0.47        96\n",
      "           2       0.57      0.49      0.53        65\n",
      "\n",
      "    accuracy                           0.50       247\n",
      "   macro avg       0.51      0.50      0.51       247\n",
      "weighted avg       0.51      0.50      0.50       247\n",
      "\n"
     ]
    }
   ],
   "source": [
    "from sklearn.metrics import classification_report\n",
    "\n",
    "print('Train report: ')\n",
    "print(classification_report(y_train, y_pred_train))\n",
    "\n",
    "print('Test report: ')\n",
    "print(classification_report(y_test, y_pred_test))"
   ]
  }
 ],
 "metadata": {
  "kernelspec": {
   "display_name": "Python 3",
   "language": "python",
   "name": "python3"
  },
  "language_info": {
   "codemirror_mode": {
    "name": "ipython",
    "version": 3
   },
   "file_extension": ".py",
   "mimetype": "text/x-python",
   "name": "python",
   "nbconvert_exporter": "python",
   "pygments_lexer": "ipython3",
   "version": "3.9.13"
  }
 },
 "nbformat": 4,
 "nbformat_minor": 5
}
